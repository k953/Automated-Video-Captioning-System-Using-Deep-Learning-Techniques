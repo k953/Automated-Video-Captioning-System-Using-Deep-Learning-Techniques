{
  "nbformat": 4,
  "nbformat_minor": 0,
  "metadata": {
    "colab": {
      "provenance": [],
      "gpuType": "T4"
    },
    "kernelspec": {
      "name": "python3",
      "display_name": "Python 3"
    },
    "language_info": {
      "name": "python"
    },
    "accelerator": "GPU"
  },
  "cells": [
    {
      "cell_type": "code",
      "execution_count": null,
      "metadata": {
        "colab": {
          "base_uri": "https://localhost:8080/"
        },
        "id": "m_XpamuNcZjA",
        "outputId": "f2f8b8e7-f02b-48f4-fda3-ea26f4f26a90"
      },
      "outputs": [
        {
          "output_type": "stream",
          "name": "stdout",
          "text": [
            "Mounted at /content/drive\n"
          ]
        }
      ],
      "source": [
        "from google.colab import drive\n",
        "drive.mount('/content/drive', force_remount=True)"
      ]
    },
    {
      "cell_type": "code",
      "source": [
        "import torch\n",
        "print(torch.cuda.is_available())"
      ],
      "metadata": {
        "colab": {
          "base_uri": "https://localhost:8080/"
        },
        "id": "baFdE_w2cvX5",
        "outputId": "5ccd0dc5-bfd9-42d2-a226-d326ae03b77d"
      },
      "execution_count": null,
      "outputs": [
        {
          "output_type": "stream",
          "name": "stdout",
          "text": [
            "True\n"
          ]
        }
      ]
    },
    {
      "cell_type": "code",
      "source": [
        "# Install the required libraries\n",
        "!pip install numpy torch torchvision nltk"
      ],
      "metadata": {
        "colab": {
          "base_uri": "https://localhost:8080/"
        },
        "id": "4Elks3pRcyr5",
        "outputId": "cb97fe20-8f40-4b14-d76b-d68f92cc9092"
      },
      "execution_count": null,
      "outputs": [
        {
          "output_type": "stream",
          "name": "stdout",
          "text": [
            "Requirement already satisfied: numpy in /usr/local/lib/python3.11/dist-packages (2.0.2)\n",
            "Requirement already satisfied: torch in /usr/local/lib/python3.11/dist-packages (2.6.0+cu124)\n",
            "Requirement already satisfied: torchvision in /usr/local/lib/python3.11/dist-packages (0.21.0+cu124)\n",
            "Requirement already satisfied: nltk in /usr/local/lib/python3.11/dist-packages (3.9.1)\n",
            "Requirement already satisfied: filelock in /usr/local/lib/python3.11/dist-packages (from torch) (3.18.0)\n",
            "Requirement already satisfied: typing-extensions>=4.10.0 in /usr/local/lib/python3.11/dist-packages (from torch) (4.13.2)\n",
            "Requirement already satisfied: networkx in /usr/local/lib/python3.11/dist-packages (from torch) (3.4.2)\n",
            "Requirement already satisfied: jinja2 in /usr/local/lib/python3.11/dist-packages (from torch) (3.1.6)\n",
            "Requirement already satisfied: fsspec in /usr/local/lib/python3.11/dist-packages (from torch) (2025.3.2)\n",
            "Requirement already satisfied: nvidia-cuda-nvrtc-cu12==12.4.127 in /usr/local/lib/python3.11/dist-packages (from torch) (12.4.127)\n",
            "Requirement already satisfied: nvidia-cuda-runtime-cu12==12.4.127 in /usr/local/lib/python3.11/dist-packages (from torch) (12.4.127)\n",
            "Requirement already satisfied: nvidia-cuda-cupti-cu12==12.4.127 in /usr/local/lib/python3.11/dist-packages (from torch) (12.4.127)\n",
            "Requirement already satisfied: nvidia-cudnn-cu12==9.1.0.70 in /usr/local/lib/python3.11/dist-packages (from torch) (9.1.0.70)\n",
            "Requirement already satisfied: nvidia-cublas-cu12==12.4.5.8 in /usr/local/lib/python3.11/dist-packages (from torch) (12.4.5.8)\n",
            "Requirement already satisfied: nvidia-cufft-cu12==11.2.1.3 in /usr/local/lib/python3.11/dist-packages (from torch) (11.2.1.3)\n",
            "Requirement already satisfied: nvidia-curand-cu12==10.3.5.147 in /usr/local/lib/python3.11/dist-packages (from torch) (10.3.5.147)\n",
            "Requirement already satisfied: nvidia-cusolver-cu12==11.6.1.9 in /usr/local/lib/python3.11/dist-packages (from torch) (11.6.1.9)\n",
            "Requirement already satisfied: nvidia-cusparse-cu12==12.3.1.170 in /usr/local/lib/python3.11/dist-packages (from torch) (12.3.1.170)\n",
            "Requirement already satisfied: nvidia-cusparselt-cu12==0.6.2 in /usr/local/lib/python3.11/dist-packages (from torch) (0.6.2)\n",
            "Requirement already satisfied: nvidia-nccl-cu12==2.21.5 in /usr/local/lib/python3.11/dist-packages (from torch) (2.21.5)\n",
            "Requirement already satisfied: nvidia-nvtx-cu12==12.4.127 in /usr/local/lib/python3.11/dist-packages (from torch) (12.4.127)\n",
            "Requirement already satisfied: nvidia-nvjitlink-cu12==12.4.127 in /usr/local/lib/python3.11/dist-packages (from torch) (12.4.127)\n",
            "Requirement already satisfied: triton==3.2.0 in /usr/local/lib/python3.11/dist-packages (from torch) (3.2.0)\n",
            "Requirement already satisfied: sympy==1.13.1 in /usr/local/lib/python3.11/dist-packages (from torch) (1.13.1)\n",
            "Requirement already satisfied: mpmath<1.4,>=1.1.0 in /usr/local/lib/python3.11/dist-packages (from sympy==1.13.1->torch) (1.3.0)\n",
            "Requirement already satisfied: pillow!=8.3.*,>=5.3.0 in /usr/local/lib/python3.11/dist-packages (from torchvision) (11.1.0)\n",
            "Requirement already satisfied: click in /usr/local/lib/python3.11/dist-packages (from nltk) (8.1.8)\n",
            "Requirement already satisfied: joblib in /usr/local/lib/python3.11/dist-packages (from nltk) (1.4.2)\n",
            "Requirement already satisfied: regex>=2021.8.3 in /usr/local/lib/python3.11/dist-packages (from nltk) (2024.11.6)\n",
            "Requirement already satisfied: tqdm in /usr/local/lib/python3.11/dist-packages (from nltk) (4.67.1)\n",
            "Requirement already satisfied: MarkupSafe>=2.0 in /usr/local/lib/python3.11/dist-packages (from jinja2->torch) (3.0.2)\n"
          ]
        }
      ]
    },
    {
      "cell_type": "code",
      "source": [
        "#verification for split\n",
        "\n",
        "import os\n",
        "import json\n",
        "\n",
        "def verify_split_integrity(split_name, base_dir):\n",
        "    \"\"\"\n",
        "    Verifies that each video in the split has a corresponding entry in the JSON file\n",
        "    and each entry in the JSON file has a corresponding video file.\n",
        "\n",
        "    Args:\n",
        "        split_name (str): Name of the split (e.g., 'train', 'val', 'test').\n",
        "        base_dir (str): Base directory where splits are stored (e.g., '/content/drive/MyDrive/VideoCaptioning/msvd_split/').\n",
        "    \"\"\"\n",
        "    video_dir = os.path.join(base_dir, split_name, 'videos')\n",
        "    json_path = os.path.join(base_dir, split_name, f\"{split_name}_captions.json\")\n",
        "\n",
        "    # Load JSON data\n",
        "    with open(json_path, 'r') as f:\n",
        "        json_data = json.load(f)\n",
        "\n",
        "    # Get the list of video files and remove file extensions\n",
        "    video_files = {os.path.splitext(file)[0] for file in os.listdir(video_dir) if file.endswith('.avi')}\n",
        "\n",
        "    # Get the list of video_ids from JSON \"videos\" section\n",
        "    json_video_ids = {video['video_id'] for video in json_data['videos']}\n",
        "\n",
        "    # Check that each video file has a corresponding entry in JSON \"videos\" section\n",
        "    missing_in_json_videos = video_files - json_video_ids\n",
        "    if missing_in_json_videos:\n",
        "        print(f\"[{split_name}] Videos present in folder but missing in JSON 'videos' section: {missing_in_json_videos}\")\n",
        "    else:\n",
        "        print(f\"[{split_name}] All videos in folder have matching entries in JSON 'videos' section.\")\n",
        "\n",
        "    # Check that each JSON entry in \"videos\" section has a corresponding video file in the folder\n",
        "    missing_in_videos_folder = json_video_ids - video_files\n",
        "    if missing_in_videos_folder:\n",
        "        print(f\"[{split_name}] Entries in JSON 'videos' section but missing video files: {missing_in_videos_folder}\")\n",
        "    else:\n",
        "        print(f\"[{split_name}] All entries in JSON 'videos' section have matching video files in folder.\")\n",
        "\n",
        "    # Get the list of video_ids from JSON \"sentences\" section\n",
        "    json_caption_video_ids = {sentence['video_id'] for sentence in json_data['sentences']}\n",
        "\n",
        "    # Check that each video file has a corresponding caption in JSON \"sentences\" section\n",
        "    missing_captions_for_videos = video_files - json_caption_video_ids\n",
        "    if missing_captions_for_videos:\n",
        "        print(f\"[{split_name}] Videos present in folder but missing captions in JSON 'sentences' section: {missing_captions_for_videos}\")\n",
        "    else:\n",
        "        print(f\"[{split_name}] All videos in folder have matching captions in JSON 'sentences' section.\")\n",
        "\n",
        "    # Check that each JSON entry in \"sentences\" section has a corresponding video file in the folder\n",
        "    missing_videos_for_captions = json_caption_video_ids - video_files\n",
        "    if missing_videos_for_captions:\n",
        "        print(f\"[{split_name}] Captions in JSON 'sentences' section but missing video files: {missing_videos_for_captions}\")\n",
        "    else:\n",
        "        print(f\"[{split_name}] All captions in JSON 'sentences' section have matching video files in folder.\")\n",
        "\n",
        "# Run verification for each split\n",
        "base_dir = '/content/drive/MyDrive/VideoCaptioning/msvd_split'  # Change to your base directory if different\n",
        "for split in ['train', 'val', 'test']:\n",
        "    verify_split_integrity(split, base_dir)"
      ],
      "metadata": {
        "colab": {
          "base_uri": "https://localhost:8080/"
        },
        "id": "ZNmTOWlgdRL0",
        "outputId": "19435db4-de52-4400-c7d7-82f0e4044ca4"
      },
      "execution_count": null,
      "outputs": [
        {
          "output_type": "stream",
          "name": "stdout",
          "text": [
            "[train] Videos present in folder but missing in JSON 'videos' section: {'74tRCYS_534_49_57', 'Sq7Vt6KC9Yg_17_35', 'MMnnqzOoMF0_68_72', 'E2r6nnkwl0c_6_18', '7s0AXJtLL0Y_57_61', '_O9kWD8nuRU_16_23', '1RchFBCT9JU_43_53', 'qLwgb3F0aPU_298_305', 'c75SIlAjfjg_6_14', '2YhDTpzxd3c_174_180', 'EjAoBKagWQA_132_145', '-_hbPLsZvvo_269_275', 'PJnJMp2ZpbA_3_15', 'iTA0rWPE4nY_17_23', 'Gh4Beb8StFM_29_50', '4QdX5Q3qQsQ_6_14', 'HPFLN5azwtA_56_63', 'uqVCk2oDpSE_194_200', 'RMznbCn5sQs_0_10', 'crfrKqFp0Zg_15_25', 'q-a6NEotUX8_5_10', 'dtn0PuxgfkM_0_5', 'K1ZM0LSLVw8_488_494', 'nd0ToNwccl4_12_17', 'WTf5EgVY5uU_94_98', 'glrijRGnmc0_211_215', 'eZLxohGP4IE_15_25', 'Kxa0mnDj0bs_113_124', 'cWOPC2kt_IA_8_16', 'MICawzo1MqI_3_13', 'tHLiYTS9Iz8_1_16', 'CwPfvoqmV1Q_58_61', '_WRC7HXBJpU_386_391', 'SzEbtbNSg04_214_224', 'rw9h_574HxE_251_254', 'ACOmKiJDkA4_161_170', 'FwCmcZpkk-k_22_32', 'c76tShLfQb0_74_81', 'qeKX-N1nKiM_133_142', 'V6Fxclwdfxc_56_66', 'N3A7944_UJw_63_70', '57C93mpt6Xo_358_368', 'gHyXstpe_N8_140_150', 'ZbtpcGi2DWY_161_170', 'xxHx6s_DbUo_240_248', 'i2sRHf9m5KM_28_42', 'r0E-0ntoNWo_20_30', 'UDwvax7K57c_28_35', 'IAvBB2lv8iw_142_148', 'n_Z0-giaspE_62_78', 'IhzXQ-gc9IQ_125_129', '6ZhKOK08tgM_225_233', 'CBD9h0jUq3w_1_7', 'lKADopH3qFY_0_10', 'xxHx6s_DbUo_32_36', 'IpHJffM3G1c_412_418', '6eokrw6_bjU_1_9', 't8Nf1MK7lts_0_10', 'uB9zRlV47qA_17_23', '4zPSShqsq-o_3_16', 'tZmDWltBziM_70_80', '6sYmDT5et00_301_339', 'MwOEK-KXSPc_1_10', 'MrQd1zUVRUM_103_110', 'n016q1w8Q30_2_11', 'wjH72cZ0GLM_1_10', 'zHy7pM0U49w_103_109', 'Ar70p1_LcfM_2_20', 'Je3V7U5Ctj4_768_773', 'Nd45qJn61Dw_0_10', 'NVGGgncVq-4_12_20', 'a0g7wtBkS98_34_42', 'hJFBXHtxKIc_225_230', 'O06WXS_XZN0_0_6', 'hoinj6vyQ2g_8_16', 'YJ2aGe7CLBo_25_35', 'eoP-SCgYM2w_49_60', 'Xxcv5jvRmcg_39_46', '7uF-2adCsI0_60_67', 'WPG-BIWOrG4_635_640', 'aGUx0QOKWXw_7_12', 'Ms3QdGIzltU_10_20', 'e3XkmpNcSt4_8_19', 'xxHx6s_DbUo_98_101', '3ftaoFnhTyY_140_150', '0wutCy2ZGOQ_4_10', 'kBMsuhDvg88_45_64', 'bSrpvMSuhPM_17_31', 'emblM4a76jg_5_15', 'cM55xNJ_pfU_1_20', '-pUwIypksfE_13_23', 'psXeA8sSYdI_25_30', 'rw9h_574HxE_70_74', 'W8l_ezoU8Lc_76_86', 'QzcTlEpAigQ_0_14', 'PeUHy0A1GF0_105_112', 'wgrrQwLdME8_0_10', '5W02895vT8c_460_470', 'kNHivduxQWg_0_14', 'zv2RIbUsnSw_335_341', '4yYapi-5QYQ_33_57', '4wT7zM8XgXQ_5_11', 'IhwPQL9dFYc_171_175', 'M4It3DrhbE0_13_22', 'cR2yi-JnGcQ_8_16', '77iDIp40m9E_119_123', '5x_OGEdO6Z8_0_21', 'b4FM9OLBGyM_37_49', 'xGdoi3W3Z4o_2_40', 'BGG0uYWZBdw_6_12', 'NMlKMfiHSho_1_15', '11xs9mFKObs_0_8', 'kzyFBlNRohs_82_88', 'UXs3eq68ZjE_313_318', 'KPPCwmU5OHQ_227_238', 'GEXqMH8I3_w_63_68', 'ACK7SekJWts_140_150', 'klFyrnrUSck_79_85', 'PCXHuseKwDc_68_76', '1dYpcVv6n3Y_0_18', 'W8l_ezoU8Lc_156_162', 'uAaWVeaYLdQ_1_12', '2xpIT0L4GqE_1_10', 'YRSOc193Pxc_68_73', 'Je3V7U5Ctj4_558_563', '-wa0umYJVGg_139_157', 'Jag7oTemldY_12_25', '64Xn9edeWRA_0_11', 'YS1mzzhmWWA_9_16', 'MSrJTeKNzdI_32_36', '06CbMa0kDr8_3_13', 'Ne87egvJnWo_0_3', 'zv2RIbUsnSw_159_162', 'UXs3eq68ZjE_235_240', '1pw5ZdRhiig_50_59', 'H9Oplnr8WcE_24_34', 'qqYysi3qotc_148_195', 'EqOGzNkekMk_5_15', '0lh_UWF9ZP4_62_69', 'Yh2N6ZtRBdU_110_120', 'q7pOFn8s4zc_27_36', 'VU4qLrk5axA_40_58', 'dc4UltkRJsw_53_59', '4ikH9ZRcF2Q_89_105', 'xxHx6s_DbUo_41_44', 'hFERWnoc-nU_0_12', 'HZ-BuDDmvVk_0_10', '-_hbPLsZvvo_19_26', 'Ly5D0z9gKtc_15_20', 'KqKUXRHHkCc_101_105', 'muI1BFsdbdo_33_45', 'Zqmx-nXhLAg_0_10', 'D1tTBncIsm8_725_740', '73vUksucPz8_12_20', 'dP15zlyra3c_0_10', 'UXs3eq68ZjE_280_285', '62I8I4sCPPQ_12_30', 'pzq5fPfsPZg_29_33', 'oBt257I-pL0_0_10', 'HJHPB_Y8GZE_22_28', '_JVxurtGIhI_32_42', 'gHyXstpe_N8_95_100', 'X98fLZHIzWQ_15_20', '5fDBl1wT2Lk_34_39', 'pQYEZTwSVbQ_12_18', '6t0BpjwYKco_80_84', 'Cx1We6GX4IM_0_8', 'hJFBXHtxKIc_163_168', 'yU5sxW9bErQ_0_17', 'mbesJaS6vwg_187_195', 'm1NR0uNNs5Y_73_78', 's1ZABV7AQdA_38_48', 'shPymuahrsc_5_12', 'pptYu3YQnxY_160_170', 'Puh1n8DTKw8_2_9', 'AjZ-R3LFMzo_18_23', 'm1NR0uNNs5Y_57_64', 'RZL9irxnhZ0_34_40', 'TIubRrkku-4_1_10', 'q7pOFn8s4zc_263_273', '5K7Ru5s6YIw_8_11', '6owu8Mow0_g_527_534', 'WqQonRVs7WA_0_10', 'wpUT0DNB3qs_9_19', 'rw9h_574HxE_161_166', '-_hbPLsZvvo_19_25', 'UqBafx3iRKw_22_29', 'qeKX-N1nKiM_123_130', 'qzQzooI4BqU_5_15', 'BVjvRpmHg0w_121_130', '6t0BpjwYKco_261_284', 'DIebwNHGjm8_133_148', 'R24RktgUi-s_5_15', 'Mutb8BHFvzk_15_20', 'DcDYRpa34W8_11_25', 'Ya-MkA187c8_36_45', '0hyZ__3YhZc_289_295', 'xEDCfcMZlZY_91_100', 'd4AGWnHJcaY_6_19', 'JktNQQnLblQ_4_9', 'gWRRHV7DLV0_21_31', '-wa0umYJVGg_117_123', '1Sp2__RCT0c_11_15', 'clKtfGBVI1I_15_28', 'qBFSt85-xqk_15_20', 'WTf5EgVY5uU_32_52', 'VahnQw2gTQY_274_280', 'MWvCcwTw7Ac_78_86', 'HkpUWzNNVt4_20_30', 'lKpGc3SCSVw_12_20', '8MVo7fje_oE_85_90', '04Gt01vatkk_308_321', 'qhknaG9ifbs_122_127', 'C12BRGGcd5E_101_117', 'btxCxlO1Euc_1_20', '7OGizkf_JEo_191_194', 'MJoxGpEswOI_9_16', 'IhwPQL9dFYc_153_170', 'qew09qQgMAg_22_27', 'tYh4iDFgmEE_10_14', 'C9LHk0AJI7U_196_205', '0lh_UWF9ZP4_148_155', 'E6sqA9QtV5I_195_201', 'Puv_4NtflqE_26_34', 'X56XkGFe7OY_47_61', 'g9aZcaEg7iY_0_9', 'po2tcrG6KzM_2_8', 'SrDE9-cDz48_4_12', 'sWqi41wyXcQ_68_79', 'F3pmw2ga244_59_65', 'fMFvOgb4k6E_35_43', 'nV3Wv8iHp4U_0_38', 'o4pL7FObqds_72_78', 'VF1K_6ZSOAY_23_28', 'Uc63MFVwfrs_360_372', 'Kxa0mnDj0bs_15_20', 'WTf5EgVY5uU_54_58', 'tPkZK-PzeQE_10_28', 'WWf0Z6ak3Dg_5_15', 'zSPBC8EO6dY_132_140', 'ACOmKiJDkA4_175_182', 'cUW_bXll6YM_462_469', '_O9kWD8nuRU_77_81', 'bLqmf8x7rLI_2_8', '2HpZvL-_fiY_40_44', 'ptHkvYrH9fY_2_10', '6t0BpjwYKco_46_53', '30PpKtVT8Z4_35_50', 'nPj6EcVGoUY_7_15', 'ruoHOXo2PRQ_2_20', 'Lyp7MiaCXNE_114_120', 'F44bLc6t7-I_1_8', '5U3xz9Ovmhk_214_222', '0hyZ__3YhZc_380_384', '2R_OAYQIkXM_14_22', 'VLBsAPZ2DDE_34_41', 'AX38yo7Wuws_81_91', '-_hbPLsZvvo_43_55', '6mYnZbIwcNo_10_16', 'zTn-nNj5Bng_8_19', '3SKyc0aKx70_46_52', 'aC-KOYQsIvU_25_31', 'nBFhvrAOFqY_23_29', '3eqFFRSXwGE_84_96', 'ACOmKiJDkA4_57_65', 'mJ9eRvxjLc4_0_16', 'qeKX-N1nKiM_74_77', 'PAN5IVvMlVc_17_23', 'PTxHJMM6hHE_0_15', 'm1NR0uNNs5Y_123_129', 'yBK02O1Oewc_20_35', 'A6XrTsLsUbA_4_15', '9HTUcMjWB3g_134_138', '0M-PyX2DbZc_25_31', 'ItFqogTmAvQ_48_52', 'PQbkdRbir0M_45_53', '81fABEiwcIM_31_45', 'IpHJffM3G1c_439_446', 'zSPBC8EO6dY_97_110', 'eVSQiPbepXg_83_93', 's80J2dAUUyI_33_43', 'kWLNZzuo3do_228_232', '4Tn5S48sCwg_110_118', 'K6xy6C-Hsa0_2_28', '6QbhfbLUtQs_13_23', 'QjI3Y8ZKSqs_30_38', 'S-Civm_fbK8_20_26', 'kWLNZzuo3do_152_164', '6gQu8PWhFoQ_30_35', 'jvxUeT1Nlb8_100_115', 'YUlG_PKzpvc_0_8', 'jTnrm338_KY_34_42', '8CzlhZtunNc_5_11', 'bmvD4HlPFxg_20_27', 'nYwbAb0QvBE_195_210', 'rlQ2kW-FvMk_66_79', 'zYcY4mjLpxU_45_55', '30GeJHYoerk_80_85', 'TZ860P4iTaM_10_24', '6FmN22YcVVE_11_18', '0lh_UWF9ZP4_50_60', 'LjimLwAhAOQ_5_15', '6t0BpjwYKco_230_240', 'xTd_IdIcB4s_2_10', '0hyZ__3YhZc_352_356', 'uiLr9bdOL0M_23_30', 'sXyjCgR0rAc_0_11', 'jCplbayVbtw_28_38', '-_hbPLsZvvo_323_328', '4QdX5Q3qQsQ_38_44', 'VxM96IYzw0Q_2_15', 'rw9h_574HxE_127_133', 'sTMlQSbAGfE_0_12', 'UXs3eq68ZjE_498_504', 'yyxtyCaEVqk_329_360', 'XzCcRzEa83U_39_46', 'zWVQImPY2Cc_27_44', 'BOLKaQeB6j0_101_111', 'hJFBXHtxKIc_118_123', 'LYSPQqUvNO0_43_57', 'edqyq4Q-7uU_103_109', '4QYPZM01xFE_14_26', 'zhLcONtNkew_16_21', 'Y4gaJn0wlDE_0_10', '3doK4FQM5-k_46_57', 'fIaLVw_Gc_w_99_109', 'K2LxyytY3Dw_104_112', 'c2MwqFYVE7A_40_45', 'z2kUc8wp9l8_40_46', 'WTf5EgVY5uU_104_108', 'AoNnzlGhI04_112_128', 'kWLNZzuo3do_154_165', 'MJNStEgDKXU_3_10', '4D1o4FC8YbA_29_39', '_SNE2MYAotU_41_49', 'X7sQq-Iu1gQ_12_22', 'fr9H1WLcF1A_256_261', 'ceOXCFUmxzA_100_110', 'Afmc6FeN-hM_20_24', '6Q3ltyPJJMQ_67_72', '00jrXRMlZOY_0_10', 'Rm-RnxN4oHA_215_225', '6t0BpjwYKco_254_258', 'nULE40HEWpA_5_11', 'PeUHy0A1GF0_68_73', 'BE_uxYK9uz0_49_56', 'a1Y73sPHKxw_0_5', 'Rq_VfjGH7kg_104_110', 'b97TK8XVLHE_40_50', 'JAFGw0WRHHU_108_116', '7uOiiA4Kxbo_23_35', '27hs9W89FuI_0_10', 'UbmZAe5u5FI_26_33', '_pBeOAMjGm8_1_18', 'ZxqkAGNyo8A_12_22', 'wX-Bl25Htag_104_115', 'c51L6ZxZGjQ_137_154', 'bL_Kijz9IN4_0_15', 'QTAqjSbMkXU_65_75', 'cSDkshD2ME0_11_14', 'OIjsSu_I4So_6_10', 'UXs3eq68ZjE_320_325', 's-QQWRdF-5Y_19_28', 'jD4o_Lmy6bU_117_137', 'xxHx6s_DbUo_57_61', 'EBWPZIjtnTM_1_6', 'e40bBP0_AbE_64_67', 'lsanQj2yacs_102_108', '7_XASfcYdBk_3_13', '_O9kWD8nuRU_45_49', 'ItFqogTmAvQ_240_246', 'Z8rTzW9Gb6Y_116_123', 'EwTZ2xpQwpA_14_21', 'BVilbVCo9sU_1_11', 'K-czl524zxk_6_15', 'jcIrD7rNvTM_10_21', '0bSz70pYAP0_5_15', 'zzit5b_-ukg_5_20', '0hyZ__3YhZc_388_394', '9gbUM9oHBNI_557_563', 'B4foOe9kUgY_0_8', 'YmXCfQm0_CA_140_156', 'MY-rGamtAJc_6_22', 'u4kMN1jamdM_10_20', 'cUW_bXll6YM_390_395', '8z-XGiU1KN4_9_17', 'RiglOfJon8I_3_18', 'CHVhwcOg6y8_1_12', 'z0Si1XxMibg_0_30', 'LyYJiKxHZz0_0_10', 'fX5G_JwPlLo_640_660', 'rq2p5ML8-WI_63_69', 'N5wsl86P37Q_1_15', 'ao-9B8IV9_E_72_77', 'OUII8_aOfNM_60_69', 'SzEbtbNSg04_111_117', '4t5POXt2e68_5_11', 'OpR1Er5o6IY_209_217', 'urXDqw3S34I_12_17', '8mSUD7JGNO0_174_181', 'fcvW1vr8hAs_104_108', 'Ffv7fhL1EDY_177_184', 'yFPHhRat6bc_160_210', '8MVo7fje_oE_113_118', '0hyZ__3YhZc_562_568', 'idRc_KkInds_0_6', 'seTkGZlEU64_81_110', 'SzEbtbNSg04_88_93', '-_hbPLsZvvo_288_305', 'p69Q8lTkZTc_21_29', '1dfR0A_BXjw_545_560'}\n",
            "[train] All entries in JSON 'videos' section have matching video files in folder.\n",
            "[train] Videos present in folder but missing captions in JSON 'sentences' section: {'74tRCYS_534_49_57', 'Sq7Vt6KC9Yg_17_35', 'MMnnqzOoMF0_68_72', 'E2r6nnkwl0c_6_18', '7s0AXJtLL0Y_57_61', '_O9kWD8nuRU_16_23', '1RchFBCT9JU_43_53', 'qLwgb3F0aPU_298_305', 'c75SIlAjfjg_6_14', '2YhDTpzxd3c_174_180', 'EjAoBKagWQA_132_145', '-_hbPLsZvvo_269_275', 'PJnJMp2ZpbA_3_15', 'iTA0rWPE4nY_17_23', 'Gh4Beb8StFM_29_50', '4QdX5Q3qQsQ_6_14', 'HPFLN5azwtA_56_63', 'uqVCk2oDpSE_194_200', 'RMznbCn5sQs_0_10', 'crfrKqFp0Zg_15_25', 'q-a6NEotUX8_5_10', 'dtn0PuxgfkM_0_5', 'K1ZM0LSLVw8_488_494', 'nd0ToNwccl4_12_17', 'WTf5EgVY5uU_94_98', 'glrijRGnmc0_211_215', 'eZLxohGP4IE_15_25', 'Kxa0mnDj0bs_113_124', 'cWOPC2kt_IA_8_16', 'MICawzo1MqI_3_13', 'tHLiYTS9Iz8_1_16', 'CwPfvoqmV1Q_58_61', '_WRC7HXBJpU_386_391', 'SzEbtbNSg04_214_224', 'rw9h_574HxE_251_254', 'ACOmKiJDkA4_161_170', 'FwCmcZpkk-k_22_32', 'c76tShLfQb0_74_81', 'qeKX-N1nKiM_133_142', 'V6Fxclwdfxc_56_66', 'N3A7944_UJw_63_70', '57C93mpt6Xo_358_368', 'gHyXstpe_N8_140_150', 'ZbtpcGi2DWY_161_170', 'xxHx6s_DbUo_240_248', 'i2sRHf9m5KM_28_42', 'r0E-0ntoNWo_20_30', 'UDwvax7K57c_28_35', 'IAvBB2lv8iw_142_148', 'n_Z0-giaspE_62_78', 'IhzXQ-gc9IQ_125_129', '6ZhKOK08tgM_225_233', 'CBD9h0jUq3w_1_7', 'lKADopH3qFY_0_10', 'xxHx6s_DbUo_32_36', 'IpHJffM3G1c_412_418', '6eokrw6_bjU_1_9', 't8Nf1MK7lts_0_10', 'uB9zRlV47qA_17_23', '4zPSShqsq-o_3_16', 'tZmDWltBziM_70_80', '6sYmDT5et00_301_339', 'MwOEK-KXSPc_1_10', 'MrQd1zUVRUM_103_110', 'n016q1w8Q30_2_11', 'wjH72cZ0GLM_1_10', 'zHy7pM0U49w_103_109', 'Ar70p1_LcfM_2_20', 'Je3V7U5Ctj4_768_773', 'Nd45qJn61Dw_0_10', 'NVGGgncVq-4_12_20', 'a0g7wtBkS98_34_42', 'hJFBXHtxKIc_225_230', 'O06WXS_XZN0_0_6', 'hoinj6vyQ2g_8_16', 'YJ2aGe7CLBo_25_35', 'eoP-SCgYM2w_49_60', 'Xxcv5jvRmcg_39_46', '7uF-2adCsI0_60_67', 'WPG-BIWOrG4_635_640', 'aGUx0QOKWXw_7_12', 'Ms3QdGIzltU_10_20', 'e3XkmpNcSt4_8_19', 'xxHx6s_DbUo_98_101', '3ftaoFnhTyY_140_150', '0wutCy2ZGOQ_4_10', 'kBMsuhDvg88_45_64', 'bSrpvMSuhPM_17_31', 'emblM4a76jg_5_15', 'cM55xNJ_pfU_1_20', '-pUwIypksfE_13_23', 'psXeA8sSYdI_25_30', 'rw9h_574HxE_70_74', 'W8l_ezoU8Lc_76_86', 'QzcTlEpAigQ_0_14', 'PeUHy0A1GF0_105_112', 'wgrrQwLdME8_0_10', '5W02895vT8c_460_470', 'kNHivduxQWg_0_14', 'zv2RIbUsnSw_335_341', '4yYapi-5QYQ_33_57', '4wT7zM8XgXQ_5_11', 'IhwPQL9dFYc_171_175', 'M4It3DrhbE0_13_22', 'cR2yi-JnGcQ_8_16', '77iDIp40m9E_119_123', '5x_OGEdO6Z8_0_21', 'b4FM9OLBGyM_37_49', 'xGdoi3W3Z4o_2_40', 'BGG0uYWZBdw_6_12', 'NMlKMfiHSho_1_15', '11xs9mFKObs_0_8', 'kzyFBlNRohs_82_88', 'UXs3eq68ZjE_313_318', 'KPPCwmU5OHQ_227_238', 'GEXqMH8I3_w_63_68', 'ACK7SekJWts_140_150', 'klFyrnrUSck_79_85', 'PCXHuseKwDc_68_76', '1dYpcVv6n3Y_0_18', 'W8l_ezoU8Lc_156_162', 'uAaWVeaYLdQ_1_12', '2xpIT0L4GqE_1_10', 'YRSOc193Pxc_68_73', 'Je3V7U5Ctj4_558_563', '-wa0umYJVGg_139_157', 'Jag7oTemldY_12_25', '64Xn9edeWRA_0_11', 'YS1mzzhmWWA_9_16', 'MSrJTeKNzdI_32_36', '06CbMa0kDr8_3_13', 'Ne87egvJnWo_0_3', 'zv2RIbUsnSw_159_162', 'UXs3eq68ZjE_235_240', '1pw5ZdRhiig_50_59', 'H9Oplnr8WcE_24_34', 'qqYysi3qotc_148_195', 'EqOGzNkekMk_5_15', '0lh_UWF9ZP4_62_69', 'Yh2N6ZtRBdU_110_120', 'q7pOFn8s4zc_27_36', 'VU4qLrk5axA_40_58', 'dc4UltkRJsw_53_59', '4ikH9ZRcF2Q_89_105', 'xxHx6s_DbUo_41_44', 'hFERWnoc-nU_0_12', 'HZ-BuDDmvVk_0_10', '-_hbPLsZvvo_19_26', 'Ly5D0z9gKtc_15_20', 'KqKUXRHHkCc_101_105', 'muI1BFsdbdo_33_45', 'Zqmx-nXhLAg_0_10', 'D1tTBncIsm8_725_740', '73vUksucPz8_12_20', 'dP15zlyra3c_0_10', 'UXs3eq68ZjE_280_285', '62I8I4sCPPQ_12_30', 'pzq5fPfsPZg_29_33', 'oBt257I-pL0_0_10', 'HJHPB_Y8GZE_22_28', '_JVxurtGIhI_32_42', 'gHyXstpe_N8_95_100', 'X98fLZHIzWQ_15_20', '5fDBl1wT2Lk_34_39', 'pQYEZTwSVbQ_12_18', '6t0BpjwYKco_80_84', 'Cx1We6GX4IM_0_8', 'hJFBXHtxKIc_163_168', 'yU5sxW9bErQ_0_17', 'mbesJaS6vwg_187_195', 'm1NR0uNNs5Y_73_78', 's1ZABV7AQdA_38_48', 'shPymuahrsc_5_12', 'pptYu3YQnxY_160_170', 'Puh1n8DTKw8_2_9', 'AjZ-R3LFMzo_18_23', 'm1NR0uNNs5Y_57_64', 'RZL9irxnhZ0_34_40', 'TIubRrkku-4_1_10', 'q7pOFn8s4zc_263_273', '5K7Ru5s6YIw_8_11', '6owu8Mow0_g_527_534', 'WqQonRVs7WA_0_10', 'wpUT0DNB3qs_9_19', 'rw9h_574HxE_161_166', '-_hbPLsZvvo_19_25', 'UqBafx3iRKw_22_29', 'qeKX-N1nKiM_123_130', 'qzQzooI4BqU_5_15', 'BVjvRpmHg0w_121_130', '6t0BpjwYKco_261_284', 'DIebwNHGjm8_133_148', 'R24RktgUi-s_5_15', 'Mutb8BHFvzk_15_20', 'DcDYRpa34W8_11_25', 'Ya-MkA187c8_36_45', '0hyZ__3YhZc_289_295', 'xEDCfcMZlZY_91_100', 'd4AGWnHJcaY_6_19', 'JktNQQnLblQ_4_9', 'gWRRHV7DLV0_21_31', '-wa0umYJVGg_117_123', '1Sp2__RCT0c_11_15', 'clKtfGBVI1I_15_28', 'qBFSt85-xqk_15_20', 'WTf5EgVY5uU_32_52', 'VahnQw2gTQY_274_280', 'MWvCcwTw7Ac_78_86', 'HkpUWzNNVt4_20_30', 'lKpGc3SCSVw_12_20', '8MVo7fje_oE_85_90', '04Gt01vatkk_308_321', 'qhknaG9ifbs_122_127', 'C12BRGGcd5E_101_117', 'btxCxlO1Euc_1_20', '7OGizkf_JEo_191_194', 'MJoxGpEswOI_9_16', 'IhwPQL9dFYc_153_170', 'qew09qQgMAg_22_27', 'tYh4iDFgmEE_10_14', 'C9LHk0AJI7U_196_205', '0lh_UWF9ZP4_148_155', 'E6sqA9QtV5I_195_201', 'Puv_4NtflqE_26_34', 'X56XkGFe7OY_47_61', 'g9aZcaEg7iY_0_9', 'po2tcrG6KzM_2_8', 'SrDE9-cDz48_4_12', 'sWqi41wyXcQ_68_79', 'F3pmw2ga244_59_65', 'fMFvOgb4k6E_35_43', 'nV3Wv8iHp4U_0_38', 'o4pL7FObqds_72_78', 'VF1K_6ZSOAY_23_28', 'Uc63MFVwfrs_360_372', 'Kxa0mnDj0bs_15_20', 'WTf5EgVY5uU_54_58', 'tPkZK-PzeQE_10_28', 'WWf0Z6ak3Dg_5_15', 'zSPBC8EO6dY_132_140', 'ACOmKiJDkA4_175_182', 'cUW_bXll6YM_462_469', '_O9kWD8nuRU_77_81', 'bLqmf8x7rLI_2_8', '2HpZvL-_fiY_40_44', 'ptHkvYrH9fY_2_10', '6t0BpjwYKco_46_53', '30PpKtVT8Z4_35_50', 'nPj6EcVGoUY_7_15', 'ruoHOXo2PRQ_2_20', 'Lyp7MiaCXNE_114_120', 'F44bLc6t7-I_1_8', '5U3xz9Ovmhk_214_222', '0hyZ__3YhZc_380_384', '2R_OAYQIkXM_14_22', 'VLBsAPZ2DDE_34_41', 'AX38yo7Wuws_81_91', '-_hbPLsZvvo_43_55', '6mYnZbIwcNo_10_16', 'zTn-nNj5Bng_8_19', '3SKyc0aKx70_46_52', 'aC-KOYQsIvU_25_31', 'nBFhvrAOFqY_23_29', '3eqFFRSXwGE_84_96', 'ACOmKiJDkA4_57_65', 'mJ9eRvxjLc4_0_16', 'qeKX-N1nKiM_74_77', 'PAN5IVvMlVc_17_23', 'PTxHJMM6hHE_0_15', 'm1NR0uNNs5Y_123_129', 'yBK02O1Oewc_20_35', 'A6XrTsLsUbA_4_15', '9HTUcMjWB3g_134_138', '0M-PyX2DbZc_25_31', 'ItFqogTmAvQ_48_52', 'PQbkdRbir0M_45_53', '81fABEiwcIM_31_45', 'IpHJffM3G1c_439_446', 'zSPBC8EO6dY_97_110', 'eVSQiPbepXg_83_93', 's80J2dAUUyI_33_43', 'kWLNZzuo3do_228_232', '4Tn5S48sCwg_110_118', 'K6xy6C-Hsa0_2_28', '6QbhfbLUtQs_13_23', 'QjI3Y8ZKSqs_30_38', 'S-Civm_fbK8_20_26', 'kWLNZzuo3do_152_164', '6gQu8PWhFoQ_30_35', 'jvxUeT1Nlb8_100_115', 'YUlG_PKzpvc_0_8', 'jTnrm338_KY_34_42', '8CzlhZtunNc_5_11', 'bmvD4HlPFxg_20_27', 'nYwbAb0QvBE_195_210', 'rlQ2kW-FvMk_66_79', 'zYcY4mjLpxU_45_55', '30GeJHYoerk_80_85', 'TZ860P4iTaM_10_24', '6FmN22YcVVE_11_18', '0lh_UWF9ZP4_50_60', 'LjimLwAhAOQ_5_15', '6t0BpjwYKco_230_240', 'xTd_IdIcB4s_2_10', '0hyZ__3YhZc_352_356', 'uiLr9bdOL0M_23_30', 'sXyjCgR0rAc_0_11', 'jCplbayVbtw_28_38', '-_hbPLsZvvo_323_328', '4QdX5Q3qQsQ_38_44', 'VxM96IYzw0Q_2_15', 'rw9h_574HxE_127_133', 'sTMlQSbAGfE_0_12', 'UXs3eq68ZjE_498_504', 'yyxtyCaEVqk_329_360', 'XzCcRzEa83U_39_46', 'zWVQImPY2Cc_27_44', 'BOLKaQeB6j0_101_111', 'hJFBXHtxKIc_118_123', 'LYSPQqUvNO0_43_57', 'edqyq4Q-7uU_103_109', '4QYPZM01xFE_14_26', 'zhLcONtNkew_16_21', 'Y4gaJn0wlDE_0_10', '3doK4FQM5-k_46_57', 'fIaLVw_Gc_w_99_109', 'K2LxyytY3Dw_104_112', 'c2MwqFYVE7A_40_45', 'z2kUc8wp9l8_40_46', 'WTf5EgVY5uU_104_108', 'AoNnzlGhI04_112_128', 'kWLNZzuo3do_154_165', 'MJNStEgDKXU_3_10', '4D1o4FC8YbA_29_39', '_SNE2MYAotU_41_49', 'X7sQq-Iu1gQ_12_22', 'fr9H1WLcF1A_256_261', 'ceOXCFUmxzA_100_110', 'Afmc6FeN-hM_20_24', '6Q3ltyPJJMQ_67_72', '00jrXRMlZOY_0_10', 'Rm-RnxN4oHA_215_225', '6t0BpjwYKco_254_258', 'nULE40HEWpA_5_11', 'PeUHy0A1GF0_68_73', 'BE_uxYK9uz0_49_56', 'a1Y73sPHKxw_0_5', 'Rq_VfjGH7kg_104_110', 'b97TK8XVLHE_40_50', 'JAFGw0WRHHU_108_116', '7uOiiA4Kxbo_23_35', '27hs9W89FuI_0_10', 'UbmZAe5u5FI_26_33', '_pBeOAMjGm8_1_18', 'ZxqkAGNyo8A_12_22', 'wX-Bl25Htag_104_115', 'c51L6ZxZGjQ_137_154', 'bL_Kijz9IN4_0_15', 'QTAqjSbMkXU_65_75', 'cSDkshD2ME0_11_14', 'OIjsSu_I4So_6_10', 'UXs3eq68ZjE_320_325', 's-QQWRdF-5Y_19_28', 'jD4o_Lmy6bU_117_137', 'xxHx6s_DbUo_57_61', 'EBWPZIjtnTM_1_6', 'e40bBP0_AbE_64_67', 'lsanQj2yacs_102_108', '7_XASfcYdBk_3_13', '_O9kWD8nuRU_45_49', 'ItFqogTmAvQ_240_246', 'Z8rTzW9Gb6Y_116_123', 'EwTZ2xpQwpA_14_21', 'BVilbVCo9sU_1_11', 'K-czl524zxk_6_15', 'jcIrD7rNvTM_10_21', '0bSz70pYAP0_5_15', 'zzit5b_-ukg_5_20', '0hyZ__3YhZc_388_394', '9gbUM9oHBNI_557_563', 'B4foOe9kUgY_0_8', 'YmXCfQm0_CA_140_156', 'MY-rGamtAJc_6_22', 'u4kMN1jamdM_10_20', 'cUW_bXll6YM_390_395', '8z-XGiU1KN4_9_17', 'RiglOfJon8I_3_18', 'CHVhwcOg6y8_1_12', 'z0Si1XxMibg_0_30', 'LyYJiKxHZz0_0_10', 'fX5G_JwPlLo_640_660', 'rq2p5ML8-WI_63_69', 'N5wsl86P37Q_1_15', 'ao-9B8IV9_E_72_77', 'OUII8_aOfNM_60_69', 'SzEbtbNSg04_111_117', '4t5POXt2e68_5_11', 'OpR1Er5o6IY_209_217', 'urXDqw3S34I_12_17', '8mSUD7JGNO0_174_181', 'fcvW1vr8hAs_104_108', 'Ffv7fhL1EDY_177_184', 'yFPHhRat6bc_160_210', '8MVo7fje_oE_113_118', '0hyZ__3YhZc_562_568', 'idRc_KkInds_0_6', 'seTkGZlEU64_81_110', 'SzEbtbNSg04_88_93', '-_hbPLsZvvo_288_305', 'p69Q8lTkZTc_21_29', '1dfR0A_BXjw_545_560'}\n",
            "[train] All captions in JSON 'sentences' section have matching video files in folder.\n",
            "[val] Videos present in folder but missing in JSON 'videos' section: {'5W02895vT8c_312_322', 'xxHx6s_DbUo_121_128', 'K-KVz3eqbnA_1_10', '8NFoN0K3bPg_20_28', '8e0yXMa708Y_24_33', '-DRy7rBg0IQ_31_37', 'mYzajpeAWuA_100_112', 'gtIz1u8g1F0_3_13', '0GXq1An3yHI_22_35', 'k-SWy-sU8cE_5_10', 'pGsU4FekJQM_10_18', '6owu8Mow0_g_384_389', 'c53HKs39i28_26_35', '1_6V30igzIk_5_15', '04Gt01vatkk_248_265', 'kWLNZzuo3do_17_23', 'd7Gs0uGFLh0_5_13', 'ZYaxg5NZW_g_21_27', '4JVpbYmqfcI_5_19', 'a8PAY4rvzRM_1_10', '_sJ_09Mf1HY_49_72', 'eZLxohGP4IE_147_158', 'fd7Ky1lEPT8_40_50', 'qeKX-N1nKiM_37_43', 'AjZ-R3LFMzo_5_10', 'o_mWZWcm2r4_10_15', 'qypmR4O1Gwk_0_10', 'vpR0L3sIvoo_15_49', '_UqnTFs1BLc_23_27', 'SJZFNwfcSOw_3_18', 'PHDmVhShE80_82_86', 'xtbsD3PUua4_174_185', 'FGjtmhI-Rmk_30_37', 'z0zb--BOhDY_16_22', 'n6U-TGahwvs_100_110', '6ZhKOK08tgM_45_49', 'IiTzJQE67FA_74_86', 'OfgSCMxttCc_86_92', 'OVEe1DMsOq0_43_52', '4cgzdXlJksU_83_90', 'ifS2nXfCyYo_4_34', 'HDcIB1e9s5A_28_34', 'p6T3XrnYtFk_4_13', 'oDcd2JbOyzg_85_98', 'HAjwXjwN9-A_16_24', '2YhDTpzxd3c_240_245', '9LSuyLyuUiM_3_6', '0lh_UWF9ZP4_183_190', 'hJuqBDw_TT4_14_25', 'WinaH9SkW9c_11_38', '1sffYOXq4Iw_23_49', 'aeA-HN7BMdo_34_41', 'xXlWsBhFvis_6_10', 'auFXfsCzAvQ_1_15', 'mF6ijhSrbBQ_32_40', 'J8cP93yG1Ao_14_24', '6owu8Mow0_g_302_307', 'MWzeInQaUk4_12_20', '25NmudB2fqg_0_7', 'Aa7yf9XtcJM_45_50', 'bnN_o0Hkn3M_73_80', 'klFyrnrUSck_13_19', '8yoUaH6wGLs_22_30', 'NFxWwI0J3As_78_84', 'GY5Dl00LrEI_2_13', 'e996zZ0uV_A_68_72', 'kWLNZzuo3do_48_53', 'hcCLIzzB1jQ_1_7', 'nq4hG6qgyPs_184_195', '5YJaS2Eswg0_22_26', '8MVo7fje_oE_139_144', 's-dSFyz_5Ww_13_23', 'u9prcUCHlqM_235_241', 'G-M78KIy19E_315_330', 'cCmnN96zIeQ_14_24', 'Pgm-mOQu2MM_48_62', 'nS6oQxX_Qi8_2_12', '0ONJfp95yoE_1_10', 'oRBgVOiZVsc_16_22', 'pzq5fPfsPZg_51_57', 'f9Won2JpOEU_60_80', 'MW21lp833Vo_143_149', '0hyZ__3YhZc_341_348', 'WrsS6X-FB-I_30_47', 'DB-3-TVjrxU_58_75', 'DN7jwyL1Xgg_1_19', 'IiIiY6o-C9k_49_55', 'zFIn8DeV5PM_20_33', 'ACOmKiJDkA4_75_81', 'pFSoWsocv0g_8_17', 'pUPKsHTDZTo_70_85', 'nc0fVlaTYEs_34_44', '0hyZ__3YhZc_302_307', '_KMoC6ZdeXs_10_16', 'FavUpD_IjVY_22_26', '53dc4z7HLyg_25_29', 'tn-Hoz4KbkE_89_93', 'KeSQ5Rv7eH8_73_79', 'HkuOqWzXYVg_0_12', 'Eamd2wMKixs_48_72', 'oG6LLGi_n48_51_55', 'FH8vgAp4VDU_10_14', '3OPQqH3YlHA_50_54', 'EPXsiQw9vvo_1_12', 'kWLNZzuo3do_77_83', 'jjl2ZMdFCsw_17_35', '2I20ZTFHheg_96_104', 'ok4cM6WTA5E_178_184', 'YmXCfQm0_CA_68_75', 'kIZanu909lw_67_80', 'd7eGypGOlOc_13_22', 'ZlX_Gy4HP2E_38_55', 'BVjvRpmHg0w_157_165', 'UbmZAe5u5FI_88_98', 'FWzsXeXCwuc_106_110', 'jCplbayVbtw_10_20', 'nZSFn51l3hc_660_666', 'J7zb8YXrmIA_93_99', 'J4otiwOjQy8_98_112', 'f_GnkweYzzI_35_41', 'PslVHtXc7Tg_8_14', 's_ldnx8_etY_32_54', 'bQJQGoJF7_k_162_169', 'r0rmrbTb7fU_98_109', 'XZ0Ch_ClBfo_120_127', '-vKO3uSG6Do_3_14', '0vmoZEaN_-o_4_12', 'm7x8uIdg2XU_67_73', 'sv5YlZspb30_10_20', 'kk3TIio1-Uw_5_14', 'ysTmUTQ5wZE_17_45', 'oSnYUfCGiCA_7_17', '4UOVKok7j1U_1_8', 'R3a9r8qFlhQ_0_12', 'lB1UPJ4leqs_0_6', 'msCidKHOh74_392_399', 'KPPCwmU5OHQ_467_472', 'NoCgvH4xZHo_240_251', 'r4qv_BNlQNk_119_124', 'ok4cM6WTA5E_120_133', 'PqSZ89FqpiY_65_75', 'QHkvBU8diwU_1_18', 'HBCJYhUjVf0_0_9', 'qRoxNXm7INc_58_66', 'cFzSEIGrEfA_0_24', 'hkkmKk9LcQk_36_43', '1dfR0A_BXjw_524_532', 'UbmZAe5u5FI_111_115', 'D1tTBncIsm8_198_205', 't3VPeyYL-fI_35_39', '9d57lHEsLU8_1_14', 'qOiN__I1-Zo_2_8', 'INDhUwDMg-4_220_227', 'ObBss94n3gI_35_46', 'Gw0FU733zzg_58_66', 'pzq5fPfsPZg_145_160', '0I4VKj4d0WI_24_40', 'ACOmKiJDkA4_146_153', 'xxHx6s_DbUo_173_177', 'PmrTDZy3f2M_35_39', 'cnsjm3fNEec_4_10', '_O9kWD8nuRU_50_56', 'nZSFn51l3hc_480_485', 'wzfkC2TjdeQ_0_31', 'lfGlDg47How_93_98', 'xxHx6s_DbUo_216_222', 'SaOqf2d-y30_22_27', '88DOMJ11q2M_84_87', 'ok4cM6WTA5E_142_150', 'JpjAgSvr42k_0_12', '3zgEl-OLFKE_12_15', 'kEGmZDpZ_RE_295_330', 'hbE29pZh76I_3_8', 'ZN2_czSBSD0_240_250', 'kWLNZzuo3do_147_153', '-Ms9tsWmhyU_80_95', 'EKL6elkbFy0_16_30', 'y8SDRc4IOjs_94_99', 'x8Ul09tk6zk_0_8', 'DBvSfds3FH4_84_88', 'O9yLRzpPp44_167_190', 'k4hhWYtaQ14_0_10', 'q5ZRMvjzhXQ_15_29', 'OUII8_aOfNM_26_55', '-_aaMGK6GGw_57_61', '1dfR0A_BXjw_590_600', '7M-jsjLB20Y_11_30', '27mxaePkYB4_8_14', 'ao-9B8IV9_E_87_95', 'tn1d5DmdMqY_15_28', '2YhDTpzxd3c_22_27', 'p69d3UBdpR8_98_109', 'aM-RcQj0a7I_37_55', '_o1UXSxTjfo_68_80', 'bQJQGoJF7_k_109_115', '2Nn2CAeaI5k_72_77', 'sFExO_PW22s_10_18', 'bkazguPsusc_74_85', 'nLvX-erABqY_67_72', 'He7Ge7Sogrk_47_70', '5fq9iIxxA1s_12_27', 'EPgQ9QwbsLE_16_23', 'IhwPQL9dFYc_130_136', 'JYNzY9jmsQQ_2_10', '0lh_UWF9ZP4_21_26', 'bJJndejsUWc_88_98', 'hWhKdXcqYeU_3_12', 'R24RktgUi-s_24_28', 'kWLNZzuo3do_167_181', 'xxHx6s_DbUo_202_207', '77iDIp40m9E_3_9', 'lm0z7eLsbbw_9_23', '6GJ1DNOGDAM_223_233', '0lh_UWF9ZP4_191_197', 'lfGlDg47How_110_115', 'm4D72WXFd8s_557_564', 'Pr5LQq42l4M_12_17', 'kWLNZzuo3do_217_222', '8MVo7fje_oE_108_113', 'mCrRHP4LFmo_24_40', 'YwmUgVrUJ4I_0_15', 'QA_JTtM1hKA_5_15', 'VfqlfprZsaQ_75_85', 'kquB3rIgfGk_197_202', 'Je3V7U5Ctj4_634_639', '0lh_UWF9ZP4_199_207', 'MdOAr_4FJvc_5_15', '0lh_UWF9ZP4_94_103', 'sT5Bzt9w354_11_34', 'uH8ObB_dyOk_159_166', 'YZ0-6hdQ0mU_0_3', 'yNy9jTeolUk_8_12', '45AGQSbodbU_5_15', 'hW8TKz2Aea4_5_12', 'mFCf8lLXrUc_36_57', 'pqTWUzehCUM_42_47', 'qeKX-N1nKiM_0_5', 'GzlnqrzdYHU_32_40', 'K1ZM0LSLVw8_481_487', 'JledeVyklPw_1_6', '3FnUTQMJVXI_31_36', 'mmSQTI6gMNQ_120_128', 'bDoCQEwghZU_201_211', 'kWLNZzuo3do_56_62', '9xVqwy_4pmQ_36_49', 'g2IYQq7IkXc_23_32', '5l6acVf12S4_7_13'}\n",
            "[val] All entries in JSON 'videos' section have matching video files in folder.\n",
            "[val] Videos present in folder but missing captions in JSON 'sentences' section: {'5W02895vT8c_312_322', 'xxHx6s_DbUo_121_128', 'K-KVz3eqbnA_1_10', '8NFoN0K3bPg_20_28', '8e0yXMa708Y_24_33', '-DRy7rBg0IQ_31_37', 'mYzajpeAWuA_100_112', 'gtIz1u8g1F0_3_13', '0GXq1An3yHI_22_35', 'k-SWy-sU8cE_5_10', 'pGsU4FekJQM_10_18', '6owu8Mow0_g_384_389', 'c53HKs39i28_26_35', '1_6V30igzIk_5_15', '04Gt01vatkk_248_265', 'kWLNZzuo3do_17_23', 'd7Gs0uGFLh0_5_13', 'ZYaxg5NZW_g_21_27', '4JVpbYmqfcI_5_19', 'a8PAY4rvzRM_1_10', '_sJ_09Mf1HY_49_72', 'eZLxohGP4IE_147_158', 'fd7Ky1lEPT8_40_50', 'qeKX-N1nKiM_37_43', 'AjZ-R3LFMzo_5_10', 'o_mWZWcm2r4_10_15', 'qypmR4O1Gwk_0_10', 'vpR0L3sIvoo_15_49', '_UqnTFs1BLc_23_27', 'SJZFNwfcSOw_3_18', 'PHDmVhShE80_82_86', 'xtbsD3PUua4_174_185', 'FGjtmhI-Rmk_30_37', 'z0zb--BOhDY_16_22', 'n6U-TGahwvs_100_110', '6ZhKOK08tgM_45_49', 'IiTzJQE67FA_74_86', 'OfgSCMxttCc_86_92', 'OVEe1DMsOq0_43_52', '4cgzdXlJksU_83_90', 'ifS2nXfCyYo_4_34', 'HDcIB1e9s5A_28_34', 'p6T3XrnYtFk_4_13', 'oDcd2JbOyzg_85_98', 'HAjwXjwN9-A_16_24', '2YhDTpzxd3c_240_245', '9LSuyLyuUiM_3_6', '0lh_UWF9ZP4_183_190', 'hJuqBDw_TT4_14_25', 'WinaH9SkW9c_11_38', '1sffYOXq4Iw_23_49', 'aeA-HN7BMdo_34_41', 'xXlWsBhFvis_6_10', 'auFXfsCzAvQ_1_15', 'mF6ijhSrbBQ_32_40', 'J8cP93yG1Ao_14_24', '6owu8Mow0_g_302_307', 'MWzeInQaUk4_12_20', '25NmudB2fqg_0_7', 'Aa7yf9XtcJM_45_50', 'bnN_o0Hkn3M_73_80', 'klFyrnrUSck_13_19', '8yoUaH6wGLs_22_30', 'NFxWwI0J3As_78_84', 'GY5Dl00LrEI_2_13', 'e996zZ0uV_A_68_72', 'kWLNZzuo3do_48_53', 'hcCLIzzB1jQ_1_7', 'nq4hG6qgyPs_184_195', '5YJaS2Eswg0_22_26', '8MVo7fje_oE_139_144', 's-dSFyz_5Ww_13_23', 'u9prcUCHlqM_235_241', 'G-M78KIy19E_315_330', 'cCmnN96zIeQ_14_24', 'Pgm-mOQu2MM_48_62', 'nS6oQxX_Qi8_2_12', '0ONJfp95yoE_1_10', 'oRBgVOiZVsc_16_22', 'pzq5fPfsPZg_51_57', 'f9Won2JpOEU_60_80', 'MW21lp833Vo_143_149', '0hyZ__3YhZc_341_348', 'WrsS6X-FB-I_30_47', 'DB-3-TVjrxU_58_75', 'DN7jwyL1Xgg_1_19', 'IiIiY6o-C9k_49_55', 'zFIn8DeV5PM_20_33', 'ACOmKiJDkA4_75_81', 'pFSoWsocv0g_8_17', 'pUPKsHTDZTo_70_85', 'nc0fVlaTYEs_34_44', '0hyZ__3YhZc_302_307', '_KMoC6ZdeXs_10_16', 'FavUpD_IjVY_22_26', '53dc4z7HLyg_25_29', 'tn-Hoz4KbkE_89_93', 'KeSQ5Rv7eH8_73_79', 'HkuOqWzXYVg_0_12', 'Eamd2wMKixs_48_72', 'oG6LLGi_n48_51_55', 'FH8vgAp4VDU_10_14', '3OPQqH3YlHA_50_54', 'EPXsiQw9vvo_1_12', 'kWLNZzuo3do_77_83', 'jjl2ZMdFCsw_17_35', '2I20ZTFHheg_96_104', 'ok4cM6WTA5E_178_184', 'YmXCfQm0_CA_68_75', 'kIZanu909lw_67_80', 'd7eGypGOlOc_13_22', 'ZlX_Gy4HP2E_38_55', 'BVjvRpmHg0w_157_165', 'UbmZAe5u5FI_88_98', 'FWzsXeXCwuc_106_110', 'jCplbayVbtw_10_20', 'nZSFn51l3hc_660_666', 'J7zb8YXrmIA_93_99', 'J4otiwOjQy8_98_112', 'f_GnkweYzzI_35_41', 'PslVHtXc7Tg_8_14', 's_ldnx8_etY_32_54', 'bQJQGoJF7_k_162_169', 'r0rmrbTb7fU_98_109', 'XZ0Ch_ClBfo_120_127', '-vKO3uSG6Do_3_14', '0vmoZEaN_-o_4_12', 'm7x8uIdg2XU_67_73', 'sv5YlZspb30_10_20', 'kk3TIio1-Uw_5_14', 'ysTmUTQ5wZE_17_45', 'oSnYUfCGiCA_7_17', '4UOVKok7j1U_1_8', 'R3a9r8qFlhQ_0_12', 'lB1UPJ4leqs_0_6', 'msCidKHOh74_392_399', 'KPPCwmU5OHQ_467_472', 'NoCgvH4xZHo_240_251', 'r4qv_BNlQNk_119_124', 'ok4cM6WTA5E_120_133', 'PqSZ89FqpiY_65_75', 'QHkvBU8diwU_1_18', 'HBCJYhUjVf0_0_9', 'qRoxNXm7INc_58_66', 'cFzSEIGrEfA_0_24', 'hkkmKk9LcQk_36_43', '1dfR0A_BXjw_524_532', 'UbmZAe5u5FI_111_115', 'D1tTBncIsm8_198_205', 't3VPeyYL-fI_35_39', '9d57lHEsLU8_1_14', 'qOiN__I1-Zo_2_8', 'INDhUwDMg-4_220_227', 'ObBss94n3gI_35_46', 'Gw0FU733zzg_58_66', 'pzq5fPfsPZg_145_160', '0I4VKj4d0WI_24_40', 'ACOmKiJDkA4_146_153', 'xxHx6s_DbUo_173_177', 'PmrTDZy3f2M_35_39', 'cnsjm3fNEec_4_10', '_O9kWD8nuRU_50_56', 'nZSFn51l3hc_480_485', 'wzfkC2TjdeQ_0_31', 'lfGlDg47How_93_98', 'xxHx6s_DbUo_216_222', 'SaOqf2d-y30_22_27', '88DOMJ11q2M_84_87', 'ok4cM6WTA5E_142_150', 'JpjAgSvr42k_0_12', '3zgEl-OLFKE_12_15', 'kEGmZDpZ_RE_295_330', 'hbE29pZh76I_3_8', 'ZN2_czSBSD0_240_250', 'kWLNZzuo3do_147_153', '-Ms9tsWmhyU_80_95', 'EKL6elkbFy0_16_30', 'y8SDRc4IOjs_94_99', 'x8Ul09tk6zk_0_8', 'DBvSfds3FH4_84_88', 'O9yLRzpPp44_167_190', 'k4hhWYtaQ14_0_10', 'q5ZRMvjzhXQ_15_29', 'OUII8_aOfNM_26_55', '-_aaMGK6GGw_57_61', '1dfR0A_BXjw_590_600', '7M-jsjLB20Y_11_30', '27mxaePkYB4_8_14', 'ao-9B8IV9_E_87_95', 'tn1d5DmdMqY_15_28', '2YhDTpzxd3c_22_27', 'p69d3UBdpR8_98_109', 'aM-RcQj0a7I_37_55', '_o1UXSxTjfo_68_80', 'bQJQGoJF7_k_109_115', '2Nn2CAeaI5k_72_77', 'sFExO_PW22s_10_18', 'bkazguPsusc_74_85', 'nLvX-erABqY_67_72', 'He7Ge7Sogrk_47_70', '5fq9iIxxA1s_12_27', 'EPgQ9QwbsLE_16_23', 'IhwPQL9dFYc_130_136', 'JYNzY9jmsQQ_2_10', '0lh_UWF9ZP4_21_26', 'bJJndejsUWc_88_98', 'hWhKdXcqYeU_3_12', 'R24RktgUi-s_24_28', 'kWLNZzuo3do_167_181', 'xxHx6s_DbUo_202_207', '77iDIp40m9E_3_9', 'lm0z7eLsbbw_9_23', '6GJ1DNOGDAM_223_233', '0lh_UWF9ZP4_191_197', 'lfGlDg47How_110_115', 'm4D72WXFd8s_557_564', 'Pr5LQq42l4M_12_17', 'kWLNZzuo3do_217_222', '8MVo7fje_oE_108_113', 'mCrRHP4LFmo_24_40', 'YwmUgVrUJ4I_0_15', 'QA_JTtM1hKA_5_15', 'VfqlfprZsaQ_75_85', 'kquB3rIgfGk_197_202', 'Je3V7U5Ctj4_634_639', '0lh_UWF9ZP4_199_207', 'MdOAr_4FJvc_5_15', '0lh_UWF9ZP4_94_103', 'sT5Bzt9w354_11_34', 'uH8ObB_dyOk_159_166', 'YZ0-6hdQ0mU_0_3', 'yNy9jTeolUk_8_12', '45AGQSbodbU_5_15', 'hW8TKz2Aea4_5_12', 'mFCf8lLXrUc_36_57', 'pqTWUzehCUM_42_47', 'qeKX-N1nKiM_0_5', 'GzlnqrzdYHU_32_40', 'K1ZM0LSLVw8_481_487', 'JledeVyklPw_1_6', '3FnUTQMJVXI_31_36', 'mmSQTI6gMNQ_120_128', 'bDoCQEwghZU_201_211', 'kWLNZzuo3do_56_62', '9xVqwy_4pmQ_36_49', 'g2IYQq7IkXc_23_32', '5l6acVf12S4_7_13'}\n",
            "[val] All captions in JSON 'sentences' section have matching video files in folder.\n",
            "[test] Videos present in folder but missing in JSON 'videos' section: {'hEOGZoYSvT4_82_86', 'lrZxpneS6Gk_0_12', 'mFCf8lLXrUc_25_35', 'IHIa75B9AhI_2_26', 'MHIVmf42Ao4_31_36', '4_WZN7uW0NY_140_145', '5OuYhq6Zl0g_0_10', 'C2rDp6FnbP0_10_17', 'BefkDBj5gSw_233_240', 'QGgJlHi3tjw_1_15', 'qeKX-N1nKiM_52_59', 'WTf5EgVY5uU_76_83', '9fkS7wqrzAY_13_25', 'DIToA1dDwGQ_32_42', 'NjCqtzZ3OtU_303_307', '8MVo7fje_oE_130_136', '71soiLO6I9U_15_24', 'ACOmKiJDkA4_23_30', 'kEGmZDpZ_RE_352_370', 'ScdUht-pM6s_53_63', 'Qtu-PXuvCx4_12_17', 'BtQEY2SL4g4_126_132', '-FugkxLmGO4_5_16', 's20OlIRK340_147_174', 'eyhzdC936uk_15_27', 'j2Dhf-xFUxU_13_20', 'VahnQw2gTQY_203_210', 'C1MNCR1o9lU_0_7', 'aHiUM8uWxxo_17_25', 'Ayh26v6Nies_17_22', 'C_DDjCRxTxQ_1_4', 'IhwPQL9dFYc_124_129', '7d1d2WlEnKs_0_12', 'a-cek0mvXxE_15_25', '-s4-6QTT7HE_235_241', 'rV5VmhY3-Sw_65_76', '-_hbPLsZvvo_172_179', 'zSPBC8EO6dY_64_73', 'jxdubZzQrio_33_46', 'xxHx6s_DbUo_82_86', 'lsanQj2yacs_80_85', 'inLBPVG8oEU_18_24', 'bmOy6p87TWI_26_35', 'glii-kazad8_21_29', 'MHWxjWwAbwM_10_25', 'gp8XjWSoP2k_0_10', 'rw9h_574HxE_229_236', 'EA-J-Y6QjUo_40_61', 'gbUhorqLCzU_10_23', 'QT8iCDc7NGU_18_23', 'pNelR-nHz7g_68_90', '9IrWyZ0KZuk_160_166', '7HcYJKMxpcg_20_28', '98shpdib9sg_55_62', '3qqEKTPxLNs_1_15', 'MPuKVz3sjBA_1_12', 'zr9OeyfLPPY_4_9', 'NV6pq1W-I4g_7_16', 'xBW_uR3kGr4_42_55', 'ItFqogTmAvQ_281_286', '2YhDTpzxd3c_45_49', 'NZWiKMZS_k8_39_48', 'xPR0xFgCAZY_17_27', 'G_hxdUG6QXE_23_28', 'vE1gvaM3iAs_39_46', 'RQYLGNbal2c_5_10', 'ACOmKiJDkA4_121_128', 'LLkehH86ABY_30_36', 'OO-5-eVEKPA_25_31', 'yAD_TS5L2d4_4_11', 'w28TljSqtW8_64_75', '_O9kWD8nuRU_70_76', 'GWQTAe64m-0_160_166', 'UbmZAe5u5FI_44_55', 'PECk9A-07Pw_1_9', 'lmCrIZeob4w_23_26', '6KS8R3RxrV8_0_23', 'u9E9HpuJQ7U_29_43', 'qvSxiVV7jhw_0_15', 'ETUJipdnfOM_0_5', 'J_evFB7RIKA_104_120', 'gMqKUPeTAkg_17_30', 'kKGehSw5ht8_39_45', 'aK8liAv-28s_72_82', 'rwHT2SuNOi8_195_201', '-_hbPLsZvvo_18_25', '8D_oQnBPfNo_43_50', 'toE0QYZzJKE_1_8', 'Xh6rdpJNaf0_0_15', 'BefkDBj5gSw_104_109', 'aN0WsBcja_E_0_15', '4R-tumAGrtU_12_22', '-dm-ds5rRaM_44_52', 'IhwPQL9dFYc_137_143', '6vSKIUGGLvY_81_87', 'TnPOZVHB3x0_45_55', 'JhCvLmf9yr0_46_50', 'PHDmVhShE80_78_82', 'DlOhXqKcLXk_7_14', 'c2a0GcoJAjw_52_73', 'PeUHy0A1GF0_74_77', 'p6cg2jWI34M_34_42', 'uO7Eysrs8_k_106_114', 'jTaLGh_MKCM_5_20', 'dtwXtwJByYk_5_14', 'WpB4-eLyiBc_10_20', 'vuvpbeQak9Q_23_29', 'kJY5BRCNAs4_3_6', 'Cjf21Y19aUQ_82_86', 'GWQTAe64m-0_91_94', 'dQmaVQZz7EE_1_18', 'tzd3AYTZq0U_0_6', 'IhwPQL9dFYc_78_88', '9OvXb1fot74_21_29', 'bSIjZ75a50s_286_304', '6r5DmFa5ZR8_51_58', 'xxHx6s_DbUo_158_161', 'Gn4Iv5ARIXc_83_93', 'TZ860P4iTaM_15_28', '6t0BpjwYKco_59_69', '5XxshEdcfAM_85_100', 'AXL1oMdCFUM_45_59', 'lo4KcsBN--A_0_10', '_O9kWD8nuRU_37_43', '0k1Ak8aTMVI_4_12', '_7nP9z6T9m8_11_17', 'D1tTBncIsm8_248_254', 'BAf3LXFUaGs_28_38', 'zMg9dChF97A_12_38', '9W6aQNcU3PA_92_103', '3chNlP5TeO8_0_10', 'f_CvW22Eauc_16_23', 'jLgmCY1fEE8_16_26', 'yC4eEuURH8c_19_28', 'T6lPRKRpu9w_32_39', 'hW8TKz2Aea4_40_50', 'xdhLQCYQ-nQ_50_63', '5U3xz9Ovmhk_9_15', 'btuxO-C2IzE_64_72', 'lw7pTwpx0K0_38_48', 'QsvBYKaCXEc_5_15', 'AJJ-iQkbRNE_97_109', 'x1i0UOssll8_141_151', 'Z3rj9LbCOaM_0_12', 'Jfu-WkuCgD0_140_150', '0hyZ__3YhZc_279_283', 'HV12kTtdTT4_5_14', 'dhxE9CNeVeY_0_12', 'R2DvpPTfl-E_20_25', 'Je3V7U5Ctj4_488_495', '8PQiaurIiDM_143_151', 'mOZkcBcWR8o_6_12', '30GeJHYoerk_121_126', 'bxjFqtfJlMs_18_27', 'BR4yQFZK9YM_101_110', 'MWvCcwTw7Ac_154_181', 'WTf5EgVY5uU_98_104', 'bmxIurBrW5s_51_70', 'r2oI9Y-3wAo_21_28', 'PD6eQY7yCfw_32_37', '5E66Gk3V1Bc_23_30', '-wa0umYJVGg_168_176', 'pW9DFPqoIsI_26_50', '0lh_UWF9ZP4_138_145', 'vDhEpqfhVI0_0_8', 'DKgHYLDebx0_0_8', 'hksxtbcS780_7_14', 'rOic25PnIx8_1_3', 'WPG-BIWOrG4_608_613', 'm1c04pCYGxA_57_64', 'Ud3Qy8m6OxQ_52_62', 'kWLNZzuo3do_38_47', 'wgrrQwLdME8_66_74', 'k8l4ETsylVY_9_18', 'PCXHuseKwDc_17_20', '8VUbN3hkdBo_36_50', '0hyZ__3YhZc_410_417', 'i2GgBwlwV0c_24_31', 'c_XV7nPoRg8_2_12', 'HYbEf-JKZnA_13_26', 'OaBmAg6gz30_4_18', 'WTf5EgVY5uU_58_76', 'dMH0bHeiRNg_3_14', 'tqxRDVKtkSY_30_45', 'lexLAjh8fPA_27_31', 'JntMAcTlOF0_50_70', 'sJSmRik2c-c_1_7', 'k5OKBX2e7xA_19_32', 'vfktGc_qx-w_2_18', '4ge5_V-xhP0_138_142', '-rkErLY0rRc_63_67', 'Ms3QdGIzltU_1_16', 'CGllPWAwmUo_1_15', 'Ow_o78zjo14_42_57', 'ZsrPKtx0qyg_7_15', 'ArEWo8pERFc_17_21', 'onxE6PpEXes_8_25', 'swJ0zhVJ8DU_15_21', '8HB7ywgJuTg_131_142', '6sKdTbRkahM_6_12', '0hyZ__3YhZc_632_637', 'VZ6H73nH7xs_27_33', 'aeA-HN7BMdo_16_33', 'LacBy2NT3YQ_12_17', '-t-ZWaJeH-o_0_15', 'YmXCfQm0_CA_277_284', '5JSbxHECb-I_97_110', '0lh_UWF9ZP4_178_182', 'e-j59PqJjSM_163_173', 'haJn6k5zVnE_1_23', 'Dgf0VHMEtNs_57_66', 'ibSwITK4jjQ_14_24', '9wxB1UQi0MM_18_38', 'ymC2bNi6-Is_9_19', 'qeKX-N1nKiM_68_72', 'rXZy-PHtnxg_8_42', 'ePujnD4qJO0_62_77', 'ht2oIYBSoI0_9_21', 'GtrTNldo0LI_33_46', '-Cv5LsqKUXc_17_25', 'YmXCfQm0_CA_50_57', 'GnwKcpfr_ng_10_20', 'fGc6_D0JEIQ_31_46', 'ItFqogTmAvQ_361_365', 'sBjr8UJOpsQ_181_195', '1qV4wfjTYIo_151_164', 'UxhKb-zZoWE_0_15', 'ZL7P_XmSnEY_205_209', 's-dSFyz_5Ww_31_41', 'fVWUaH2mCt4_1_7', 'fEsrO_poIUg_161_168', 'AysIdzGF-7M_6_14', 'dmyz_f8Sx14_56_66', 'MoqC84sXu88_47_59', 'ZDoy9S82ETA_5_15', '3I9tSDU-OSk_17_22', 'MF88IYF2MHY_25_59', 'lSnWhsmlGec_5_10', 'HM-ZDoRWiH4_0_5', '2KrdBUFeFtY_22_27', 'XOAgUVVwKEA_8_20', 'DJWmm_Q9WvY_1_25', '5OvgDatToBU_0_8', 'CTIKmoEigCI_3_30', 'PeUHy0A1GF0_122_127', 'H1Bok7Dg7g8_21_26', '-mAoVOhKy0c_4_9', 'htry5uxX0-Y_45_52', 'zBrC1GmA0Qg_26_33'}\n",
            "[test] All entries in JSON 'videos' section have matching video files in folder.\n",
            "[test] Videos present in folder but missing captions in JSON 'sentences' section: {'hEOGZoYSvT4_82_86', 'lrZxpneS6Gk_0_12', 'mFCf8lLXrUc_25_35', 'IHIa75B9AhI_2_26', 'MHIVmf42Ao4_31_36', '4_WZN7uW0NY_140_145', '5OuYhq6Zl0g_0_10', 'C2rDp6FnbP0_10_17', 'BefkDBj5gSw_233_240', 'QGgJlHi3tjw_1_15', 'qeKX-N1nKiM_52_59', 'WTf5EgVY5uU_76_83', '9fkS7wqrzAY_13_25', 'DIToA1dDwGQ_32_42', 'NjCqtzZ3OtU_303_307', '8MVo7fje_oE_130_136', '71soiLO6I9U_15_24', 'ACOmKiJDkA4_23_30', 'kEGmZDpZ_RE_352_370', 'ScdUht-pM6s_53_63', 'Qtu-PXuvCx4_12_17', 'BtQEY2SL4g4_126_132', '-FugkxLmGO4_5_16', 's20OlIRK340_147_174', 'eyhzdC936uk_15_27', 'j2Dhf-xFUxU_13_20', 'VahnQw2gTQY_203_210', 'C1MNCR1o9lU_0_7', 'aHiUM8uWxxo_17_25', 'Ayh26v6Nies_17_22', 'C_DDjCRxTxQ_1_4', 'IhwPQL9dFYc_124_129', '7d1d2WlEnKs_0_12', 'a-cek0mvXxE_15_25', '-s4-6QTT7HE_235_241', 'rV5VmhY3-Sw_65_76', '-_hbPLsZvvo_172_179', 'zSPBC8EO6dY_64_73', 'jxdubZzQrio_33_46', 'xxHx6s_DbUo_82_86', 'lsanQj2yacs_80_85', 'inLBPVG8oEU_18_24', 'bmOy6p87TWI_26_35', 'glii-kazad8_21_29', 'MHWxjWwAbwM_10_25', 'gp8XjWSoP2k_0_10', 'rw9h_574HxE_229_236', 'EA-J-Y6QjUo_40_61', 'gbUhorqLCzU_10_23', 'QT8iCDc7NGU_18_23', 'pNelR-nHz7g_68_90', '9IrWyZ0KZuk_160_166', '7HcYJKMxpcg_20_28', '98shpdib9sg_55_62', '3qqEKTPxLNs_1_15', 'MPuKVz3sjBA_1_12', 'zr9OeyfLPPY_4_9', 'NV6pq1W-I4g_7_16', 'xBW_uR3kGr4_42_55', 'ItFqogTmAvQ_281_286', '2YhDTpzxd3c_45_49', 'NZWiKMZS_k8_39_48', 'xPR0xFgCAZY_17_27', 'G_hxdUG6QXE_23_28', 'vE1gvaM3iAs_39_46', 'RQYLGNbal2c_5_10', 'ACOmKiJDkA4_121_128', 'LLkehH86ABY_30_36', 'OO-5-eVEKPA_25_31', 'yAD_TS5L2d4_4_11', 'w28TljSqtW8_64_75', '_O9kWD8nuRU_70_76', 'GWQTAe64m-0_160_166', 'UbmZAe5u5FI_44_55', 'PECk9A-07Pw_1_9', 'lmCrIZeob4w_23_26', '6KS8R3RxrV8_0_23', 'u9E9HpuJQ7U_29_43', 'qvSxiVV7jhw_0_15', 'ETUJipdnfOM_0_5', 'J_evFB7RIKA_104_120', 'gMqKUPeTAkg_17_30', 'kKGehSw5ht8_39_45', 'aK8liAv-28s_72_82', 'rwHT2SuNOi8_195_201', '-_hbPLsZvvo_18_25', '8D_oQnBPfNo_43_50', 'toE0QYZzJKE_1_8', 'Xh6rdpJNaf0_0_15', 'BefkDBj5gSw_104_109', 'aN0WsBcja_E_0_15', '4R-tumAGrtU_12_22', '-dm-ds5rRaM_44_52', 'IhwPQL9dFYc_137_143', '6vSKIUGGLvY_81_87', 'TnPOZVHB3x0_45_55', 'JhCvLmf9yr0_46_50', 'PHDmVhShE80_78_82', 'DlOhXqKcLXk_7_14', 'c2a0GcoJAjw_52_73', 'PeUHy0A1GF0_74_77', 'p6cg2jWI34M_34_42', 'uO7Eysrs8_k_106_114', 'jTaLGh_MKCM_5_20', 'dtwXtwJByYk_5_14', 'WpB4-eLyiBc_10_20', 'vuvpbeQak9Q_23_29', 'kJY5BRCNAs4_3_6', 'Cjf21Y19aUQ_82_86', 'GWQTAe64m-0_91_94', 'dQmaVQZz7EE_1_18', 'tzd3AYTZq0U_0_6', 'IhwPQL9dFYc_78_88', '9OvXb1fot74_21_29', 'bSIjZ75a50s_286_304', '6r5DmFa5ZR8_51_58', 'xxHx6s_DbUo_158_161', 'Gn4Iv5ARIXc_83_93', 'TZ860P4iTaM_15_28', '6t0BpjwYKco_59_69', '5XxshEdcfAM_85_100', 'AXL1oMdCFUM_45_59', 'lo4KcsBN--A_0_10', '_O9kWD8nuRU_37_43', '0k1Ak8aTMVI_4_12', '_7nP9z6T9m8_11_17', 'D1tTBncIsm8_248_254', 'BAf3LXFUaGs_28_38', 'zMg9dChF97A_12_38', '9W6aQNcU3PA_92_103', '3chNlP5TeO8_0_10', 'f_CvW22Eauc_16_23', 'jLgmCY1fEE8_16_26', 'yC4eEuURH8c_19_28', 'T6lPRKRpu9w_32_39', 'hW8TKz2Aea4_40_50', 'xdhLQCYQ-nQ_50_63', '5U3xz9Ovmhk_9_15', 'btuxO-C2IzE_64_72', 'lw7pTwpx0K0_38_48', 'QsvBYKaCXEc_5_15', 'AJJ-iQkbRNE_97_109', 'x1i0UOssll8_141_151', 'Z3rj9LbCOaM_0_12', 'Jfu-WkuCgD0_140_150', '0hyZ__3YhZc_279_283', 'HV12kTtdTT4_5_14', 'dhxE9CNeVeY_0_12', 'R2DvpPTfl-E_20_25', 'Je3V7U5Ctj4_488_495', '8PQiaurIiDM_143_151', 'mOZkcBcWR8o_6_12', '30GeJHYoerk_121_126', 'bxjFqtfJlMs_18_27', 'BR4yQFZK9YM_101_110', 'MWvCcwTw7Ac_154_181', 'WTf5EgVY5uU_98_104', 'bmxIurBrW5s_51_70', 'r2oI9Y-3wAo_21_28', 'PD6eQY7yCfw_32_37', '5E66Gk3V1Bc_23_30', '-wa0umYJVGg_168_176', 'pW9DFPqoIsI_26_50', '0lh_UWF9ZP4_138_145', 'vDhEpqfhVI0_0_8', 'DKgHYLDebx0_0_8', 'hksxtbcS780_7_14', 'rOic25PnIx8_1_3', 'WPG-BIWOrG4_608_613', 'm1c04pCYGxA_57_64', 'Ud3Qy8m6OxQ_52_62', 'kWLNZzuo3do_38_47', 'wgrrQwLdME8_66_74', 'k8l4ETsylVY_9_18', 'PCXHuseKwDc_17_20', '8VUbN3hkdBo_36_50', '0hyZ__3YhZc_410_417', 'i2GgBwlwV0c_24_31', 'c_XV7nPoRg8_2_12', 'HYbEf-JKZnA_13_26', 'OaBmAg6gz30_4_18', 'WTf5EgVY5uU_58_76', 'dMH0bHeiRNg_3_14', 'tqxRDVKtkSY_30_45', 'lexLAjh8fPA_27_31', 'JntMAcTlOF0_50_70', 'sJSmRik2c-c_1_7', 'k5OKBX2e7xA_19_32', 'vfktGc_qx-w_2_18', '4ge5_V-xhP0_138_142', '-rkErLY0rRc_63_67', 'Ms3QdGIzltU_1_16', 'CGllPWAwmUo_1_15', 'Ow_o78zjo14_42_57', 'ZsrPKtx0qyg_7_15', 'ArEWo8pERFc_17_21', 'onxE6PpEXes_8_25', 'swJ0zhVJ8DU_15_21', '8HB7ywgJuTg_131_142', '6sKdTbRkahM_6_12', '0hyZ__3YhZc_632_637', 'VZ6H73nH7xs_27_33', 'aeA-HN7BMdo_16_33', 'LacBy2NT3YQ_12_17', '-t-ZWaJeH-o_0_15', 'YmXCfQm0_CA_277_284', '5JSbxHECb-I_97_110', '0lh_UWF9ZP4_178_182', 'e-j59PqJjSM_163_173', 'haJn6k5zVnE_1_23', 'Dgf0VHMEtNs_57_66', 'ibSwITK4jjQ_14_24', '9wxB1UQi0MM_18_38', 'ymC2bNi6-Is_9_19', 'qeKX-N1nKiM_68_72', 'rXZy-PHtnxg_8_42', 'ePujnD4qJO0_62_77', 'ht2oIYBSoI0_9_21', 'GtrTNldo0LI_33_46', '-Cv5LsqKUXc_17_25', 'YmXCfQm0_CA_50_57', 'GnwKcpfr_ng_10_20', 'fGc6_D0JEIQ_31_46', 'ItFqogTmAvQ_361_365', 'sBjr8UJOpsQ_181_195', '1qV4wfjTYIo_151_164', 'UxhKb-zZoWE_0_15', 'ZL7P_XmSnEY_205_209', 's-dSFyz_5Ww_31_41', 'fVWUaH2mCt4_1_7', 'fEsrO_poIUg_161_168', 'AysIdzGF-7M_6_14', 'dmyz_f8Sx14_56_66', 'MoqC84sXu88_47_59', 'ZDoy9S82ETA_5_15', '3I9tSDU-OSk_17_22', 'MF88IYF2MHY_25_59', 'lSnWhsmlGec_5_10', 'HM-ZDoRWiH4_0_5', '2KrdBUFeFtY_22_27', 'XOAgUVVwKEA_8_20', 'DJWmm_Q9WvY_1_25', '5OvgDatToBU_0_8', 'CTIKmoEigCI_3_30', 'PeUHy0A1GF0_122_127', 'H1Bok7Dg7g8_21_26', '-mAoVOhKy0c_4_9', 'htry5uxX0-Y_45_52', 'zBrC1GmA0Qg_26_33'}\n",
            "[test] All captions in JSON 'sentences' section have matching video files in folder.\n"
          ]
        }
      ]
    },
    {
      "cell_type": "code",
      "source": [
        "!pip install torchvision\n",
        "!pip install opencv-python"
      ],
      "metadata": {
        "colab": {
          "base_uri": "https://localhost:8080/"
        },
        "id": "iJ0Jql7PdlJH",
        "outputId": "b9a12f33-6bf8-4c97-c0b0-551b0addae22"
      },
      "execution_count": null,
      "outputs": [
        {
          "output_type": "stream",
          "name": "stdout",
          "text": [
            "Requirement already satisfied: torchvision in /usr/local/lib/python3.11/dist-packages (0.21.0+cu124)\n",
            "Requirement already satisfied: numpy in /usr/local/lib/python3.11/dist-packages (from torchvision) (2.0.2)\n",
            "Requirement already satisfied: torch==2.6.0 in /usr/local/lib/python3.11/dist-packages (from torchvision) (2.6.0+cu124)\n",
            "Requirement already satisfied: pillow!=8.3.*,>=5.3.0 in /usr/local/lib/python3.11/dist-packages (from torchvision) (11.1.0)\n",
            "Requirement already satisfied: filelock in /usr/local/lib/python3.11/dist-packages (from torch==2.6.0->torchvision) (3.18.0)\n",
            "Requirement already satisfied: typing-extensions>=4.10.0 in /usr/local/lib/python3.11/dist-packages (from torch==2.6.0->torchvision) (4.13.2)\n",
            "Requirement already satisfied: networkx in /usr/local/lib/python3.11/dist-packages (from torch==2.6.0->torchvision) (3.4.2)\n",
            "Requirement already satisfied: jinja2 in /usr/local/lib/python3.11/dist-packages (from torch==2.6.0->torchvision) (3.1.6)\n",
            "Requirement already satisfied: fsspec in /usr/local/lib/python3.11/dist-packages (from torch==2.6.0->torchvision) (2025.3.2)\n",
            "Requirement already satisfied: nvidia-cuda-nvrtc-cu12==12.4.127 in /usr/local/lib/python3.11/dist-packages (from torch==2.6.0->torchvision) (12.4.127)\n",
            "Requirement already satisfied: nvidia-cuda-runtime-cu12==12.4.127 in /usr/local/lib/python3.11/dist-packages (from torch==2.6.0->torchvision) (12.4.127)\n",
            "Requirement already satisfied: nvidia-cuda-cupti-cu12==12.4.127 in /usr/local/lib/python3.11/dist-packages (from torch==2.6.0->torchvision) (12.4.127)\n",
            "Requirement already satisfied: nvidia-cudnn-cu12==9.1.0.70 in /usr/local/lib/python3.11/dist-packages (from torch==2.6.0->torchvision) (9.1.0.70)\n",
            "Requirement already satisfied: nvidia-cublas-cu12==12.4.5.8 in /usr/local/lib/python3.11/dist-packages (from torch==2.6.0->torchvision) (12.4.5.8)\n",
            "Requirement already satisfied: nvidia-cufft-cu12==11.2.1.3 in /usr/local/lib/python3.11/dist-packages (from torch==2.6.0->torchvision) (11.2.1.3)\n",
            "Requirement already satisfied: nvidia-curand-cu12==10.3.5.147 in /usr/local/lib/python3.11/dist-packages (from torch==2.6.0->torchvision) (10.3.5.147)\n",
            "Requirement already satisfied: nvidia-cusolver-cu12==11.6.1.9 in /usr/local/lib/python3.11/dist-packages (from torch==2.6.0->torchvision) (11.6.1.9)\n",
            "Requirement already satisfied: nvidia-cusparse-cu12==12.3.1.170 in /usr/local/lib/python3.11/dist-packages (from torch==2.6.0->torchvision) (12.3.1.170)\n",
            "Requirement already satisfied: nvidia-cusparselt-cu12==0.6.2 in /usr/local/lib/python3.11/dist-packages (from torch==2.6.0->torchvision) (0.6.2)\n",
            "Requirement already satisfied: nvidia-nccl-cu12==2.21.5 in /usr/local/lib/python3.11/dist-packages (from torch==2.6.0->torchvision) (2.21.5)\n",
            "Requirement already satisfied: nvidia-nvtx-cu12==12.4.127 in /usr/local/lib/python3.11/dist-packages (from torch==2.6.0->torchvision) (12.4.127)\n",
            "Requirement already satisfied: nvidia-nvjitlink-cu12==12.4.127 in /usr/local/lib/python3.11/dist-packages (from torch==2.6.0->torchvision) (12.4.127)\n",
            "Requirement already satisfied: triton==3.2.0 in /usr/local/lib/python3.11/dist-packages (from torch==2.6.0->torchvision) (3.2.0)\n",
            "Requirement already satisfied: sympy==1.13.1 in /usr/local/lib/python3.11/dist-packages (from torch==2.6.0->torchvision) (1.13.1)\n",
            "Requirement already satisfied: mpmath<1.4,>=1.1.0 in /usr/local/lib/python3.11/dist-packages (from sympy==1.13.1->torch==2.6.0->torchvision) (1.3.0)\n",
            "Requirement already satisfied: MarkupSafe>=2.0 in /usr/local/lib/python3.11/dist-packages (from jinja2->torch==2.6.0->torchvision) (3.0.2)\n",
            "Requirement already satisfied: opencv-python in /usr/local/lib/python3.11/dist-packages (4.11.0.86)\n",
            "Requirement already satisfied: numpy>=1.21.2 in /usr/local/lib/python3.11/dist-packages (from opencv-python) (2.0.2)\n"
          ]
        }
      ]
    },
    {
      "cell_type": "code",
      "source": [
        "import json\n",
        "from collections import Counter\n",
        "\n",
        "def build_vocabulary(\n",
        "    json_paths,\n",
        "    min_freq=1,\n",
        "    save_path='/content/drive/MyDrive/VideoCaptioning/msvd_split/vocab.json',\n",
        "    reverse_path='/content/drive/MyDrive/VideoCaptioning/msvd_split/vocab_rev.json',\n",
        "    top_k_preview=10\n",
        "):\n",
        "    special_tokens = ['<PAD>', '<SOS>', '<EOS>', '<UNK>']\n",
        "    word_counter = Counter()\n",
        "\n",
        "    # Step 1: Count all words\n",
        "    for json_path in json_paths:\n",
        "        with open(json_path, 'r') as f:\n",
        "            data = json.load(f)\n",
        "            for sentence in data['sentences']:\n",
        "                words = sentence['caption'].lower().split()\n",
        "                word_counter.update(words)\n",
        "\n",
        "    # Step 2: Initialize vocab with special tokens\n",
        "    vocab = {token: idx for idx, token in enumerate(special_tokens)}\n",
        "\n",
        "    # Step 3: Add frequent words sorted by frequency (descending)\n",
        "    for word, freq in word_counter.most_common():\n",
        "        if freq >= min_freq:\n",
        "            if word not in vocab:  # Avoid conflict with special tokens\n",
        "                vocab[word] = len(vocab)\n",
        "\n",
        "    # Step 4: Create reverse vocab\n",
        "    vocab_rev = {idx: word for word, idx in vocab.items()}\n",
        "\n",
        "    # Step 5: Save both files\n",
        "    with open(save_path, 'w') as f:\n",
        "        json.dump(vocab, f, indent=4)\n",
        "    with open(reverse_path, 'w') as f:\n",
        "        json.dump(vocab_rev, f, indent=4)\n",
        "\n",
        "    # Step 6: Show summary\n",
        "    print(f\"✅ Vocabulary built with {len(vocab)} tokens.\")\n",
        "    print(f\"📁 Saved vocab to: {save_path}\")\n",
        "    print(f\"📁 Saved reverse vocab to: {reverse_path}\")\n",
        "    print(f\"📊 Top {top_k_preview} frequent words:\")\n",
        "    for word, freq in word_counter.most_common(top_k_preview):\n",
        "        print(f\"   {word:<15} : {freq}\")\n",
        "\n",
        "# === Paths to your cleaned split JSON files\n",
        "json_paths = [\n",
        "    '/content/drive/MyDrive/VideoCaptioning/msvd_split/train/train_captions.json',\n",
        "    '/content/drive/MyDrive/VideoCaptioning/msvd_split/val/val_captions.json',\n",
        "    '/content/drive/MyDrive/VideoCaptioning/msvd_split/test/test_captions.json'\n",
        "]\n",
        "\n",
        "# === Run vocabulary builder\n",
        "build_vocabulary(json_paths, min_freq=1)\n"
      ],
      "metadata": {
        "colab": {
          "base_uri": "https://localhost:8080/"
        },
        "id": "eni0vvQkeeIU",
        "outputId": "77fe009e-b34c-4568-d9e8-63acc3ecc160"
      },
      "execution_count": null,
      "outputs": [
        {
          "output_type": "stream",
          "name": "stdout",
          "text": [
            "✅ Vocabulary built with 12596 tokens.\n",
            "📁 Saved vocab to: /content/drive/MyDrive/VideoCaptioning/msvd_split/vocab.json\n",
            "📁 Saved reverse vocab to: /content/drive/MyDrive/VideoCaptioning/msvd_split/vocab_rev.json\n",
            "📊 Top 10 frequent words:\n",
            "   a               : 90402\n",
            "   is              : 44518\n",
            "   the             : 29203\n",
            "   man             : 23161\n",
            "   woman           : 10174\n",
            "   on              : 9428\n",
            "   in              : 9230\n",
            "   playing         : 7804\n",
            "   are             : 7138\n",
            "   of              : 6713\n"
          ]
        }
      ]
    },
    {
      "cell_type": "code",
      "source": [
        "!pip install pretrainedmodels"
      ],
      "metadata": {
        "colab": {
          "base_uri": "https://localhost:8080/"
        },
        "id": "_JbSn7kbenne",
        "outputId": "855bf7e4-d31d-4060-e227-58e1ac274d20"
      },
      "execution_count": null,
      "outputs": [
        {
          "output_type": "stream",
          "name": "stdout",
          "text": [
            "Requirement already satisfied: pretrainedmodels in /usr/local/lib/python3.11/dist-packages (0.7.4)\n",
            "Requirement already satisfied: torch in /usr/local/lib/python3.11/dist-packages (from pretrainedmodels) (2.6.0+cu124)\n",
            "Requirement already satisfied: torchvision in /usr/local/lib/python3.11/dist-packages (from pretrainedmodels) (0.21.0+cu124)\n",
            "Requirement already satisfied: munch in /usr/local/lib/python3.11/dist-packages (from pretrainedmodels) (4.0.0)\n",
            "Requirement already satisfied: tqdm in /usr/local/lib/python3.11/dist-packages (from pretrainedmodels) (4.67.1)\n",
            "Requirement already satisfied: filelock in /usr/local/lib/python3.11/dist-packages (from torch->pretrainedmodels) (3.18.0)\n",
            "Requirement already satisfied: typing-extensions>=4.10.0 in /usr/local/lib/python3.11/dist-packages (from torch->pretrainedmodels) (4.13.2)\n",
            "Requirement already satisfied: networkx in /usr/local/lib/python3.11/dist-packages (from torch->pretrainedmodels) (3.4.2)\n",
            "Requirement already satisfied: jinja2 in /usr/local/lib/python3.11/dist-packages (from torch->pretrainedmodels) (3.1.6)\n",
            "Requirement already satisfied: fsspec in /usr/local/lib/python3.11/dist-packages (from torch->pretrainedmodels) (2025.3.2)\n",
            "Requirement already satisfied: nvidia-cuda-nvrtc-cu12==12.4.127 in /usr/local/lib/python3.11/dist-packages (from torch->pretrainedmodels) (12.4.127)\n",
            "Requirement already satisfied: nvidia-cuda-runtime-cu12==12.4.127 in /usr/local/lib/python3.11/dist-packages (from torch->pretrainedmodels) (12.4.127)\n",
            "Requirement already satisfied: nvidia-cuda-cupti-cu12==12.4.127 in /usr/local/lib/python3.11/dist-packages (from torch->pretrainedmodels) (12.4.127)\n",
            "Requirement already satisfied: nvidia-cudnn-cu12==9.1.0.70 in /usr/local/lib/python3.11/dist-packages (from torch->pretrainedmodels) (9.1.0.70)\n",
            "Requirement already satisfied: nvidia-cublas-cu12==12.4.5.8 in /usr/local/lib/python3.11/dist-packages (from torch->pretrainedmodels) (12.4.5.8)\n",
            "Requirement already satisfied: nvidia-cufft-cu12==11.2.1.3 in /usr/local/lib/python3.11/dist-packages (from torch->pretrainedmodels) (11.2.1.3)\n",
            "Requirement already satisfied: nvidia-curand-cu12==10.3.5.147 in /usr/local/lib/python3.11/dist-packages (from torch->pretrainedmodels) (10.3.5.147)\n",
            "Requirement already satisfied: nvidia-cusolver-cu12==11.6.1.9 in /usr/local/lib/python3.11/dist-packages (from torch->pretrainedmodels) (11.6.1.9)\n",
            "Requirement already satisfied: nvidia-cusparse-cu12==12.3.1.170 in /usr/local/lib/python3.11/dist-packages (from torch->pretrainedmodels) (12.3.1.170)\n",
            "Requirement already satisfied: nvidia-cusparselt-cu12==0.6.2 in /usr/local/lib/python3.11/dist-packages (from torch->pretrainedmodels) (0.6.2)\n",
            "Requirement already satisfied: nvidia-nccl-cu12==2.21.5 in /usr/local/lib/python3.11/dist-packages (from torch->pretrainedmodels) (2.21.5)\n",
            "Requirement already satisfied: nvidia-nvtx-cu12==12.4.127 in /usr/local/lib/python3.11/dist-packages (from torch->pretrainedmodels) (12.4.127)\n",
            "Requirement already satisfied: nvidia-nvjitlink-cu12==12.4.127 in /usr/local/lib/python3.11/dist-packages (from torch->pretrainedmodels) (12.4.127)\n",
            "Requirement already satisfied: triton==3.2.0 in /usr/local/lib/python3.11/dist-packages (from torch->pretrainedmodels) (3.2.0)\n",
            "Requirement already satisfied: sympy==1.13.1 in /usr/local/lib/python3.11/dist-packages (from torch->pretrainedmodels) (1.13.1)\n",
            "Requirement already satisfied: mpmath<1.4,>=1.1.0 in /usr/local/lib/python3.11/dist-packages (from sympy==1.13.1->torch->pretrainedmodels) (1.3.0)\n",
            "Requirement already satisfied: numpy in /usr/local/lib/python3.11/dist-packages (from torchvision->pretrainedmodels) (2.0.2)\n",
            "Requirement already satisfied: pillow!=8.3.*,>=5.3.0 in /usr/local/lib/python3.11/dist-packages (from torchvision->pretrainedmodels) (11.1.0)\n",
            "Requirement already satisfied: MarkupSafe>=2.0 in /usr/local/lib/python3.11/dist-packages (from jinja2->torch->pretrainedmodels) (3.0.2)\n"
          ]
        }
      ]
    },
    {
      "cell_type": "code",
      "source": [
        "#feature extraction\n",
        "\n",
        "import os\n",
        "import shutil\n",
        "import subprocess\n",
        "import glob\n",
        "import numpy as np\n",
        "import json\n",
        "from tqdm import tqdm\n",
        "import torch\n",
        "import pretrainedmodels\n",
        "from pretrainedmodels import utils\n",
        "\n",
        "# Constants for input dimensions\n",
        "C, H, W = 3, 224, 224\n",
        "\n",
        "# Function to extract frames from a video\n",
        "def extract_frames(video_path, dst):\n",
        "    if os.path.exists(dst):\n",
        "        shutil.rmtree(dst)\n",
        "    os.makedirs(dst)\n",
        "    video_to_frames_command = [\n",
        "        \"ffmpeg\",\n",
        "        '-y',\n",
        "        '-i', video_path,\n",
        "        '-vf', \"scale=400:300\",\n",
        "        '-qscale:v', \"2\",\n",
        "        f\"{dst}/%06d.jpg\"\n",
        "    ]\n",
        "    subprocess.call(video_to_frames_command, stdout=subprocess.DEVNULL, stderr=subprocess.STDOUT)\n",
        "\n",
        "# Function to extract features from frames\n",
        "def extract_feats(params, model, load_image_fn, split):\n",
        "    model.eval()\n",
        "    dir_fc = os.path.join(params['output_dir'], split, 'features')  # Store features in respective split folder\n",
        "    os.makedirs(dir_fc, exist_ok=True)\n",
        "\n",
        "    # Load video list from JSON file for the split\n",
        "    json_path = params[f'{split}_json']\n",
        "    with open(json_path, 'r') as f:\n",
        "        data = json.load(f)\n",
        "        video_ids = {video['video_id'] for video in data['videos']}\n",
        "\n",
        "    # Process each video in the specified directory\n",
        "    video_dir = os.path.join(params['video_path'], split, 'videos')  # Use respective split folder\n",
        "    video_list = glob.glob(os.path.join(video_dir, '*.avi'))\n",
        "    for video in tqdm(video_list, desc=f\"Processing {split} videos\"):\n",
        "        video_id = os.path.splitext(os.path.basename(video))[0]\n",
        "        if video_id not in video_ids:\n",
        "            continue\n",
        "\n",
        "        # Extract frames\n",
        "        dst = os.path.join(params['tmp_dir'], video_id)\n",
        "        extract_frames(video, dst)\n",
        "\n",
        "        # Load frames and extract features\n",
        "        # image_list = sorted(glob.glob(os.path.join(dst, '*.jpg')))\n",
        "        # samples = np.round(np.linspace(0, len(image_list) - 1, params['n_frame_steps'])).astype(int)\n",
        "        # image_list = [image_list[sample] for sample in samples]\n",
        "        image_list = sorted(glob.glob(os.path.join(dst, '*.jpg')))\n",
        "        if len(image_list) == 0:\n",
        "            print(f\"[WARNING] No frames extracted for video {video_id}. Skipping...\")\n",
        "            shutil.rmtree(dst)\n",
        "            continue  # Skip to next video\n",
        "\n",
        "        # Safe sampling\n",
        "        n_frames = len(image_list)\n",
        "        sample_count = min(params['n_frame_steps'], n_frames)\n",
        "        samples = np.round(np.linspace(0, n_frames - 1, sample_count)).astype(int)\n",
        "        image_list = [image_list[sample] for sample in samples]\n",
        "\n",
        "        images = torch.zeros((len(image_list), C, H, W))\n",
        "\n",
        "        for i, img_path in enumerate(image_list):\n",
        "            img = load_image_fn(img_path)\n",
        "            images[i] = img\n",
        "\n",
        "        # Move images to GPU for feature extraction\n",
        "        images = images.cuda()\n",
        "        with torch.no_grad():\n",
        "            fc_feats = model(images).cpu().squeeze()\n",
        "\n",
        "        # Save features\n",
        "        outfile = os.path.join(dir_fc, f\"{video_id}.npy\")\n",
        "        np.save(outfile, fc_feats.numpy())\n",
        "\n",
        "        # Clean up\n",
        "        shutil.rmtree(dst)\n",
        "\n",
        "    print(f\"Feature extraction for {split} set is complete.\")\n",
        "\n",
        "# Main code setup with hardcoded parameters\n",
        "params = {\n",
        "    'output_dir': '/content/drive/MyDrive/VideoCaptioning/msvd_split',\n",
        "    'video_path': '/content/drive/MyDrive/VideoCaptioning/msvd_split',\n",
        "    'n_frame_steps': 40,\n",
        "    'tmp_dir': '/content/tmp_frames',\n",
        "    'train_json': '/content/drive/MyDrive/VideoCaptioning/msvd_split/train/train_captions.json',\n",
        "    'val_json': '/content/drive/MyDrive/VideoCaptioning/msvd_split/val/val_captions.json',\n",
        "    'test_json': '/content/drive/MyDrive/VideoCaptioning/msvd_split/test/test_captions.json',\n",
        "    'model': 'resnet152'  # Set your model choice here (resnet152, inception_v3, or inception_v4)\n",
        "}\n",
        "\n",
        "# Set up model and image loader\n",
        "if params['model'] == 'inception_v3':\n",
        "    C, H, W = 3, 299, 299\n",
        "    model = pretrainedmodels.inceptionv3(pretrained='imagenet')\n",
        "    load_image_fn = utils.LoadTransformImage(model)\n",
        "elif params['model'] == 'resnet152':\n",
        "    C, H, W = 3, 224, 224\n",
        "    model = pretrainedmodels.resnet152(pretrained='imagenet')\n",
        "    load_image_fn = utils.LoadTransformImage(model)\n",
        "elif params['model'] == 'inception_v4':\n",
        "    C, H, W = 3, 299, 299\n",
        "    model = pretrainedmodels.inceptionv4(num_classes=1000, pretrained='imagenet')\n",
        "    load_image_fn = utils.LoadTransformImage(model)\n",
        "else:\n",
        "    raise ValueError(f\"Model {params['model']} is not supported\")\n",
        "\n",
        "model.last_linear = utils.Identity()  # Remove final classification layer\n",
        "model = model.cuda()  # Use GPU\n",
        "\n",
        "# Extract features for each split\n",
        "for split in ['train', 'val', 'test']:\n",
        "    extract_feats(params, model, load_image_fn, split)"
      ],
      "metadata": {
        "colab": {
          "base_uri": "https://localhost:8080/"
        },
        "id": "U79BgOCT6NLP",
        "outputId": "60283ff6-6d83-4451-dae4-6bdbf3b0493b"
      },
      "execution_count": null,
      "outputs": [
        {
          "output_type": "stream",
          "name": "stderr",
          "text": [
            "Processing train videos: 100%|██████████| 1789/1789 [35:07<00:00,  1.18s/it]\n"
          ]
        },
        {
          "output_type": "stream",
          "name": "stdout",
          "text": [
            "Feature extraction for train set is complete.\n"
          ]
        },
        {
          "output_type": "stream",
          "name": "stderr",
          "text": [
            "Processing val videos: 100%|██████████| 542/542 [07:32<00:00,  1.20it/s]\n"
          ]
        },
        {
          "output_type": "stream",
          "name": "stdout",
          "text": [
            "Feature extraction for val set is complete.\n"
          ]
        },
        {
          "output_type": "stream",
          "name": "stderr",
          "text": [
            "Processing test videos: 100%|██████████| 546/546 [07:24<00:00,  1.23it/s]"
          ]
        },
        {
          "output_type": "stream",
          "name": "stdout",
          "text": [
            "Feature extraction for test set is complete.\n"
          ]
        },
        {
          "output_type": "stream",
          "name": "stderr",
          "text": [
            "\n"
          ]
        }
      ]
    },
    {
      "cell_type": "code",
      "source": [
        "import os\n",
        "import json\n",
        "\n",
        "def verify_and_fix_features(split, params):\n",
        "    video_dir = os.path.join(params['output_dir'], split, 'videos')\n",
        "    features_dir = os.path.join(params['output_dir'], split, 'features')\n",
        "    json_path = os.path.join(params['output_dir'], split, f\"{split}_captions.json\")\n",
        "\n",
        "    # Load JSON\n",
        "    with open(json_path, 'r') as f:\n",
        "        data = json.load(f)\n",
        "        json_video_ids = {video['video_id'] for video in data['videos']}\n",
        "\n",
        "    # All video and feature files\n",
        "    video_files = {os.path.splitext(f)[0] for f in os.listdir(video_dir) if f.endswith('.avi')}\n",
        "    feature_files = {os.path.splitext(f)[0] for f in os.listdir(features_dir) if f.endswith('.npy')}\n",
        "\n",
        "    # Identify corrupted or extra items\n",
        "    missing_feats_from_videos = video_files - feature_files\n",
        "    missing_feats_from_json = json_video_ids - feature_files\n",
        "    extra_feats = feature_files - video_files - json_video_ids\n",
        "\n",
        "    # === ACTION 1: Delete corrupted video files (with no features)\n",
        "    for vid in missing_feats_from_videos:\n",
        "        path = os.path.join(video_dir, f\"{vid}.avi\")\n",
        "        if os.path.exists(path):\n",
        "            os.remove(path)\n",
        "            print(f\"🗑️ Deleted incomplete video (no features): {path}\")\n",
        "\n",
        "    # === ACTION 2: Remove JSON entries with missing features\n",
        "    original_video_count = len(data['videos'])\n",
        "    original_caption_count = len(data['sentences'])\n",
        "    data['videos'] = [v for v in data['videos'] if v['video_id'] in feature_files]\n",
        "    data['sentences'] = [s for s in data['sentences'] if s['video_id'] in feature_files]\n",
        "\n",
        "    with open(json_path, 'w') as f:\n",
        "        json.dump(data, f, indent=4)\n",
        "\n",
        "    print(f\"✅ Cleaned JSON for [{split}]\")\n",
        "    print(f\"🧮 Removed {original_video_count - len(data['videos'])} invalid video entries\")\n",
        "    print(f\"🧾 Removed {original_caption_count - len(data['sentences'])} invalid captions\")\n",
        "\n",
        "    # === ACTION 3: Delete stray feature files\n",
        "    for vid in extra_feats:\n",
        "        path = os.path.join(features_dir, f\"{vid}.npy\")\n",
        "        if os.path.exists(path):\n",
        "            os.remove(path)\n",
        "            print(f\"🧼 Deleted stray feature file: {path}\")\n",
        "\n",
        "    print(f\"✅ [{split}] Verified and fixed. All valid videos now have features and JSON alignment.\\n\")\n",
        "\n",
        "# Run for all splits\n",
        "params = {\n",
        "    'output_dir': '/content/drive/MyDrive/VideoCaptioning/msvd_split',\n",
        "}\n",
        "\n",
        "for split in ['train', 'val', 'test']:\n",
        "    verify_and_fix_features(split, params)"
      ],
      "metadata": {
        "colab": {
          "base_uri": "https://localhost:8080/"
        },
        "id": "mpISv9fCep4m",
        "outputId": "fa56dc95-8062-454a-89b6-37cca8a62636"
      },
      "execution_count": null,
      "outputs": [
        {
          "output_type": "stream",
          "name": "stdout",
          "text": [
            "🗑️ Deleted incomplete video (no features): /content/drive/MyDrive/VideoCaptioning/msvd_split/train/videos/74tRCYS_534_49_57.avi\n",
            "🗑️ Deleted incomplete video (no features): /content/drive/MyDrive/VideoCaptioning/msvd_split/train/videos/Sq7Vt6KC9Yg_17_35.avi\n",
            "🗑️ Deleted incomplete video (no features): /content/drive/MyDrive/VideoCaptioning/msvd_split/train/videos/MMnnqzOoMF0_68_72.avi\n",
            "🗑️ Deleted incomplete video (no features): /content/drive/MyDrive/VideoCaptioning/msvd_split/train/videos/E2r6nnkwl0c_6_18.avi\n",
            "🗑️ Deleted incomplete video (no features): /content/drive/MyDrive/VideoCaptioning/msvd_split/train/videos/7s0AXJtLL0Y_57_61.avi\n",
            "🗑️ Deleted incomplete video (no features): /content/drive/MyDrive/VideoCaptioning/msvd_split/train/videos/_O9kWD8nuRU_16_23.avi\n",
            "🗑️ Deleted incomplete video (no features): /content/drive/MyDrive/VideoCaptioning/msvd_split/train/videos/1RchFBCT9JU_43_53.avi\n",
            "🗑️ Deleted incomplete video (no features): /content/drive/MyDrive/VideoCaptioning/msvd_split/train/videos/qLwgb3F0aPU_298_305.avi\n",
            "🗑️ Deleted incomplete video (no features): /content/drive/MyDrive/VideoCaptioning/msvd_split/train/videos/c75SIlAjfjg_6_14.avi\n",
            "🗑️ Deleted incomplete video (no features): /content/drive/MyDrive/VideoCaptioning/msvd_split/train/videos/2YhDTpzxd3c_174_180.avi\n",
            "🗑️ Deleted incomplete video (no features): /content/drive/MyDrive/VideoCaptioning/msvd_split/train/videos/EjAoBKagWQA_132_145.avi\n",
            "🗑️ Deleted incomplete video (no features): /content/drive/MyDrive/VideoCaptioning/msvd_split/train/videos/-_hbPLsZvvo_269_275.avi\n",
            "🗑️ Deleted incomplete video (no features): /content/drive/MyDrive/VideoCaptioning/msvd_split/train/videos/PJnJMp2ZpbA_3_15.avi\n",
            "🗑️ Deleted incomplete video (no features): /content/drive/MyDrive/VideoCaptioning/msvd_split/train/videos/iTA0rWPE4nY_17_23.avi\n",
            "🗑️ Deleted incomplete video (no features): /content/drive/MyDrive/VideoCaptioning/msvd_split/train/videos/Gh4Beb8StFM_29_50.avi\n",
            "🗑️ Deleted incomplete video (no features): /content/drive/MyDrive/VideoCaptioning/msvd_split/train/videos/4QdX5Q3qQsQ_6_14.avi\n",
            "🗑️ Deleted incomplete video (no features): /content/drive/MyDrive/VideoCaptioning/msvd_split/train/videos/HPFLN5azwtA_56_63.avi\n",
            "🗑️ Deleted incomplete video (no features): /content/drive/MyDrive/VideoCaptioning/msvd_split/train/videos/uqVCk2oDpSE_194_200.avi\n",
            "🗑️ Deleted incomplete video (no features): /content/drive/MyDrive/VideoCaptioning/msvd_split/train/videos/RMznbCn5sQs_0_10.avi\n",
            "🗑️ Deleted incomplete video (no features): /content/drive/MyDrive/VideoCaptioning/msvd_split/train/videos/crfrKqFp0Zg_15_25.avi\n",
            "🗑️ Deleted incomplete video (no features): /content/drive/MyDrive/VideoCaptioning/msvd_split/train/videos/q-a6NEotUX8_5_10.avi\n",
            "🗑️ Deleted incomplete video (no features): /content/drive/MyDrive/VideoCaptioning/msvd_split/train/videos/dtn0PuxgfkM_0_5.avi\n",
            "🗑️ Deleted incomplete video (no features): /content/drive/MyDrive/VideoCaptioning/msvd_split/train/videos/K1ZM0LSLVw8_488_494.avi\n",
            "🗑️ Deleted incomplete video (no features): /content/drive/MyDrive/VideoCaptioning/msvd_split/train/videos/nd0ToNwccl4_12_17.avi\n",
            "🗑️ Deleted incomplete video (no features): /content/drive/MyDrive/VideoCaptioning/msvd_split/train/videos/WTf5EgVY5uU_94_98.avi\n",
            "🗑️ Deleted incomplete video (no features): /content/drive/MyDrive/VideoCaptioning/msvd_split/train/videos/glrijRGnmc0_211_215.avi\n",
            "🗑️ Deleted incomplete video (no features): /content/drive/MyDrive/VideoCaptioning/msvd_split/train/videos/eZLxohGP4IE_15_25.avi\n",
            "🗑️ Deleted incomplete video (no features): /content/drive/MyDrive/VideoCaptioning/msvd_split/train/videos/Kxa0mnDj0bs_113_124.avi\n",
            "🗑️ Deleted incomplete video (no features): /content/drive/MyDrive/VideoCaptioning/msvd_split/train/videos/cWOPC2kt_IA_8_16.avi\n",
            "🗑️ Deleted incomplete video (no features): /content/drive/MyDrive/VideoCaptioning/msvd_split/train/videos/MICawzo1MqI_3_13.avi\n",
            "🗑️ Deleted incomplete video (no features): /content/drive/MyDrive/VideoCaptioning/msvd_split/train/videos/tHLiYTS9Iz8_1_16.avi\n",
            "🗑️ Deleted incomplete video (no features): /content/drive/MyDrive/VideoCaptioning/msvd_split/train/videos/CwPfvoqmV1Q_58_61.avi\n",
            "🗑️ Deleted incomplete video (no features): /content/drive/MyDrive/VideoCaptioning/msvd_split/train/videos/_WRC7HXBJpU_386_391.avi\n",
            "🗑️ Deleted incomplete video (no features): /content/drive/MyDrive/VideoCaptioning/msvd_split/train/videos/SzEbtbNSg04_214_224.avi\n",
            "🗑️ Deleted incomplete video (no features): /content/drive/MyDrive/VideoCaptioning/msvd_split/train/videos/rw9h_574HxE_251_254.avi\n",
            "🗑️ Deleted incomplete video (no features): /content/drive/MyDrive/VideoCaptioning/msvd_split/train/videos/ACOmKiJDkA4_161_170.avi\n",
            "🗑️ Deleted incomplete video (no features): /content/drive/MyDrive/VideoCaptioning/msvd_split/train/videos/FwCmcZpkk-k_22_32.avi\n",
            "🗑️ Deleted incomplete video (no features): /content/drive/MyDrive/VideoCaptioning/msvd_split/train/videos/c76tShLfQb0_74_81.avi\n",
            "🗑️ Deleted incomplete video (no features): /content/drive/MyDrive/VideoCaptioning/msvd_split/train/videos/qeKX-N1nKiM_133_142.avi\n",
            "🗑️ Deleted incomplete video (no features): /content/drive/MyDrive/VideoCaptioning/msvd_split/train/videos/V6Fxclwdfxc_56_66.avi\n",
            "🗑️ Deleted incomplete video (no features): /content/drive/MyDrive/VideoCaptioning/msvd_split/train/videos/N3A7944_UJw_63_70.avi\n",
            "🗑️ Deleted incomplete video (no features): /content/drive/MyDrive/VideoCaptioning/msvd_split/train/videos/57C93mpt6Xo_358_368.avi\n",
            "🗑️ Deleted incomplete video (no features): /content/drive/MyDrive/VideoCaptioning/msvd_split/train/videos/gHyXstpe_N8_140_150.avi\n",
            "🗑️ Deleted incomplete video (no features): /content/drive/MyDrive/VideoCaptioning/msvd_split/train/videos/ZbtpcGi2DWY_161_170.avi\n",
            "🗑️ Deleted incomplete video (no features): /content/drive/MyDrive/VideoCaptioning/msvd_split/train/videos/xxHx6s_DbUo_240_248.avi\n",
            "🗑️ Deleted incomplete video (no features): /content/drive/MyDrive/VideoCaptioning/msvd_split/train/videos/i2sRHf9m5KM_28_42.avi\n",
            "🗑️ Deleted incomplete video (no features): /content/drive/MyDrive/VideoCaptioning/msvd_split/train/videos/r0E-0ntoNWo_20_30.avi\n",
            "🗑️ Deleted incomplete video (no features): /content/drive/MyDrive/VideoCaptioning/msvd_split/train/videos/UDwvax7K57c_28_35.avi\n",
            "🗑️ Deleted incomplete video (no features): /content/drive/MyDrive/VideoCaptioning/msvd_split/train/videos/IAvBB2lv8iw_142_148.avi\n",
            "🗑️ Deleted incomplete video (no features): /content/drive/MyDrive/VideoCaptioning/msvd_split/train/videos/n_Z0-giaspE_62_78.avi\n",
            "🗑️ Deleted incomplete video (no features): /content/drive/MyDrive/VideoCaptioning/msvd_split/train/videos/IhzXQ-gc9IQ_125_129.avi\n",
            "🗑️ Deleted incomplete video (no features): /content/drive/MyDrive/VideoCaptioning/msvd_split/train/videos/6ZhKOK08tgM_225_233.avi\n",
            "🗑️ Deleted incomplete video (no features): /content/drive/MyDrive/VideoCaptioning/msvd_split/train/videos/CBD9h0jUq3w_1_7.avi\n",
            "🗑️ Deleted incomplete video (no features): /content/drive/MyDrive/VideoCaptioning/msvd_split/train/videos/lKADopH3qFY_0_10.avi\n",
            "🗑️ Deleted incomplete video (no features): /content/drive/MyDrive/VideoCaptioning/msvd_split/train/videos/xxHx6s_DbUo_32_36.avi\n",
            "🗑️ Deleted incomplete video (no features): /content/drive/MyDrive/VideoCaptioning/msvd_split/train/videos/IpHJffM3G1c_412_418.avi\n",
            "🗑️ Deleted incomplete video (no features): /content/drive/MyDrive/VideoCaptioning/msvd_split/train/videos/6eokrw6_bjU_1_9.avi\n",
            "🗑️ Deleted incomplete video (no features): /content/drive/MyDrive/VideoCaptioning/msvd_split/train/videos/t8Nf1MK7lts_0_10.avi\n",
            "🗑️ Deleted incomplete video (no features): /content/drive/MyDrive/VideoCaptioning/msvd_split/train/videos/uB9zRlV47qA_17_23.avi\n",
            "🗑️ Deleted incomplete video (no features): /content/drive/MyDrive/VideoCaptioning/msvd_split/train/videos/4zPSShqsq-o_3_16.avi\n",
            "🗑️ Deleted incomplete video (no features): /content/drive/MyDrive/VideoCaptioning/msvd_split/train/videos/tZmDWltBziM_70_80.avi\n",
            "🗑️ Deleted incomplete video (no features): /content/drive/MyDrive/VideoCaptioning/msvd_split/train/videos/6sYmDT5et00_301_339.avi\n",
            "🗑️ Deleted incomplete video (no features): /content/drive/MyDrive/VideoCaptioning/msvd_split/train/videos/MwOEK-KXSPc_1_10.avi\n",
            "🗑️ Deleted incomplete video (no features): /content/drive/MyDrive/VideoCaptioning/msvd_split/train/videos/MrQd1zUVRUM_103_110.avi\n",
            "🗑️ Deleted incomplete video (no features): /content/drive/MyDrive/VideoCaptioning/msvd_split/train/videos/n016q1w8Q30_2_11.avi\n",
            "🗑️ Deleted incomplete video (no features): /content/drive/MyDrive/VideoCaptioning/msvd_split/train/videos/wjH72cZ0GLM_1_10.avi\n",
            "🗑️ Deleted incomplete video (no features): /content/drive/MyDrive/VideoCaptioning/msvd_split/train/videos/zHy7pM0U49w_103_109.avi\n",
            "🗑️ Deleted incomplete video (no features): /content/drive/MyDrive/VideoCaptioning/msvd_split/train/videos/Ar70p1_LcfM_2_20.avi\n",
            "🗑️ Deleted incomplete video (no features): /content/drive/MyDrive/VideoCaptioning/msvd_split/train/videos/Je3V7U5Ctj4_768_773.avi\n",
            "🗑️ Deleted incomplete video (no features): /content/drive/MyDrive/VideoCaptioning/msvd_split/train/videos/Nd45qJn61Dw_0_10.avi\n",
            "🗑️ Deleted incomplete video (no features): /content/drive/MyDrive/VideoCaptioning/msvd_split/train/videos/NVGGgncVq-4_12_20.avi\n",
            "🗑️ Deleted incomplete video (no features): /content/drive/MyDrive/VideoCaptioning/msvd_split/train/videos/a0g7wtBkS98_34_42.avi\n",
            "🗑️ Deleted incomplete video (no features): /content/drive/MyDrive/VideoCaptioning/msvd_split/train/videos/hJFBXHtxKIc_225_230.avi\n",
            "🗑️ Deleted incomplete video (no features): /content/drive/MyDrive/VideoCaptioning/msvd_split/train/videos/O06WXS_XZN0_0_6.avi\n",
            "🗑️ Deleted incomplete video (no features): /content/drive/MyDrive/VideoCaptioning/msvd_split/train/videos/hoinj6vyQ2g_8_16.avi\n",
            "🗑️ Deleted incomplete video (no features): /content/drive/MyDrive/VideoCaptioning/msvd_split/train/videos/YJ2aGe7CLBo_25_35.avi\n",
            "🗑️ Deleted incomplete video (no features): /content/drive/MyDrive/VideoCaptioning/msvd_split/train/videos/eoP-SCgYM2w_49_60.avi\n",
            "🗑️ Deleted incomplete video (no features): /content/drive/MyDrive/VideoCaptioning/msvd_split/train/videos/Xxcv5jvRmcg_39_46.avi\n",
            "🗑️ Deleted incomplete video (no features): /content/drive/MyDrive/VideoCaptioning/msvd_split/train/videos/7uF-2adCsI0_60_67.avi\n",
            "🗑️ Deleted incomplete video (no features): /content/drive/MyDrive/VideoCaptioning/msvd_split/train/videos/WPG-BIWOrG4_635_640.avi\n",
            "🗑️ Deleted incomplete video (no features): /content/drive/MyDrive/VideoCaptioning/msvd_split/train/videos/aGUx0QOKWXw_7_12.avi\n",
            "🗑️ Deleted incomplete video (no features): /content/drive/MyDrive/VideoCaptioning/msvd_split/train/videos/Ms3QdGIzltU_10_20.avi\n",
            "🗑️ Deleted incomplete video (no features): /content/drive/MyDrive/VideoCaptioning/msvd_split/train/videos/e3XkmpNcSt4_8_19.avi\n",
            "🗑️ Deleted incomplete video (no features): /content/drive/MyDrive/VideoCaptioning/msvd_split/train/videos/xxHx6s_DbUo_98_101.avi\n",
            "🗑️ Deleted incomplete video (no features): /content/drive/MyDrive/VideoCaptioning/msvd_split/train/videos/3ftaoFnhTyY_140_150.avi\n",
            "🗑️ Deleted incomplete video (no features): /content/drive/MyDrive/VideoCaptioning/msvd_split/train/videos/0wutCy2ZGOQ_4_10.avi\n",
            "🗑️ Deleted incomplete video (no features): /content/drive/MyDrive/VideoCaptioning/msvd_split/train/videos/kBMsuhDvg88_45_64.avi\n",
            "🗑️ Deleted incomplete video (no features): /content/drive/MyDrive/VideoCaptioning/msvd_split/train/videos/bSrpvMSuhPM_17_31.avi\n",
            "🗑️ Deleted incomplete video (no features): /content/drive/MyDrive/VideoCaptioning/msvd_split/train/videos/emblM4a76jg_5_15.avi\n",
            "🗑️ Deleted incomplete video (no features): /content/drive/MyDrive/VideoCaptioning/msvd_split/train/videos/cM55xNJ_pfU_1_20.avi\n",
            "🗑️ Deleted incomplete video (no features): /content/drive/MyDrive/VideoCaptioning/msvd_split/train/videos/-pUwIypksfE_13_23.avi\n",
            "🗑️ Deleted incomplete video (no features): /content/drive/MyDrive/VideoCaptioning/msvd_split/train/videos/psXeA8sSYdI_25_30.avi\n",
            "🗑️ Deleted incomplete video (no features): /content/drive/MyDrive/VideoCaptioning/msvd_split/train/videos/rw9h_574HxE_70_74.avi\n",
            "🗑️ Deleted incomplete video (no features): /content/drive/MyDrive/VideoCaptioning/msvd_split/train/videos/W8l_ezoU8Lc_76_86.avi\n",
            "🗑️ Deleted incomplete video (no features): /content/drive/MyDrive/VideoCaptioning/msvd_split/train/videos/QzcTlEpAigQ_0_14.avi\n",
            "🗑️ Deleted incomplete video (no features): /content/drive/MyDrive/VideoCaptioning/msvd_split/train/videos/PeUHy0A1GF0_105_112.avi\n",
            "🗑️ Deleted incomplete video (no features): /content/drive/MyDrive/VideoCaptioning/msvd_split/train/videos/wgrrQwLdME8_0_10.avi\n",
            "🗑️ Deleted incomplete video (no features): /content/drive/MyDrive/VideoCaptioning/msvd_split/train/videos/5W02895vT8c_460_470.avi\n",
            "🗑️ Deleted incomplete video (no features): /content/drive/MyDrive/VideoCaptioning/msvd_split/train/videos/kNHivduxQWg_0_14.avi\n",
            "🗑️ Deleted incomplete video (no features): /content/drive/MyDrive/VideoCaptioning/msvd_split/train/videos/zv2RIbUsnSw_335_341.avi\n",
            "🗑️ Deleted incomplete video (no features): /content/drive/MyDrive/VideoCaptioning/msvd_split/train/videos/4yYapi-5QYQ_33_57.avi\n",
            "🗑️ Deleted incomplete video (no features): /content/drive/MyDrive/VideoCaptioning/msvd_split/train/videos/4wT7zM8XgXQ_5_11.avi\n",
            "🗑️ Deleted incomplete video (no features): /content/drive/MyDrive/VideoCaptioning/msvd_split/train/videos/IhwPQL9dFYc_171_175.avi\n",
            "🗑️ Deleted incomplete video (no features): /content/drive/MyDrive/VideoCaptioning/msvd_split/train/videos/M4It3DrhbE0_13_22.avi\n",
            "🗑️ Deleted incomplete video (no features): /content/drive/MyDrive/VideoCaptioning/msvd_split/train/videos/cR2yi-JnGcQ_8_16.avi\n",
            "🗑️ Deleted incomplete video (no features): /content/drive/MyDrive/VideoCaptioning/msvd_split/train/videos/77iDIp40m9E_119_123.avi\n",
            "🗑️ Deleted incomplete video (no features): /content/drive/MyDrive/VideoCaptioning/msvd_split/train/videos/5x_OGEdO6Z8_0_21.avi\n",
            "🗑️ Deleted incomplete video (no features): /content/drive/MyDrive/VideoCaptioning/msvd_split/train/videos/b4FM9OLBGyM_37_49.avi\n",
            "🗑️ Deleted incomplete video (no features): /content/drive/MyDrive/VideoCaptioning/msvd_split/train/videos/xGdoi3W3Z4o_2_40.avi\n",
            "🗑️ Deleted incomplete video (no features): /content/drive/MyDrive/VideoCaptioning/msvd_split/train/videos/BGG0uYWZBdw_6_12.avi\n",
            "🗑️ Deleted incomplete video (no features): /content/drive/MyDrive/VideoCaptioning/msvd_split/train/videos/NMlKMfiHSho_1_15.avi\n",
            "🗑️ Deleted incomplete video (no features): /content/drive/MyDrive/VideoCaptioning/msvd_split/train/videos/11xs9mFKObs_0_8.avi\n",
            "🗑️ Deleted incomplete video (no features): /content/drive/MyDrive/VideoCaptioning/msvd_split/train/videos/kzyFBlNRohs_82_88.avi\n",
            "🗑️ Deleted incomplete video (no features): /content/drive/MyDrive/VideoCaptioning/msvd_split/train/videos/UXs3eq68ZjE_313_318.avi\n",
            "🗑️ Deleted incomplete video (no features): /content/drive/MyDrive/VideoCaptioning/msvd_split/train/videos/KPPCwmU5OHQ_227_238.avi\n",
            "🗑️ Deleted incomplete video (no features): /content/drive/MyDrive/VideoCaptioning/msvd_split/train/videos/GEXqMH8I3_w_63_68.avi\n",
            "🗑️ Deleted incomplete video (no features): /content/drive/MyDrive/VideoCaptioning/msvd_split/train/videos/ACK7SekJWts_140_150.avi\n",
            "🗑️ Deleted incomplete video (no features): /content/drive/MyDrive/VideoCaptioning/msvd_split/train/videos/klFyrnrUSck_79_85.avi\n",
            "🗑️ Deleted incomplete video (no features): /content/drive/MyDrive/VideoCaptioning/msvd_split/train/videos/PCXHuseKwDc_68_76.avi\n",
            "🗑️ Deleted incomplete video (no features): /content/drive/MyDrive/VideoCaptioning/msvd_split/train/videos/1dYpcVv6n3Y_0_18.avi\n",
            "🗑️ Deleted incomplete video (no features): /content/drive/MyDrive/VideoCaptioning/msvd_split/train/videos/W8l_ezoU8Lc_156_162.avi\n",
            "🗑️ Deleted incomplete video (no features): /content/drive/MyDrive/VideoCaptioning/msvd_split/train/videos/uAaWVeaYLdQ_1_12.avi\n",
            "🗑️ Deleted incomplete video (no features): /content/drive/MyDrive/VideoCaptioning/msvd_split/train/videos/2xpIT0L4GqE_1_10.avi\n",
            "🗑️ Deleted incomplete video (no features): /content/drive/MyDrive/VideoCaptioning/msvd_split/train/videos/YRSOc193Pxc_68_73.avi\n",
            "🗑️ Deleted incomplete video (no features): /content/drive/MyDrive/VideoCaptioning/msvd_split/train/videos/Je3V7U5Ctj4_558_563.avi\n",
            "🗑️ Deleted incomplete video (no features): /content/drive/MyDrive/VideoCaptioning/msvd_split/train/videos/-wa0umYJVGg_139_157.avi\n",
            "🗑️ Deleted incomplete video (no features): /content/drive/MyDrive/VideoCaptioning/msvd_split/train/videos/Jag7oTemldY_12_25.avi\n",
            "🗑️ Deleted incomplete video (no features): /content/drive/MyDrive/VideoCaptioning/msvd_split/train/videos/64Xn9edeWRA_0_11.avi\n",
            "🗑️ Deleted incomplete video (no features): /content/drive/MyDrive/VideoCaptioning/msvd_split/train/videos/YS1mzzhmWWA_9_16.avi\n",
            "🗑️ Deleted incomplete video (no features): /content/drive/MyDrive/VideoCaptioning/msvd_split/train/videos/MSrJTeKNzdI_32_36.avi\n",
            "🗑️ Deleted incomplete video (no features): /content/drive/MyDrive/VideoCaptioning/msvd_split/train/videos/06CbMa0kDr8_3_13.avi\n",
            "🗑️ Deleted incomplete video (no features): /content/drive/MyDrive/VideoCaptioning/msvd_split/train/videos/Ne87egvJnWo_0_3.avi\n",
            "🗑️ Deleted incomplete video (no features): /content/drive/MyDrive/VideoCaptioning/msvd_split/train/videos/zv2RIbUsnSw_159_162.avi\n",
            "🗑️ Deleted incomplete video (no features): /content/drive/MyDrive/VideoCaptioning/msvd_split/train/videos/UXs3eq68ZjE_235_240.avi\n",
            "🗑️ Deleted incomplete video (no features): /content/drive/MyDrive/VideoCaptioning/msvd_split/train/videos/1pw5ZdRhiig_50_59.avi\n",
            "🗑️ Deleted incomplete video (no features): /content/drive/MyDrive/VideoCaptioning/msvd_split/train/videos/H9Oplnr8WcE_24_34.avi\n",
            "🗑️ Deleted incomplete video (no features): /content/drive/MyDrive/VideoCaptioning/msvd_split/train/videos/qqYysi3qotc_148_195.avi\n",
            "🗑️ Deleted incomplete video (no features): /content/drive/MyDrive/VideoCaptioning/msvd_split/train/videos/EqOGzNkekMk_5_15.avi\n",
            "🗑️ Deleted incomplete video (no features): /content/drive/MyDrive/VideoCaptioning/msvd_split/train/videos/0lh_UWF9ZP4_62_69.avi\n",
            "🗑️ Deleted incomplete video (no features): /content/drive/MyDrive/VideoCaptioning/msvd_split/train/videos/Yh2N6ZtRBdU_110_120.avi\n",
            "🗑️ Deleted incomplete video (no features): /content/drive/MyDrive/VideoCaptioning/msvd_split/train/videos/q7pOFn8s4zc_27_36.avi\n",
            "🗑️ Deleted incomplete video (no features): /content/drive/MyDrive/VideoCaptioning/msvd_split/train/videos/VU4qLrk5axA_40_58.avi\n",
            "🗑️ Deleted incomplete video (no features): /content/drive/MyDrive/VideoCaptioning/msvd_split/train/videos/dc4UltkRJsw_53_59.avi\n",
            "🗑️ Deleted incomplete video (no features): /content/drive/MyDrive/VideoCaptioning/msvd_split/train/videos/4ikH9ZRcF2Q_89_105.avi\n",
            "🗑️ Deleted incomplete video (no features): /content/drive/MyDrive/VideoCaptioning/msvd_split/train/videos/xxHx6s_DbUo_41_44.avi\n",
            "🗑️ Deleted incomplete video (no features): /content/drive/MyDrive/VideoCaptioning/msvd_split/train/videos/hFERWnoc-nU_0_12.avi\n",
            "🗑️ Deleted incomplete video (no features): /content/drive/MyDrive/VideoCaptioning/msvd_split/train/videos/HZ-BuDDmvVk_0_10.avi\n",
            "🗑️ Deleted incomplete video (no features): /content/drive/MyDrive/VideoCaptioning/msvd_split/train/videos/-_hbPLsZvvo_19_26.avi\n",
            "🗑️ Deleted incomplete video (no features): /content/drive/MyDrive/VideoCaptioning/msvd_split/train/videos/Ly5D0z9gKtc_15_20.avi\n",
            "🗑️ Deleted incomplete video (no features): /content/drive/MyDrive/VideoCaptioning/msvd_split/train/videos/KqKUXRHHkCc_101_105.avi\n",
            "🗑️ Deleted incomplete video (no features): /content/drive/MyDrive/VideoCaptioning/msvd_split/train/videos/muI1BFsdbdo_33_45.avi\n",
            "🗑️ Deleted incomplete video (no features): /content/drive/MyDrive/VideoCaptioning/msvd_split/train/videos/Zqmx-nXhLAg_0_10.avi\n",
            "🗑️ Deleted incomplete video (no features): /content/drive/MyDrive/VideoCaptioning/msvd_split/train/videos/D1tTBncIsm8_725_740.avi\n",
            "🗑️ Deleted incomplete video (no features): /content/drive/MyDrive/VideoCaptioning/msvd_split/train/videos/73vUksucPz8_12_20.avi\n",
            "🗑️ Deleted incomplete video (no features): /content/drive/MyDrive/VideoCaptioning/msvd_split/train/videos/dP15zlyra3c_0_10.avi\n",
            "🗑️ Deleted incomplete video (no features): /content/drive/MyDrive/VideoCaptioning/msvd_split/train/videos/UXs3eq68ZjE_280_285.avi\n",
            "🗑️ Deleted incomplete video (no features): /content/drive/MyDrive/VideoCaptioning/msvd_split/train/videos/62I8I4sCPPQ_12_30.avi\n",
            "🗑️ Deleted incomplete video (no features): /content/drive/MyDrive/VideoCaptioning/msvd_split/train/videos/pzq5fPfsPZg_29_33.avi\n",
            "🗑️ Deleted incomplete video (no features): /content/drive/MyDrive/VideoCaptioning/msvd_split/train/videos/oBt257I-pL0_0_10.avi\n",
            "🗑️ Deleted incomplete video (no features): /content/drive/MyDrive/VideoCaptioning/msvd_split/train/videos/HJHPB_Y8GZE_22_28.avi\n",
            "🗑️ Deleted incomplete video (no features): /content/drive/MyDrive/VideoCaptioning/msvd_split/train/videos/_JVxurtGIhI_32_42.avi\n",
            "🗑️ Deleted incomplete video (no features): /content/drive/MyDrive/VideoCaptioning/msvd_split/train/videos/gHyXstpe_N8_95_100.avi\n",
            "🗑️ Deleted incomplete video (no features): /content/drive/MyDrive/VideoCaptioning/msvd_split/train/videos/X98fLZHIzWQ_15_20.avi\n",
            "🗑️ Deleted incomplete video (no features): /content/drive/MyDrive/VideoCaptioning/msvd_split/train/videos/5fDBl1wT2Lk_34_39.avi\n",
            "🗑️ Deleted incomplete video (no features): /content/drive/MyDrive/VideoCaptioning/msvd_split/train/videos/pQYEZTwSVbQ_12_18.avi\n",
            "🗑️ Deleted incomplete video (no features): /content/drive/MyDrive/VideoCaptioning/msvd_split/train/videos/6t0BpjwYKco_80_84.avi\n",
            "🗑️ Deleted incomplete video (no features): /content/drive/MyDrive/VideoCaptioning/msvd_split/train/videos/Cx1We6GX4IM_0_8.avi\n",
            "🗑️ Deleted incomplete video (no features): /content/drive/MyDrive/VideoCaptioning/msvd_split/train/videos/hJFBXHtxKIc_163_168.avi\n",
            "🗑️ Deleted incomplete video (no features): /content/drive/MyDrive/VideoCaptioning/msvd_split/train/videos/yU5sxW9bErQ_0_17.avi\n",
            "🗑️ Deleted incomplete video (no features): /content/drive/MyDrive/VideoCaptioning/msvd_split/train/videos/mbesJaS6vwg_187_195.avi\n",
            "🗑️ Deleted incomplete video (no features): /content/drive/MyDrive/VideoCaptioning/msvd_split/train/videos/m1NR0uNNs5Y_73_78.avi\n",
            "🗑️ Deleted incomplete video (no features): /content/drive/MyDrive/VideoCaptioning/msvd_split/train/videos/s1ZABV7AQdA_38_48.avi\n",
            "🗑️ Deleted incomplete video (no features): /content/drive/MyDrive/VideoCaptioning/msvd_split/train/videos/shPymuahrsc_5_12.avi\n",
            "🗑️ Deleted incomplete video (no features): /content/drive/MyDrive/VideoCaptioning/msvd_split/train/videos/pptYu3YQnxY_160_170.avi\n",
            "🗑️ Deleted incomplete video (no features): /content/drive/MyDrive/VideoCaptioning/msvd_split/train/videos/Puh1n8DTKw8_2_9.avi\n",
            "🗑️ Deleted incomplete video (no features): /content/drive/MyDrive/VideoCaptioning/msvd_split/train/videos/AjZ-R3LFMzo_18_23.avi\n",
            "🗑️ Deleted incomplete video (no features): /content/drive/MyDrive/VideoCaptioning/msvd_split/train/videos/m1NR0uNNs5Y_57_64.avi\n",
            "🗑️ Deleted incomplete video (no features): /content/drive/MyDrive/VideoCaptioning/msvd_split/train/videos/RZL9irxnhZ0_34_40.avi\n",
            "🗑️ Deleted incomplete video (no features): /content/drive/MyDrive/VideoCaptioning/msvd_split/train/videos/TIubRrkku-4_1_10.avi\n",
            "🗑️ Deleted incomplete video (no features): /content/drive/MyDrive/VideoCaptioning/msvd_split/train/videos/q7pOFn8s4zc_263_273.avi\n",
            "🗑️ Deleted incomplete video (no features): /content/drive/MyDrive/VideoCaptioning/msvd_split/train/videos/5K7Ru5s6YIw_8_11.avi\n",
            "🗑️ Deleted incomplete video (no features): /content/drive/MyDrive/VideoCaptioning/msvd_split/train/videos/6owu8Mow0_g_527_534.avi\n",
            "🗑️ Deleted incomplete video (no features): /content/drive/MyDrive/VideoCaptioning/msvd_split/train/videos/WqQonRVs7WA_0_10.avi\n",
            "🗑️ Deleted incomplete video (no features): /content/drive/MyDrive/VideoCaptioning/msvd_split/train/videos/wpUT0DNB3qs_9_19.avi\n",
            "🗑️ Deleted incomplete video (no features): /content/drive/MyDrive/VideoCaptioning/msvd_split/train/videos/rw9h_574HxE_161_166.avi\n",
            "🗑️ Deleted incomplete video (no features): /content/drive/MyDrive/VideoCaptioning/msvd_split/train/videos/-_hbPLsZvvo_19_25.avi\n",
            "🗑️ Deleted incomplete video (no features): /content/drive/MyDrive/VideoCaptioning/msvd_split/train/videos/UqBafx3iRKw_22_29.avi\n",
            "🗑️ Deleted incomplete video (no features): /content/drive/MyDrive/VideoCaptioning/msvd_split/train/videos/qeKX-N1nKiM_123_130.avi\n",
            "🗑️ Deleted incomplete video (no features): /content/drive/MyDrive/VideoCaptioning/msvd_split/train/videos/qzQzooI4BqU_5_15.avi\n",
            "🗑️ Deleted incomplete video (no features): /content/drive/MyDrive/VideoCaptioning/msvd_split/train/videos/BVjvRpmHg0w_121_130.avi\n",
            "🗑️ Deleted incomplete video (no features): /content/drive/MyDrive/VideoCaptioning/msvd_split/train/videos/6t0BpjwYKco_261_284.avi\n",
            "🗑️ Deleted incomplete video (no features): /content/drive/MyDrive/VideoCaptioning/msvd_split/train/videos/DIebwNHGjm8_133_148.avi\n",
            "🗑️ Deleted incomplete video (no features): /content/drive/MyDrive/VideoCaptioning/msvd_split/train/videos/R24RktgUi-s_5_15.avi\n",
            "🗑️ Deleted incomplete video (no features): /content/drive/MyDrive/VideoCaptioning/msvd_split/train/videos/Mutb8BHFvzk_15_20.avi\n",
            "🗑️ Deleted incomplete video (no features): /content/drive/MyDrive/VideoCaptioning/msvd_split/train/videos/DcDYRpa34W8_11_25.avi\n",
            "🗑️ Deleted incomplete video (no features): /content/drive/MyDrive/VideoCaptioning/msvd_split/train/videos/Ya-MkA187c8_36_45.avi\n",
            "🗑️ Deleted incomplete video (no features): /content/drive/MyDrive/VideoCaptioning/msvd_split/train/videos/0hyZ__3YhZc_289_295.avi\n",
            "🗑️ Deleted incomplete video (no features): /content/drive/MyDrive/VideoCaptioning/msvd_split/train/videos/xEDCfcMZlZY_91_100.avi\n",
            "🗑️ Deleted incomplete video (no features): /content/drive/MyDrive/VideoCaptioning/msvd_split/train/videos/d4AGWnHJcaY_6_19.avi\n",
            "🗑️ Deleted incomplete video (no features): /content/drive/MyDrive/VideoCaptioning/msvd_split/train/videos/JktNQQnLblQ_4_9.avi\n",
            "🗑️ Deleted incomplete video (no features): /content/drive/MyDrive/VideoCaptioning/msvd_split/train/videos/gWRRHV7DLV0_21_31.avi\n",
            "🗑️ Deleted incomplete video (no features): /content/drive/MyDrive/VideoCaptioning/msvd_split/train/videos/-wa0umYJVGg_117_123.avi\n",
            "🗑️ Deleted incomplete video (no features): /content/drive/MyDrive/VideoCaptioning/msvd_split/train/videos/1Sp2__RCT0c_11_15.avi\n",
            "🗑️ Deleted incomplete video (no features): /content/drive/MyDrive/VideoCaptioning/msvd_split/train/videos/clKtfGBVI1I_15_28.avi\n",
            "🗑️ Deleted incomplete video (no features): /content/drive/MyDrive/VideoCaptioning/msvd_split/train/videos/qBFSt85-xqk_15_20.avi\n",
            "🗑️ Deleted incomplete video (no features): /content/drive/MyDrive/VideoCaptioning/msvd_split/train/videos/WTf5EgVY5uU_32_52.avi\n",
            "🗑️ Deleted incomplete video (no features): /content/drive/MyDrive/VideoCaptioning/msvd_split/train/videos/VahnQw2gTQY_274_280.avi\n",
            "🗑️ Deleted incomplete video (no features): /content/drive/MyDrive/VideoCaptioning/msvd_split/train/videos/MWvCcwTw7Ac_78_86.avi\n",
            "🗑️ Deleted incomplete video (no features): /content/drive/MyDrive/VideoCaptioning/msvd_split/train/videos/HkpUWzNNVt4_20_30.avi\n",
            "🗑️ Deleted incomplete video (no features): /content/drive/MyDrive/VideoCaptioning/msvd_split/train/videos/lKpGc3SCSVw_12_20.avi\n",
            "🗑️ Deleted incomplete video (no features): /content/drive/MyDrive/VideoCaptioning/msvd_split/train/videos/8MVo7fje_oE_85_90.avi\n",
            "🗑️ Deleted incomplete video (no features): /content/drive/MyDrive/VideoCaptioning/msvd_split/train/videos/04Gt01vatkk_308_321.avi\n",
            "🗑️ Deleted incomplete video (no features): /content/drive/MyDrive/VideoCaptioning/msvd_split/train/videos/qhknaG9ifbs_122_127.avi\n",
            "🗑️ Deleted incomplete video (no features): /content/drive/MyDrive/VideoCaptioning/msvd_split/train/videos/C12BRGGcd5E_101_117.avi\n",
            "🗑️ Deleted incomplete video (no features): /content/drive/MyDrive/VideoCaptioning/msvd_split/train/videos/btxCxlO1Euc_1_20.avi\n",
            "🗑️ Deleted incomplete video (no features): /content/drive/MyDrive/VideoCaptioning/msvd_split/train/videos/7OGizkf_JEo_191_194.avi\n",
            "🗑️ Deleted incomplete video (no features): /content/drive/MyDrive/VideoCaptioning/msvd_split/train/videos/MJoxGpEswOI_9_16.avi\n",
            "🗑️ Deleted incomplete video (no features): /content/drive/MyDrive/VideoCaptioning/msvd_split/train/videos/IhwPQL9dFYc_153_170.avi\n",
            "🗑️ Deleted incomplete video (no features): /content/drive/MyDrive/VideoCaptioning/msvd_split/train/videos/qew09qQgMAg_22_27.avi\n",
            "🗑️ Deleted incomplete video (no features): /content/drive/MyDrive/VideoCaptioning/msvd_split/train/videos/tYh4iDFgmEE_10_14.avi\n",
            "🗑️ Deleted incomplete video (no features): /content/drive/MyDrive/VideoCaptioning/msvd_split/train/videos/C9LHk0AJI7U_196_205.avi\n",
            "🗑️ Deleted incomplete video (no features): /content/drive/MyDrive/VideoCaptioning/msvd_split/train/videos/0lh_UWF9ZP4_148_155.avi\n",
            "🗑️ Deleted incomplete video (no features): /content/drive/MyDrive/VideoCaptioning/msvd_split/train/videos/E6sqA9QtV5I_195_201.avi\n",
            "🗑️ Deleted incomplete video (no features): /content/drive/MyDrive/VideoCaptioning/msvd_split/train/videos/Puv_4NtflqE_26_34.avi\n",
            "🗑️ Deleted incomplete video (no features): /content/drive/MyDrive/VideoCaptioning/msvd_split/train/videos/X56XkGFe7OY_47_61.avi\n",
            "🗑️ Deleted incomplete video (no features): /content/drive/MyDrive/VideoCaptioning/msvd_split/train/videos/g9aZcaEg7iY_0_9.avi\n",
            "🗑️ Deleted incomplete video (no features): /content/drive/MyDrive/VideoCaptioning/msvd_split/train/videos/po2tcrG6KzM_2_8.avi\n",
            "🗑️ Deleted incomplete video (no features): /content/drive/MyDrive/VideoCaptioning/msvd_split/train/videos/SrDE9-cDz48_4_12.avi\n",
            "🗑️ Deleted incomplete video (no features): /content/drive/MyDrive/VideoCaptioning/msvd_split/train/videos/sWqi41wyXcQ_68_79.avi\n",
            "🗑️ Deleted incomplete video (no features): /content/drive/MyDrive/VideoCaptioning/msvd_split/train/videos/F3pmw2ga244_59_65.avi\n",
            "🗑️ Deleted incomplete video (no features): /content/drive/MyDrive/VideoCaptioning/msvd_split/train/videos/fMFvOgb4k6E_35_43.avi\n",
            "🗑️ Deleted incomplete video (no features): /content/drive/MyDrive/VideoCaptioning/msvd_split/train/videos/nV3Wv8iHp4U_0_38.avi\n",
            "🗑️ Deleted incomplete video (no features): /content/drive/MyDrive/VideoCaptioning/msvd_split/train/videos/o4pL7FObqds_72_78.avi\n",
            "🗑️ Deleted incomplete video (no features): /content/drive/MyDrive/VideoCaptioning/msvd_split/train/videos/VF1K_6ZSOAY_23_28.avi\n",
            "🗑️ Deleted incomplete video (no features): /content/drive/MyDrive/VideoCaptioning/msvd_split/train/videos/Uc63MFVwfrs_360_372.avi\n",
            "🗑️ Deleted incomplete video (no features): /content/drive/MyDrive/VideoCaptioning/msvd_split/train/videos/Kxa0mnDj0bs_15_20.avi\n",
            "🗑️ Deleted incomplete video (no features): /content/drive/MyDrive/VideoCaptioning/msvd_split/train/videos/WTf5EgVY5uU_54_58.avi\n",
            "🗑️ Deleted incomplete video (no features): /content/drive/MyDrive/VideoCaptioning/msvd_split/train/videos/tPkZK-PzeQE_10_28.avi\n",
            "🗑️ Deleted incomplete video (no features): /content/drive/MyDrive/VideoCaptioning/msvd_split/train/videos/WWf0Z6ak3Dg_5_15.avi\n",
            "🗑️ Deleted incomplete video (no features): /content/drive/MyDrive/VideoCaptioning/msvd_split/train/videos/zSPBC8EO6dY_132_140.avi\n",
            "🗑️ Deleted incomplete video (no features): /content/drive/MyDrive/VideoCaptioning/msvd_split/train/videos/ACOmKiJDkA4_175_182.avi\n",
            "🗑️ Deleted incomplete video (no features): /content/drive/MyDrive/VideoCaptioning/msvd_split/train/videos/cUW_bXll6YM_462_469.avi\n",
            "🗑️ Deleted incomplete video (no features): /content/drive/MyDrive/VideoCaptioning/msvd_split/train/videos/_O9kWD8nuRU_77_81.avi\n",
            "🗑️ Deleted incomplete video (no features): /content/drive/MyDrive/VideoCaptioning/msvd_split/train/videos/bLqmf8x7rLI_2_8.avi\n",
            "🗑️ Deleted incomplete video (no features): /content/drive/MyDrive/VideoCaptioning/msvd_split/train/videos/2HpZvL-_fiY_40_44.avi\n",
            "🗑️ Deleted incomplete video (no features): /content/drive/MyDrive/VideoCaptioning/msvd_split/train/videos/ptHkvYrH9fY_2_10.avi\n",
            "🗑️ Deleted incomplete video (no features): /content/drive/MyDrive/VideoCaptioning/msvd_split/train/videos/6t0BpjwYKco_46_53.avi\n",
            "🗑️ Deleted incomplete video (no features): /content/drive/MyDrive/VideoCaptioning/msvd_split/train/videos/30PpKtVT8Z4_35_50.avi\n",
            "🗑️ Deleted incomplete video (no features): /content/drive/MyDrive/VideoCaptioning/msvd_split/train/videos/nPj6EcVGoUY_7_15.avi\n",
            "🗑️ Deleted incomplete video (no features): /content/drive/MyDrive/VideoCaptioning/msvd_split/train/videos/ruoHOXo2PRQ_2_20.avi\n",
            "🗑️ Deleted incomplete video (no features): /content/drive/MyDrive/VideoCaptioning/msvd_split/train/videos/Lyp7MiaCXNE_114_120.avi\n",
            "🗑️ Deleted incomplete video (no features): /content/drive/MyDrive/VideoCaptioning/msvd_split/train/videos/F44bLc6t7-I_1_8.avi\n",
            "🗑️ Deleted incomplete video (no features): /content/drive/MyDrive/VideoCaptioning/msvd_split/train/videos/5U3xz9Ovmhk_214_222.avi\n",
            "🗑️ Deleted incomplete video (no features): /content/drive/MyDrive/VideoCaptioning/msvd_split/train/videos/0hyZ__3YhZc_380_384.avi\n",
            "🗑️ Deleted incomplete video (no features): /content/drive/MyDrive/VideoCaptioning/msvd_split/train/videos/2R_OAYQIkXM_14_22.avi\n",
            "🗑️ Deleted incomplete video (no features): /content/drive/MyDrive/VideoCaptioning/msvd_split/train/videos/VLBsAPZ2DDE_34_41.avi\n",
            "🗑️ Deleted incomplete video (no features): /content/drive/MyDrive/VideoCaptioning/msvd_split/train/videos/AX38yo7Wuws_81_91.avi\n",
            "🗑️ Deleted incomplete video (no features): /content/drive/MyDrive/VideoCaptioning/msvd_split/train/videos/-_hbPLsZvvo_43_55.avi\n",
            "🗑️ Deleted incomplete video (no features): /content/drive/MyDrive/VideoCaptioning/msvd_split/train/videos/6mYnZbIwcNo_10_16.avi\n",
            "🗑️ Deleted incomplete video (no features): /content/drive/MyDrive/VideoCaptioning/msvd_split/train/videos/zTn-nNj5Bng_8_19.avi\n",
            "🗑️ Deleted incomplete video (no features): /content/drive/MyDrive/VideoCaptioning/msvd_split/train/videos/3SKyc0aKx70_46_52.avi\n",
            "🗑️ Deleted incomplete video (no features): /content/drive/MyDrive/VideoCaptioning/msvd_split/train/videos/aC-KOYQsIvU_25_31.avi\n",
            "🗑️ Deleted incomplete video (no features): /content/drive/MyDrive/VideoCaptioning/msvd_split/train/videos/nBFhvrAOFqY_23_29.avi\n",
            "🗑️ Deleted incomplete video (no features): /content/drive/MyDrive/VideoCaptioning/msvd_split/train/videos/3eqFFRSXwGE_84_96.avi\n",
            "🗑️ Deleted incomplete video (no features): /content/drive/MyDrive/VideoCaptioning/msvd_split/train/videos/ACOmKiJDkA4_57_65.avi\n",
            "🗑️ Deleted incomplete video (no features): /content/drive/MyDrive/VideoCaptioning/msvd_split/train/videos/mJ9eRvxjLc4_0_16.avi\n",
            "🗑️ Deleted incomplete video (no features): /content/drive/MyDrive/VideoCaptioning/msvd_split/train/videos/qeKX-N1nKiM_74_77.avi\n",
            "🗑️ Deleted incomplete video (no features): /content/drive/MyDrive/VideoCaptioning/msvd_split/train/videos/PAN5IVvMlVc_17_23.avi\n",
            "🗑️ Deleted incomplete video (no features): /content/drive/MyDrive/VideoCaptioning/msvd_split/train/videos/PTxHJMM6hHE_0_15.avi\n",
            "🗑️ Deleted incomplete video (no features): /content/drive/MyDrive/VideoCaptioning/msvd_split/train/videos/m1NR0uNNs5Y_123_129.avi\n",
            "🗑️ Deleted incomplete video (no features): /content/drive/MyDrive/VideoCaptioning/msvd_split/train/videos/yBK02O1Oewc_20_35.avi\n",
            "🗑️ Deleted incomplete video (no features): /content/drive/MyDrive/VideoCaptioning/msvd_split/train/videos/A6XrTsLsUbA_4_15.avi\n",
            "🗑️ Deleted incomplete video (no features): /content/drive/MyDrive/VideoCaptioning/msvd_split/train/videos/9HTUcMjWB3g_134_138.avi\n",
            "🗑️ Deleted incomplete video (no features): /content/drive/MyDrive/VideoCaptioning/msvd_split/train/videos/0M-PyX2DbZc_25_31.avi\n",
            "🗑️ Deleted incomplete video (no features): /content/drive/MyDrive/VideoCaptioning/msvd_split/train/videos/ItFqogTmAvQ_48_52.avi\n",
            "🗑️ Deleted incomplete video (no features): /content/drive/MyDrive/VideoCaptioning/msvd_split/train/videos/PQbkdRbir0M_45_53.avi\n",
            "🗑️ Deleted incomplete video (no features): /content/drive/MyDrive/VideoCaptioning/msvd_split/train/videos/81fABEiwcIM_31_45.avi\n",
            "🗑️ Deleted incomplete video (no features): /content/drive/MyDrive/VideoCaptioning/msvd_split/train/videos/IpHJffM3G1c_439_446.avi\n",
            "🗑️ Deleted incomplete video (no features): /content/drive/MyDrive/VideoCaptioning/msvd_split/train/videos/zSPBC8EO6dY_97_110.avi\n",
            "🗑️ Deleted incomplete video (no features): /content/drive/MyDrive/VideoCaptioning/msvd_split/train/videos/eVSQiPbepXg_83_93.avi\n",
            "🗑️ Deleted incomplete video (no features): /content/drive/MyDrive/VideoCaptioning/msvd_split/train/videos/s80J2dAUUyI_33_43.avi\n",
            "🗑️ Deleted incomplete video (no features): /content/drive/MyDrive/VideoCaptioning/msvd_split/train/videos/kWLNZzuo3do_228_232.avi\n",
            "🗑️ Deleted incomplete video (no features): /content/drive/MyDrive/VideoCaptioning/msvd_split/train/videos/4Tn5S48sCwg_110_118.avi\n",
            "🗑️ Deleted incomplete video (no features): /content/drive/MyDrive/VideoCaptioning/msvd_split/train/videos/K6xy6C-Hsa0_2_28.avi\n",
            "🗑️ Deleted incomplete video (no features): /content/drive/MyDrive/VideoCaptioning/msvd_split/train/videos/6QbhfbLUtQs_13_23.avi\n",
            "🗑️ Deleted incomplete video (no features): /content/drive/MyDrive/VideoCaptioning/msvd_split/train/videos/QjI3Y8ZKSqs_30_38.avi\n",
            "🗑️ Deleted incomplete video (no features): /content/drive/MyDrive/VideoCaptioning/msvd_split/train/videos/S-Civm_fbK8_20_26.avi\n",
            "🗑️ Deleted incomplete video (no features): /content/drive/MyDrive/VideoCaptioning/msvd_split/train/videos/kWLNZzuo3do_152_164.avi\n",
            "🗑️ Deleted incomplete video (no features): /content/drive/MyDrive/VideoCaptioning/msvd_split/train/videos/6gQu8PWhFoQ_30_35.avi\n",
            "🗑️ Deleted incomplete video (no features): /content/drive/MyDrive/VideoCaptioning/msvd_split/train/videos/jvxUeT1Nlb8_100_115.avi\n",
            "🗑️ Deleted incomplete video (no features): /content/drive/MyDrive/VideoCaptioning/msvd_split/train/videos/YUlG_PKzpvc_0_8.avi\n",
            "🗑️ Deleted incomplete video (no features): /content/drive/MyDrive/VideoCaptioning/msvd_split/train/videos/jTnrm338_KY_34_42.avi\n",
            "🗑️ Deleted incomplete video (no features): /content/drive/MyDrive/VideoCaptioning/msvd_split/train/videos/8CzlhZtunNc_5_11.avi\n",
            "🗑️ Deleted incomplete video (no features): /content/drive/MyDrive/VideoCaptioning/msvd_split/train/videos/bmvD4HlPFxg_20_27.avi\n",
            "🗑️ Deleted incomplete video (no features): /content/drive/MyDrive/VideoCaptioning/msvd_split/train/videos/nYwbAb0QvBE_195_210.avi\n",
            "🗑️ Deleted incomplete video (no features): /content/drive/MyDrive/VideoCaptioning/msvd_split/train/videos/rlQ2kW-FvMk_66_79.avi\n",
            "🗑️ Deleted incomplete video (no features): /content/drive/MyDrive/VideoCaptioning/msvd_split/train/videos/zYcY4mjLpxU_45_55.avi\n",
            "🗑️ Deleted incomplete video (no features): /content/drive/MyDrive/VideoCaptioning/msvd_split/train/videos/30GeJHYoerk_80_85.avi\n",
            "🗑️ Deleted incomplete video (no features): /content/drive/MyDrive/VideoCaptioning/msvd_split/train/videos/TZ860P4iTaM_10_24.avi\n",
            "🗑️ Deleted incomplete video (no features): /content/drive/MyDrive/VideoCaptioning/msvd_split/train/videos/6FmN22YcVVE_11_18.avi\n",
            "🗑️ Deleted incomplete video (no features): /content/drive/MyDrive/VideoCaptioning/msvd_split/train/videos/0lh_UWF9ZP4_50_60.avi\n",
            "🗑️ Deleted incomplete video (no features): /content/drive/MyDrive/VideoCaptioning/msvd_split/train/videos/LjimLwAhAOQ_5_15.avi\n",
            "🗑️ Deleted incomplete video (no features): /content/drive/MyDrive/VideoCaptioning/msvd_split/train/videos/6t0BpjwYKco_230_240.avi\n",
            "🗑️ Deleted incomplete video (no features): /content/drive/MyDrive/VideoCaptioning/msvd_split/train/videos/xTd_IdIcB4s_2_10.avi\n",
            "🗑️ Deleted incomplete video (no features): /content/drive/MyDrive/VideoCaptioning/msvd_split/train/videos/0hyZ__3YhZc_352_356.avi\n",
            "🗑️ Deleted incomplete video (no features): /content/drive/MyDrive/VideoCaptioning/msvd_split/train/videos/uiLr9bdOL0M_23_30.avi\n",
            "🗑️ Deleted incomplete video (no features): /content/drive/MyDrive/VideoCaptioning/msvd_split/train/videos/sXyjCgR0rAc_0_11.avi\n",
            "🗑️ Deleted incomplete video (no features): /content/drive/MyDrive/VideoCaptioning/msvd_split/train/videos/jCplbayVbtw_28_38.avi\n",
            "🗑️ Deleted incomplete video (no features): /content/drive/MyDrive/VideoCaptioning/msvd_split/train/videos/-_hbPLsZvvo_323_328.avi\n",
            "🗑️ Deleted incomplete video (no features): /content/drive/MyDrive/VideoCaptioning/msvd_split/train/videos/4QdX5Q3qQsQ_38_44.avi\n",
            "🗑️ Deleted incomplete video (no features): /content/drive/MyDrive/VideoCaptioning/msvd_split/train/videos/VxM96IYzw0Q_2_15.avi\n",
            "🗑️ Deleted incomplete video (no features): /content/drive/MyDrive/VideoCaptioning/msvd_split/train/videos/rw9h_574HxE_127_133.avi\n",
            "🗑️ Deleted incomplete video (no features): /content/drive/MyDrive/VideoCaptioning/msvd_split/train/videos/sTMlQSbAGfE_0_12.avi\n",
            "🗑️ Deleted incomplete video (no features): /content/drive/MyDrive/VideoCaptioning/msvd_split/train/videos/UXs3eq68ZjE_498_504.avi\n",
            "🗑️ Deleted incomplete video (no features): /content/drive/MyDrive/VideoCaptioning/msvd_split/train/videos/yyxtyCaEVqk_329_360.avi\n",
            "🗑️ Deleted incomplete video (no features): /content/drive/MyDrive/VideoCaptioning/msvd_split/train/videos/XzCcRzEa83U_39_46.avi\n",
            "🗑️ Deleted incomplete video (no features): /content/drive/MyDrive/VideoCaptioning/msvd_split/train/videos/zWVQImPY2Cc_27_44.avi\n",
            "🗑️ Deleted incomplete video (no features): /content/drive/MyDrive/VideoCaptioning/msvd_split/train/videos/BOLKaQeB6j0_101_111.avi\n",
            "🗑️ Deleted incomplete video (no features): /content/drive/MyDrive/VideoCaptioning/msvd_split/train/videos/hJFBXHtxKIc_118_123.avi\n",
            "🗑️ Deleted incomplete video (no features): /content/drive/MyDrive/VideoCaptioning/msvd_split/train/videos/LYSPQqUvNO0_43_57.avi\n",
            "🗑️ Deleted incomplete video (no features): /content/drive/MyDrive/VideoCaptioning/msvd_split/train/videos/edqyq4Q-7uU_103_109.avi\n",
            "🗑️ Deleted incomplete video (no features): /content/drive/MyDrive/VideoCaptioning/msvd_split/train/videos/4QYPZM01xFE_14_26.avi\n",
            "🗑️ Deleted incomplete video (no features): /content/drive/MyDrive/VideoCaptioning/msvd_split/train/videos/zhLcONtNkew_16_21.avi\n",
            "🗑️ Deleted incomplete video (no features): /content/drive/MyDrive/VideoCaptioning/msvd_split/train/videos/Y4gaJn0wlDE_0_10.avi\n",
            "🗑️ Deleted incomplete video (no features): /content/drive/MyDrive/VideoCaptioning/msvd_split/train/videos/3doK4FQM5-k_46_57.avi\n",
            "🗑️ Deleted incomplete video (no features): /content/drive/MyDrive/VideoCaptioning/msvd_split/train/videos/fIaLVw_Gc_w_99_109.avi\n",
            "🗑️ Deleted incomplete video (no features): /content/drive/MyDrive/VideoCaptioning/msvd_split/train/videos/K2LxyytY3Dw_104_112.avi\n",
            "🗑️ Deleted incomplete video (no features): /content/drive/MyDrive/VideoCaptioning/msvd_split/train/videos/c2MwqFYVE7A_40_45.avi\n",
            "🗑️ Deleted incomplete video (no features): /content/drive/MyDrive/VideoCaptioning/msvd_split/train/videos/z2kUc8wp9l8_40_46.avi\n",
            "🗑️ Deleted incomplete video (no features): /content/drive/MyDrive/VideoCaptioning/msvd_split/train/videos/WTf5EgVY5uU_104_108.avi\n",
            "🗑️ Deleted incomplete video (no features): /content/drive/MyDrive/VideoCaptioning/msvd_split/train/videos/AoNnzlGhI04_112_128.avi\n",
            "🗑️ Deleted incomplete video (no features): /content/drive/MyDrive/VideoCaptioning/msvd_split/train/videos/kWLNZzuo3do_154_165.avi\n",
            "🗑️ Deleted incomplete video (no features): /content/drive/MyDrive/VideoCaptioning/msvd_split/train/videos/MJNStEgDKXU_3_10.avi\n",
            "🗑️ Deleted incomplete video (no features): /content/drive/MyDrive/VideoCaptioning/msvd_split/train/videos/4D1o4FC8YbA_29_39.avi\n",
            "🗑️ Deleted incomplete video (no features): /content/drive/MyDrive/VideoCaptioning/msvd_split/train/videos/_SNE2MYAotU_41_49.avi\n",
            "🗑️ Deleted incomplete video (no features): /content/drive/MyDrive/VideoCaptioning/msvd_split/train/videos/X7sQq-Iu1gQ_12_22.avi\n",
            "🗑️ Deleted incomplete video (no features): /content/drive/MyDrive/VideoCaptioning/msvd_split/train/videos/fr9H1WLcF1A_256_261.avi\n",
            "🗑️ Deleted incomplete video (no features): /content/drive/MyDrive/VideoCaptioning/msvd_split/train/videos/ceOXCFUmxzA_100_110.avi\n",
            "🗑️ Deleted incomplete video (no features): /content/drive/MyDrive/VideoCaptioning/msvd_split/train/videos/Afmc6FeN-hM_20_24.avi\n",
            "🗑️ Deleted incomplete video (no features): /content/drive/MyDrive/VideoCaptioning/msvd_split/train/videos/6Q3ltyPJJMQ_67_72.avi\n",
            "🗑️ Deleted incomplete video (no features): /content/drive/MyDrive/VideoCaptioning/msvd_split/train/videos/00jrXRMlZOY_0_10.avi\n",
            "🗑️ Deleted incomplete video (no features): /content/drive/MyDrive/VideoCaptioning/msvd_split/train/videos/Rm-RnxN4oHA_215_225.avi\n",
            "🗑️ Deleted incomplete video (no features): /content/drive/MyDrive/VideoCaptioning/msvd_split/train/videos/6t0BpjwYKco_254_258.avi\n",
            "🗑️ Deleted incomplete video (no features): /content/drive/MyDrive/VideoCaptioning/msvd_split/train/videos/nULE40HEWpA_5_11.avi\n",
            "🗑️ Deleted incomplete video (no features): /content/drive/MyDrive/VideoCaptioning/msvd_split/train/videos/PeUHy0A1GF0_68_73.avi\n",
            "🗑️ Deleted incomplete video (no features): /content/drive/MyDrive/VideoCaptioning/msvd_split/train/videos/BE_uxYK9uz0_49_56.avi\n",
            "🗑️ Deleted incomplete video (no features): /content/drive/MyDrive/VideoCaptioning/msvd_split/train/videos/a1Y73sPHKxw_0_5.avi\n",
            "🗑️ Deleted incomplete video (no features): /content/drive/MyDrive/VideoCaptioning/msvd_split/train/videos/Rq_VfjGH7kg_104_110.avi\n",
            "🗑️ Deleted incomplete video (no features): /content/drive/MyDrive/VideoCaptioning/msvd_split/train/videos/b97TK8XVLHE_40_50.avi\n",
            "🗑️ Deleted incomplete video (no features): /content/drive/MyDrive/VideoCaptioning/msvd_split/train/videos/JAFGw0WRHHU_108_116.avi\n",
            "🗑️ Deleted incomplete video (no features): /content/drive/MyDrive/VideoCaptioning/msvd_split/train/videos/7uOiiA4Kxbo_23_35.avi\n",
            "🗑️ Deleted incomplete video (no features): /content/drive/MyDrive/VideoCaptioning/msvd_split/train/videos/27hs9W89FuI_0_10.avi\n",
            "🗑️ Deleted incomplete video (no features): /content/drive/MyDrive/VideoCaptioning/msvd_split/train/videos/UbmZAe5u5FI_26_33.avi\n",
            "🗑️ Deleted incomplete video (no features): /content/drive/MyDrive/VideoCaptioning/msvd_split/train/videos/_pBeOAMjGm8_1_18.avi\n",
            "🗑️ Deleted incomplete video (no features): /content/drive/MyDrive/VideoCaptioning/msvd_split/train/videos/ZxqkAGNyo8A_12_22.avi\n",
            "🗑️ Deleted incomplete video (no features): /content/drive/MyDrive/VideoCaptioning/msvd_split/train/videos/wX-Bl25Htag_104_115.avi\n",
            "🗑️ Deleted incomplete video (no features): /content/drive/MyDrive/VideoCaptioning/msvd_split/train/videos/c51L6ZxZGjQ_137_154.avi\n",
            "🗑️ Deleted incomplete video (no features): /content/drive/MyDrive/VideoCaptioning/msvd_split/train/videos/bL_Kijz9IN4_0_15.avi\n",
            "🗑️ Deleted incomplete video (no features): /content/drive/MyDrive/VideoCaptioning/msvd_split/train/videos/QTAqjSbMkXU_65_75.avi\n",
            "🗑️ Deleted incomplete video (no features): /content/drive/MyDrive/VideoCaptioning/msvd_split/train/videos/cSDkshD2ME0_11_14.avi\n",
            "🗑️ Deleted incomplete video (no features): /content/drive/MyDrive/VideoCaptioning/msvd_split/train/videos/OIjsSu_I4So_6_10.avi\n",
            "🗑️ Deleted incomplete video (no features): /content/drive/MyDrive/VideoCaptioning/msvd_split/train/videos/UXs3eq68ZjE_320_325.avi\n",
            "🗑️ Deleted incomplete video (no features): /content/drive/MyDrive/VideoCaptioning/msvd_split/train/videos/s-QQWRdF-5Y_19_28.avi\n",
            "🗑️ Deleted incomplete video (no features): /content/drive/MyDrive/VideoCaptioning/msvd_split/train/videos/jD4o_Lmy6bU_117_137.avi\n",
            "🗑️ Deleted incomplete video (no features): /content/drive/MyDrive/VideoCaptioning/msvd_split/train/videos/xxHx6s_DbUo_57_61.avi\n",
            "🗑️ Deleted incomplete video (no features): /content/drive/MyDrive/VideoCaptioning/msvd_split/train/videos/EBWPZIjtnTM_1_6.avi\n",
            "🗑️ Deleted incomplete video (no features): /content/drive/MyDrive/VideoCaptioning/msvd_split/train/videos/e40bBP0_AbE_64_67.avi\n",
            "🗑️ Deleted incomplete video (no features): /content/drive/MyDrive/VideoCaptioning/msvd_split/train/videos/lsanQj2yacs_102_108.avi\n",
            "🗑️ Deleted incomplete video (no features): /content/drive/MyDrive/VideoCaptioning/msvd_split/train/videos/7_XASfcYdBk_3_13.avi\n",
            "🗑️ Deleted incomplete video (no features): /content/drive/MyDrive/VideoCaptioning/msvd_split/train/videos/_O9kWD8nuRU_45_49.avi\n",
            "🗑️ Deleted incomplete video (no features): /content/drive/MyDrive/VideoCaptioning/msvd_split/train/videos/ItFqogTmAvQ_240_246.avi\n",
            "🗑️ Deleted incomplete video (no features): /content/drive/MyDrive/VideoCaptioning/msvd_split/train/videos/Z8rTzW9Gb6Y_116_123.avi\n",
            "🗑️ Deleted incomplete video (no features): /content/drive/MyDrive/VideoCaptioning/msvd_split/train/videos/EwTZ2xpQwpA_14_21.avi\n",
            "🗑️ Deleted incomplete video (no features): /content/drive/MyDrive/VideoCaptioning/msvd_split/train/videos/BVilbVCo9sU_1_11.avi\n",
            "🗑️ Deleted incomplete video (no features): /content/drive/MyDrive/VideoCaptioning/msvd_split/train/videos/K-czl524zxk_6_15.avi\n",
            "🗑️ Deleted incomplete video (no features): /content/drive/MyDrive/VideoCaptioning/msvd_split/train/videos/jcIrD7rNvTM_10_21.avi\n",
            "🗑️ Deleted incomplete video (no features): /content/drive/MyDrive/VideoCaptioning/msvd_split/train/videos/0bSz70pYAP0_5_15.avi\n",
            "🗑️ Deleted incomplete video (no features): /content/drive/MyDrive/VideoCaptioning/msvd_split/train/videos/zzit5b_-ukg_5_20.avi\n",
            "🗑️ Deleted incomplete video (no features): /content/drive/MyDrive/VideoCaptioning/msvd_split/train/videos/0hyZ__3YhZc_388_394.avi\n",
            "🗑️ Deleted incomplete video (no features): /content/drive/MyDrive/VideoCaptioning/msvd_split/train/videos/9gbUM9oHBNI_557_563.avi\n",
            "🗑️ Deleted incomplete video (no features): /content/drive/MyDrive/VideoCaptioning/msvd_split/train/videos/B4foOe9kUgY_0_8.avi\n",
            "🗑️ Deleted incomplete video (no features): /content/drive/MyDrive/VideoCaptioning/msvd_split/train/videos/YmXCfQm0_CA_140_156.avi\n",
            "🗑️ Deleted incomplete video (no features): /content/drive/MyDrive/VideoCaptioning/msvd_split/train/videos/MY-rGamtAJc_6_22.avi\n",
            "🗑️ Deleted incomplete video (no features): /content/drive/MyDrive/VideoCaptioning/msvd_split/train/videos/u4kMN1jamdM_10_20.avi\n",
            "🗑️ Deleted incomplete video (no features): /content/drive/MyDrive/VideoCaptioning/msvd_split/train/videos/cUW_bXll6YM_390_395.avi\n",
            "🗑️ Deleted incomplete video (no features): /content/drive/MyDrive/VideoCaptioning/msvd_split/train/videos/8z-XGiU1KN4_9_17.avi\n",
            "🗑️ Deleted incomplete video (no features): /content/drive/MyDrive/VideoCaptioning/msvd_split/train/videos/RiglOfJon8I_3_18.avi\n",
            "🗑️ Deleted incomplete video (no features): /content/drive/MyDrive/VideoCaptioning/msvd_split/train/videos/CHVhwcOg6y8_1_12.avi\n",
            "🗑️ Deleted incomplete video (no features): /content/drive/MyDrive/VideoCaptioning/msvd_split/train/videos/z0Si1XxMibg_0_30.avi\n",
            "🗑️ Deleted incomplete video (no features): /content/drive/MyDrive/VideoCaptioning/msvd_split/train/videos/LyYJiKxHZz0_0_10.avi\n",
            "🗑️ Deleted incomplete video (no features): /content/drive/MyDrive/VideoCaptioning/msvd_split/train/videos/fX5G_JwPlLo_640_660.avi\n",
            "🗑️ Deleted incomplete video (no features): /content/drive/MyDrive/VideoCaptioning/msvd_split/train/videos/rq2p5ML8-WI_63_69.avi\n",
            "🗑️ Deleted incomplete video (no features): /content/drive/MyDrive/VideoCaptioning/msvd_split/train/videos/N5wsl86P37Q_1_15.avi\n",
            "🗑️ Deleted incomplete video (no features): /content/drive/MyDrive/VideoCaptioning/msvd_split/train/videos/ao-9B8IV9_E_72_77.avi\n",
            "🗑️ Deleted incomplete video (no features): /content/drive/MyDrive/VideoCaptioning/msvd_split/train/videos/OUII8_aOfNM_60_69.avi\n",
            "🗑️ Deleted incomplete video (no features): /content/drive/MyDrive/VideoCaptioning/msvd_split/train/videos/SzEbtbNSg04_111_117.avi\n",
            "🗑️ Deleted incomplete video (no features): /content/drive/MyDrive/VideoCaptioning/msvd_split/train/videos/4t5POXt2e68_5_11.avi\n",
            "🗑️ Deleted incomplete video (no features): /content/drive/MyDrive/VideoCaptioning/msvd_split/train/videos/OpR1Er5o6IY_209_217.avi\n",
            "🗑️ Deleted incomplete video (no features): /content/drive/MyDrive/VideoCaptioning/msvd_split/train/videos/urXDqw3S34I_12_17.avi\n",
            "🗑️ Deleted incomplete video (no features): /content/drive/MyDrive/VideoCaptioning/msvd_split/train/videos/8mSUD7JGNO0_174_181.avi\n",
            "🗑️ Deleted incomplete video (no features): /content/drive/MyDrive/VideoCaptioning/msvd_split/train/videos/fcvW1vr8hAs_104_108.avi\n",
            "🗑️ Deleted incomplete video (no features): /content/drive/MyDrive/VideoCaptioning/msvd_split/train/videos/Ffv7fhL1EDY_177_184.avi\n",
            "🗑️ Deleted incomplete video (no features): /content/drive/MyDrive/VideoCaptioning/msvd_split/train/videos/yFPHhRat6bc_160_210.avi\n",
            "🗑️ Deleted incomplete video (no features): /content/drive/MyDrive/VideoCaptioning/msvd_split/train/videos/8MVo7fje_oE_113_118.avi\n",
            "🗑️ Deleted incomplete video (no features): /content/drive/MyDrive/VideoCaptioning/msvd_split/train/videos/0hyZ__3YhZc_562_568.avi\n",
            "🗑️ Deleted incomplete video (no features): /content/drive/MyDrive/VideoCaptioning/msvd_split/train/videos/idRc_KkInds_0_6.avi\n",
            "🗑️ Deleted incomplete video (no features): /content/drive/MyDrive/VideoCaptioning/msvd_split/train/videos/seTkGZlEU64_81_110.avi\n",
            "🗑️ Deleted incomplete video (no features): /content/drive/MyDrive/VideoCaptioning/msvd_split/train/videos/SzEbtbNSg04_88_93.avi\n",
            "🗑️ Deleted incomplete video (no features): /content/drive/MyDrive/VideoCaptioning/msvd_split/train/videos/-_hbPLsZvvo_288_305.avi\n",
            "🗑️ Deleted incomplete video (no features): /content/drive/MyDrive/VideoCaptioning/msvd_split/train/videos/p69Q8lTkZTc_21_29.avi\n",
            "🗑️ Deleted incomplete video (no features): /content/drive/MyDrive/VideoCaptioning/msvd_split/train/videos/1dfR0A_BXjw_545_560.avi\n",
            "✅ Cleaned JSON for [train]\n",
            "🧮 Removed 0 invalid video entries\n",
            "🧾 Removed 0 invalid captions\n",
            "✅ [train] Verified and fixed. All valid videos now have features and JSON alignment.\n",
            "\n",
            "🗑️ Deleted incomplete video (no features): /content/drive/MyDrive/VideoCaptioning/msvd_split/val/videos/5W02895vT8c_312_322.avi\n",
            "🗑️ Deleted incomplete video (no features): /content/drive/MyDrive/VideoCaptioning/msvd_split/val/videos/xxHx6s_DbUo_121_128.avi\n",
            "🗑️ Deleted incomplete video (no features): /content/drive/MyDrive/VideoCaptioning/msvd_split/val/videos/K-KVz3eqbnA_1_10.avi\n",
            "🗑️ Deleted incomplete video (no features): /content/drive/MyDrive/VideoCaptioning/msvd_split/val/videos/8NFoN0K3bPg_20_28.avi\n",
            "🗑️ Deleted incomplete video (no features): /content/drive/MyDrive/VideoCaptioning/msvd_split/val/videos/8e0yXMa708Y_24_33.avi\n",
            "🗑️ Deleted incomplete video (no features): /content/drive/MyDrive/VideoCaptioning/msvd_split/val/videos/-DRy7rBg0IQ_31_37.avi\n",
            "🗑️ Deleted incomplete video (no features): /content/drive/MyDrive/VideoCaptioning/msvd_split/val/videos/mYzajpeAWuA_100_112.avi\n",
            "🗑️ Deleted incomplete video (no features): /content/drive/MyDrive/VideoCaptioning/msvd_split/val/videos/gtIz1u8g1F0_3_13.avi\n",
            "🗑️ Deleted incomplete video (no features): /content/drive/MyDrive/VideoCaptioning/msvd_split/val/videos/0GXq1An3yHI_22_35.avi\n",
            "🗑️ Deleted incomplete video (no features): /content/drive/MyDrive/VideoCaptioning/msvd_split/val/videos/k-SWy-sU8cE_5_10.avi\n",
            "🗑️ Deleted incomplete video (no features): /content/drive/MyDrive/VideoCaptioning/msvd_split/val/videos/pGsU4FekJQM_10_18.avi\n",
            "🗑️ Deleted incomplete video (no features): /content/drive/MyDrive/VideoCaptioning/msvd_split/val/videos/6owu8Mow0_g_384_389.avi\n",
            "🗑️ Deleted incomplete video (no features): /content/drive/MyDrive/VideoCaptioning/msvd_split/val/videos/c53HKs39i28_26_35.avi\n",
            "🗑️ Deleted incomplete video (no features): /content/drive/MyDrive/VideoCaptioning/msvd_split/val/videos/1_6V30igzIk_5_15.avi\n",
            "🗑️ Deleted incomplete video (no features): /content/drive/MyDrive/VideoCaptioning/msvd_split/val/videos/04Gt01vatkk_248_265.avi\n",
            "🗑️ Deleted incomplete video (no features): /content/drive/MyDrive/VideoCaptioning/msvd_split/val/videos/kWLNZzuo3do_17_23.avi\n",
            "🗑️ Deleted incomplete video (no features): /content/drive/MyDrive/VideoCaptioning/msvd_split/val/videos/d7Gs0uGFLh0_5_13.avi\n",
            "🗑️ Deleted incomplete video (no features): /content/drive/MyDrive/VideoCaptioning/msvd_split/val/videos/ZYaxg5NZW_g_21_27.avi\n",
            "🗑️ Deleted incomplete video (no features): /content/drive/MyDrive/VideoCaptioning/msvd_split/val/videos/4JVpbYmqfcI_5_19.avi\n",
            "🗑️ Deleted incomplete video (no features): /content/drive/MyDrive/VideoCaptioning/msvd_split/val/videos/a8PAY4rvzRM_1_10.avi\n",
            "🗑️ Deleted incomplete video (no features): /content/drive/MyDrive/VideoCaptioning/msvd_split/val/videos/_sJ_09Mf1HY_49_72.avi\n",
            "🗑️ Deleted incomplete video (no features): /content/drive/MyDrive/VideoCaptioning/msvd_split/val/videos/eZLxohGP4IE_147_158.avi\n",
            "🗑️ Deleted incomplete video (no features): /content/drive/MyDrive/VideoCaptioning/msvd_split/val/videos/fd7Ky1lEPT8_40_50.avi\n",
            "🗑️ Deleted incomplete video (no features): /content/drive/MyDrive/VideoCaptioning/msvd_split/val/videos/qeKX-N1nKiM_37_43.avi\n",
            "🗑️ Deleted incomplete video (no features): /content/drive/MyDrive/VideoCaptioning/msvd_split/val/videos/AjZ-R3LFMzo_5_10.avi\n",
            "🗑️ Deleted incomplete video (no features): /content/drive/MyDrive/VideoCaptioning/msvd_split/val/videos/o_mWZWcm2r4_10_15.avi\n",
            "🗑️ Deleted incomplete video (no features): /content/drive/MyDrive/VideoCaptioning/msvd_split/val/videos/qypmR4O1Gwk_0_10.avi\n",
            "🗑️ Deleted incomplete video (no features): /content/drive/MyDrive/VideoCaptioning/msvd_split/val/videos/vpR0L3sIvoo_15_49.avi\n",
            "🗑️ Deleted incomplete video (no features): /content/drive/MyDrive/VideoCaptioning/msvd_split/val/videos/_UqnTFs1BLc_23_27.avi\n",
            "🗑️ Deleted incomplete video (no features): /content/drive/MyDrive/VideoCaptioning/msvd_split/val/videos/SJZFNwfcSOw_3_18.avi\n",
            "🗑️ Deleted incomplete video (no features): /content/drive/MyDrive/VideoCaptioning/msvd_split/val/videos/PHDmVhShE80_82_86.avi\n",
            "🗑️ Deleted incomplete video (no features): /content/drive/MyDrive/VideoCaptioning/msvd_split/val/videos/xtbsD3PUua4_174_185.avi\n",
            "🗑️ Deleted incomplete video (no features): /content/drive/MyDrive/VideoCaptioning/msvd_split/val/videos/FGjtmhI-Rmk_30_37.avi\n",
            "🗑️ Deleted incomplete video (no features): /content/drive/MyDrive/VideoCaptioning/msvd_split/val/videos/z0zb--BOhDY_16_22.avi\n",
            "🗑️ Deleted incomplete video (no features): /content/drive/MyDrive/VideoCaptioning/msvd_split/val/videos/n6U-TGahwvs_100_110.avi\n",
            "🗑️ Deleted incomplete video (no features): /content/drive/MyDrive/VideoCaptioning/msvd_split/val/videos/6ZhKOK08tgM_45_49.avi\n",
            "🗑️ Deleted incomplete video (no features): /content/drive/MyDrive/VideoCaptioning/msvd_split/val/videos/IiTzJQE67FA_74_86.avi\n",
            "🗑️ Deleted incomplete video (no features): /content/drive/MyDrive/VideoCaptioning/msvd_split/val/videos/OfgSCMxttCc_86_92.avi\n",
            "🗑️ Deleted incomplete video (no features): /content/drive/MyDrive/VideoCaptioning/msvd_split/val/videos/OVEe1DMsOq0_43_52.avi\n",
            "🗑️ Deleted incomplete video (no features): /content/drive/MyDrive/VideoCaptioning/msvd_split/val/videos/4cgzdXlJksU_83_90.avi\n",
            "🗑️ Deleted incomplete video (no features): /content/drive/MyDrive/VideoCaptioning/msvd_split/val/videos/ifS2nXfCyYo_4_34.avi\n",
            "🗑️ Deleted incomplete video (no features): /content/drive/MyDrive/VideoCaptioning/msvd_split/val/videos/HDcIB1e9s5A_28_34.avi\n",
            "🗑️ Deleted incomplete video (no features): /content/drive/MyDrive/VideoCaptioning/msvd_split/val/videos/p6T3XrnYtFk_4_13.avi\n",
            "🗑️ Deleted incomplete video (no features): /content/drive/MyDrive/VideoCaptioning/msvd_split/val/videos/oDcd2JbOyzg_85_98.avi\n",
            "🗑️ Deleted incomplete video (no features): /content/drive/MyDrive/VideoCaptioning/msvd_split/val/videos/HAjwXjwN9-A_16_24.avi\n",
            "🗑️ Deleted incomplete video (no features): /content/drive/MyDrive/VideoCaptioning/msvd_split/val/videos/2YhDTpzxd3c_240_245.avi\n",
            "🗑️ Deleted incomplete video (no features): /content/drive/MyDrive/VideoCaptioning/msvd_split/val/videos/9LSuyLyuUiM_3_6.avi\n",
            "🗑️ Deleted incomplete video (no features): /content/drive/MyDrive/VideoCaptioning/msvd_split/val/videos/0lh_UWF9ZP4_183_190.avi\n",
            "🗑️ Deleted incomplete video (no features): /content/drive/MyDrive/VideoCaptioning/msvd_split/val/videos/hJuqBDw_TT4_14_25.avi\n",
            "🗑️ Deleted incomplete video (no features): /content/drive/MyDrive/VideoCaptioning/msvd_split/val/videos/WinaH9SkW9c_11_38.avi\n",
            "🗑️ Deleted incomplete video (no features): /content/drive/MyDrive/VideoCaptioning/msvd_split/val/videos/1sffYOXq4Iw_23_49.avi\n",
            "🗑️ Deleted incomplete video (no features): /content/drive/MyDrive/VideoCaptioning/msvd_split/val/videos/aeA-HN7BMdo_34_41.avi\n",
            "🗑️ Deleted incomplete video (no features): /content/drive/MyDrive/VideoCaptioning/msvd_split/val/videos/xXlWsBhFvis_6_10.avi\n",
            "🗑️ Deleted incomplete video (no features): /content/drive/MyDrive/VideoCaptioning/msvd_split/val/videos/auFXfsCzAvQ_1_15.avi\n",
            "🗑️ Deleted incomplete video (no features): /content/drive/MyDrive/VideoCaptioning/msvd_split/val/videos/mF6ijhSrbBQ_32_40.avi\n",
            "🗑️ Deleted incomplete video (no features): /content/drive/MyDrive/VideoCaptioning/msvd_split/val/videos/J8cP93yG1Ao_14_24.avi\n",
            "🗑️ Deleted incomplete video (no features): /content/drive/MyDrive/VideoCaptioning/msvd_split/val/videos/6owu8Mow0_g_302_307.avi\n",
            "🗑️ Deleted incomplete video (no features): /content/drive/MyDrive/VideoCaptioning/msvd_split/val/videos/MWzeInQaUk4_12_20.avi\n",
            "🗑️ Deleted incomplete video (no features): /content/drive/MyDrive/VideoCaptioning/msvd_split/val/videos/25NmudB2fqg_0_7.avi\n",
            "🗑️ Deleted incomplete video (no features): /content/drive/MyDrive/VideoCaptioning/msvd_split/val/videos/Aa7yf9XtcJM_45_50.avi\n",
            "🗑️ Deleted incomplete video (no features): /content/drive/MyDrive/VideoCaptioning/msvd_split/val/videos/bnN_o0Hkn3M_73_80.avi\n",
            "🗑️ Deleted incomplete video (no features): /content/drive/MyDrive/VideoCaptioning/msvd_split/val/videos/klFyrnrUSck_13_19.avi\n",
            "🗑️ Deleted incomplete video (no features): /content/drive/MyDrive/VideoCaptioning/msvd_split/val/videos/8yoUaH6wGLs_22_30.avi\n",
            "🗑️ Deleted incomplete video (no features): /content/drive/MyDrive/VideoCaptioning/msvd_split/val/videos/NFxWwI0J3As_78_84.avi\n",
            "🗑️ Deleted incomplete video (no features): /content/drive/MyDrive/VideoCaptioning/msvd_split/val/videos/GY5Dl00LrEI_2_13.avi\n",
            "🗑️ Deleted incomplete video (no features): /content/drive/MyDrive/VideoCaptioning/msvd_split/val/videos/e996zZ0uV_A_68_72.avi\n",
            "🗑️ Deleted incomplete video (no features): /content/drive/MyDrive/VideoCaptioning/msvd_split/val/videos/kWLNZzuo3do_48_53.avi\n",
            "🗑️ Deleted incomplete video (no features): /content/drive/MyDrive/VideoCaptioning/msvd_split/val/videos/hcCLIzzB1jQ_1_7.avi\n",
            "🗑️ Deleted incomplete video (no features): /content/drive/MyDrive/VideoCaptioning/msvd_split/val/videos/nq4hG6qgyPs_184_195.avi\n",
            "🗑️ Deleted incomplete video (no features): /content/drive/MyDrive/VideoCaptioning/msvd_split/val/videos/5YJaS2Eswg0_22_26.avi\n",
            "🗑️ Deleted incomplete video (no features): /content/drive/MyDrive/VideoCaptioning/msvd_split/val/videos/8MVo7fje_oE_139_144.avi\n",
            "🗑️ Deleted incomplete video (no features): /content/drive/MyDrive/VideoCaptioning/msvd_split/val/videos/s-dSFyz_5Ww_13_23.avi\n",
            "🗑️ Deleted incomplete video (no features): /content/drive/MyDrive/VideoCaptioning/msvd_split/val/videos/u9prcUCHlqM_235_241.avi\n",
            "🗑️ Deleted incomplete video (no features): /content/drive/MyDrive/VideoCaptioning/msvd_split/val/videos/G-M78KIy19E_315_330.avi\n",
            "🗑️ Deleted incomplete video (no features): /content/drive/MyDrive/VideoCaptioning/msvd_split/val/videos/cCmnN96zIeQ_14_24.avi\n",
            "🗑️ Deleted incomplete video (no features): /content/drive/MyDrive/VideoCaptioning/msvd_split/val/videos/Pgm-mOQu2MM_48_62.avi\n",
            "🗑️ Deleted incomplete video (no features): /content/drive/MyDrive/VideoCaptioning/msvd_split/val/videos/nS6oQxX_Qi8_2_12.avi\n",
            "🗑️ Deleted incomplete video (no features): /content/drive/MyDrive/VideoCaptioning/msvd_split/val/videos/0ONJfp95yoE_1_10.avi\n",
            "🗑️ Deleted incomplete video (no features): /content/drive/MyDrive/VideoCaptioning/msvd_split/val/videos/oRBgVOiZVsc_16_22.avi\n",
            "🗑️ Deleted incomplete video (no features): /content/drive/MyDrive/VideoCaptioning/msvd_split/val/videos/pzq5fPfsPZg_51_57.avi\n",
            "🗑️ Deleted incomplete video (no features): /content/drive/MyDrive/VideoCaptioning/msvd_split/val/videos/f9Won2JpOEU_60_80.avi\n",
            "🗑️ Deleted incomplete video (no features): /content/drive/MyDrive/VideoCaptioning/msvd_split/val/videos/MW21lp833Vo_143_149.avi\n",
            "🗑️ Deleted incomplete video (no features): /content/drive/MyDrive/VideoCaptioning/msvd_split/val/videos/0hyZ__3YhZc_341_348.avi\n",
            "🗑️ Deleted incomplete video (no features): /content/drive/MyDrive/VideoCaptioning/msvd_split/val/videos/WrsS6X-FB-I_30_47.avi\n",
            "🗑️ Deleted incomplete video (no features): /content/drive/MyDrive/VideoCaptioning/msvd_split/val/videos/DB-3-TVjrxU_58_75.avi\n",
            "🗑️ Deleted incomplete video (no features): /content/drive/MyDrive/VideoCaptioning/msvd_split/val/videos/DN7jwyL1Xgg_1_19.avi\n",
            "🗑️ Deleted incomplete video (no features): /content/drive/MyDrive/VideoCaptioning/msvd_split/val/videos/IiIiY6o-C9k_49_55.avi\n",
            "🗑️ Deleted incomplete video (no features): /content/drive/MyDrive/VideoCaptioning/msvd_split/val/videos/zFIn8DeV5PM_20_33.avi\n",
            "🗑️ Deleted incomplete video (no features): /content/drive/MyDrive/VideoCaptioning/msvd_split/val/videos/ACOmKiJDkA4_75_81.avi\n",
            "🗑️ Deleted incomplete video (no features): /content/drive/MyDrive/VideoCaptioning/msvd_split/val/videos/pFSoWsocv0g_8_17.avi\n",
            "🗑️ Deleted incomplete video (no features): /content/drive/MyDrive/VideoCaptioning/msvd_split/val/videos/pUPKsHTDZTo_70_85.avi\n",
            "🗑️ Deleted incomplete video (no features): /content/drive/MyDrive/VideoCaptioning/msvd_split/val/videos/nc0fVlaTYEs_34_44.avi\n",
            "🗑️ Deleted incomplete video (no features): /content/drive/MyDrive/VideoCaptioning/msvd_split/val/videos/0hyZ__3YhZc_302_307.avi\n",
            "🗑️ Deleted incomplete video (no features): /content/drive/MyDrive/VideoCaptioning/msvd_split/val/videos/_KMoC6ZdeXs_10_16.avi\n",
            "🗑️ Deleted incomplete video (no features): /content/drive/MyDrive/VideoCaptioning/msvd_split/val/videos/FavUpD_IjVY_22_26.avi\n",
            "🗑️ Deleted incomplete video (no features): /content/drive/MyDrive/VideoCaptioning/msvd_split/val/videos/53dc4z7HLyg_25_29.avi\n",
            "🗑️ Deleted incomplete video (no features): /content/drive/MyDrive/VideoCaptioning/msvd_split/val/videos/tn-Hoz4KbkE_89_93.avi\n",
            "🗑️ Deleted incomplete video (no features): /content/drive/MyDrive/VideoCaptioning/msvd_split/val/videos/KeSQ5Rv7eH8_73_79.avi\n",
            "🗑️ Deleted incomplete video (no features): /content/drive/MyDrive/VideoCaptioning/msvd_split/val/videos/HkuOqWzXYVg_0_12.avi\n",
            "🗑️ Deleted incomplete video (no features): /content/drive/MyDrive/VideoCaptioning/msvd_split/val/videos/Eamd2wMKixs_48_72.avi\n",
            "🗑️ Deleted incomplete video (no features): /content/drive/MyDrive/VideoCaptioning/msvd_split/val/videos/oG6LLGi_n48_51_55.avi\n",
            "🗑️ Deleted incomplete video (no features): /content/drive/MyDrive/VideoCaptioning/msvd_split/val/videos/FH8vgAp4VDU_10_14.avi\n",
            "🗑️ Deleted incomplete video (no features): /content/drive/MyDrive/VideoCaptioning/msvd_split/val/videos/3OPQqH3YlHA_50_54.avi\n",
            "🗑️ Deleted incomplete video (no features): /content/drive/MyDrive/VideoCaptioning/msvd_split/val/videos/EPXsiQw9vvo_1_12.avi\n",
            "🗑️ Deleted incomplete video (no features): /content/drive/MyDrive/VideoCaptioning/msvd_split/val/videos/kWLNZzuo3do_77_83.avi\n",
            "🗑️ Deleted incomplete video (no features): /content/drive/MyDrive/VideoCaptioning/msvd_split/val/videos/jjl2ZMdFCsw_17_35.avi\n",
            "🗑️ Deleted incomplete video (no features): /content/drive/MyDrive/VideoCaptioning/msvd_split/val/videos/2I20ZTFHheg_96_104.avi\n",
            "🗑️ Deleted incomplete video (no features): /content/drive/MyDrive/VideoCaptioning/msvd_split/val/videos/ok4cM6WTA5E_178_184.avi\n",
            "🗑️ Deleted incomplete video (no features): /content/drive/MyDrive/VideoCaptioning/msvd_split/val/videos/YmXCfQm0_CA_68_75.avi\n",
            "🗑️ Deleted incomplete video (no features): /content/drive/MyDrive/VideoCaptioning/msvd_split/val/videos/kIZanu909lw_67_80.avi\n",
            "🗑️ Deleted incomplete video (no features): /content/drive/MyDrive/VideoCaptioning/msvd_split/val/videos/d7eGypGOlOc_13_22.avi\n",
            "🗑️ Deleted incomplete video (no features): /content/drive/MyDrive/VideoCaptioning/msvd_split/val/videos/ZlX_Gy4HP2E_38_55.avi\n",
            "🗑️ Deleted incomplete video (no features): /content/drive/MyDrive/VideoCaptioning/msvd_split/val/videos/BVjvRpmHg0w_157_165.avi\n",
            "🗑️ Deleted incomplete video (no features): /content/drive/MyDrive/VideoCaptioning/msvd_split/val/videos/UbmZAe5u5FI_88_98.avi\n",
            "🗑️ Deleted incomplete video (no features): /content/drive/MyDrive/VideoCaptioning/msvd_split/val/videos/FWzsXeXCwuc_106_110.avi\n",
            "🗑️ Deleted incomplete video (no features): /content/drive/MyDrive/VideoCaptioning/msvd_split/val/videos/jCplbayVbtw_10_20.avi\n",
            "🗑️ Deleted incomplete video (no features): /content/drive/MyDrive/VideoCaptioning/msvd_split/val/videos/nZSFn51l3hc_660_666.avi\n",
            "🗑️ Deleted incomplete video (no features): /content/drive/MyDrive/VideoCaptioning/msvd_split/val/videos/J7zb8YXrmIA_93_99.avi\n",
            "🗑️ Deleted incomplete video (no features): /content/drive/MyDrive/VideoCaptioning/msvd_split/val/videos/J4otiwOjQy8_98_112.avi\n",
            "🗑️ Deleted incomplete video (no features): /content/drive/MyDrive/VideoCaptioning/msvd_split/val/videos/f_GnkweYzzI_35_41.avi\n",
            "🗑️ Deleted incomplete video (no features): /content/drive/MyDrive/VideoCaptioning/msvd_split/val/videos/PslVHtXc7Tg_8_14.avi\n",
            "🗑️ Deleted incomplete video (no features): /content/drive/MyDrive/VideoCaptioning/msvd_split/val/videos/s_ldnx8_etY_32_54.avi\n",
            "🗑️ Deleted incomplete video (no features): /content/drive/MyDrive/VideoCaptioning/msvd_split/val/videos/bQJQGoJF7_k_162_169.avi\n",
            "🗑️ Deleted incomplete video (no features): /content/drive/MyDrive/VideoCaptioning/msvd_split/val/videos/r0rmrbTb7fU_98_109.avi\n",
            "🗑️ Deleted incomplete video (no features): /content/drive/MyDrive/VideoCaptioning/msvd_split/val/videos/XZ0Ch_ClBfo_120_127.avi\n",
            "🗑️ Deleted incomplete video (no features): /content/drive/MyDrive/VideoCaptioning/msvd_split/val/videos/-vKO3uSG6Do_3_14.avi\n",
            "🗑️ Deleted incomplete video (no features): /content/drive/MyDrive/VideoCaptioning/msvd_split/val/videos/0vmoZEaN_-o_4_12.avi\n",
            "🗑️ Deleted incomplete video (no features): /content/drive/MyDrive/VideoCaptioning/msvd_split/val/videos/m7x8uIdg2XU_67_73.avi\n",
            "🗑️ Deleted incomplete video (no features): /content/drive/MyDrive/VideoCaptioning/msvd_split/val/videos/sv5YlZspb30_10_20.avi\n",
            "🗑️ Deleted incomplete video (no features): /content/drive/MyDrive/VideoCaptioning/msvd_split/val/videos/kk3TIio1-Uw_5_14.avi\n",
            "🗑️ Deleted incomplete video (no features): /content/drive/MyDrive/VideoCaptioning/msvd_split/val/videos/ysTmUTQ5wZE_17_45.avi\n",
            "🗑️ Deleted incomplete video (no features): /content/drive/MyDrive/VideoCaptioning/msvd_split/val/videos/oSnYUfCGiCA_7_17.avi\n",
            "🗑️ Deleted incomplete video (no features): /content/drive/MyDrive/VideoCaptioning/msvd_split/val/videos/4UOVKok7j1U_1_8.avi\n",
            "🗑️ Deleted incomplete video (no features): /content/drive/MyDrive/VideoCaptioning/msvd_split/val/videos/R3a9r8qFlhQ_0_12.avi\n",
            "🗑️ Deleted incomplete video (no features): /content/drive/MyDrive/VideoCaptioning/msvd_split/val/videos/lB1UPJ4leqs_0_6.avi\n",
            "🗑️ Deleted incomplete video (no features): /content/drive/MyDrive/VideoCaptioning/msvd_split/val/videos/msCidKHOh74_392_399.avi\n",
            "🗑️ Deleted incomplete video (no features): /content/drive/MyDrive/VideoCaptioning/msvd_split/val/videos/KPPCwmU5OHQ_467_472.avi\n",
            "🗑️ Deleted incomplete video (no features): /content/drive/MyDrive/VideoCaptioning/msvd_split/val/videos/NoCgvH4xZHo_240_251.avi\n",
            "🗑️ Deleted incomplete video (no features): /content/drive/MyDrive/VideoCaptioning/msvd_split/val/videos/r4qv_BNlQNk_119_124.avi\n",
            "🗑️ Deleted incomplete video (no features): /content/drive/MyDrive/VideoCaptioning/msvd_split/val/videos/ok4cM6WTA5E_120_133.avi\n",
            "🗑️ Deleted incomplete video (no features): /content/drive/MyDrive/VideoCaptioning/msvd_split/val/videos/PqSZ89FqpiY_65_75.avi\n",
            "🗑️ Deleted incomplete video (no features): /content/drive/MyDrive/VideoCaptioning/msvd_split/val/videos/QHkvBU8diwU_1_18.avi\n",
            "🗑️ Deleted incomplete video (no features): /content/drive/MyDrive/VideoCaptioning/msvd_split/val/videos/HBCJYhUjVf0_0_9.avi\n",
            "🗑️ Deleted incomplete video (no features): /content/drive/MyDrive/VideoCaptioning/msvd_split/val/videos/qRoxNXm7INc_58_66.avi\n",
            "🗑️ Deleted incomplete video (no features): /content/drive/MyDrive/VideoCaptioning/msvd_split/val/videos/cFzSEIGrEfA_0_24.avi\n",
            "🗑️ Deleted incomplete video (no features): /content/drive/MyDrive/VideoCaptioning/msvd_split/val/videos/hkkmKk9LcQk_36_43.avi\n",
            "🗑️ Deleted incomplete video (no features): /content/drive/MyDrive/VideoCaptioning/msvd_split/val/videos/1dfR0A_BXjw_524_532.avi\n",
            "🗑️ Deleted incomplete video (no features): /content/drive/MyDrive/VideoCaptioning/msvd_split/val/videos/UbmZAe5u5FI_111_115.avi\n",
            "🗑️ Deleted incomplete video (no features): /content/drive/MyDrive/VideoCaptioning/msvd_split/val/videos/D1tTBncIsm8_198_205.avi\n",
            "🗑️ Deleted incomplete video (no features): /content/drive/MyDrive/VideoCaptioning/msvd_split/val/videos/t3VPeyYL-fI_35_39.avi\n",
            "🗑️ Deleted incomplete video (no features): /content/drive/MyDrive/VideoCaptioning/msvd_split/val/videos/9d57lHEsLU8_1_14.avi\n",
            "🗑️ Deleted incomplete video (no features): /content/drive/MyDrive/VideoCaptioning/msvd_split/val/videos/qOiN__I1-Zo_2_8.avi\n",
            "🗑️ Deleted incomplete video (no features): /content/drive/MyDrive/VideoCaptioning/msvd_split/val/videos/INDhUwDMg-4_220_227.avi\n",
            "🗑️ Deleted incomplete video (no features): /content/drive/MyDrive/VideoCaptioning/msvd_split/val/videos/ObBss94n3gI_35_46.avi\n",
            "🗑️ Deleted incomplete video (no features): /content/drive/MyDrive/VideoCaptioning/msvd_split/val/videos/Gw0FU733zzg_58_66.avi\n",
            "🗑️ Deleted incomplete video (no features): /content/drive/MyDrive/VideoCaptioning/msvd_split/val/videos/pzq5fPfsPZg_145_160.avi\n",
            "🗑️ Deleted incomplete video (no features): /content/drive/MyDrive/VideoCaptioning/msvd_split/val/videos/0I4VKj4d0WI_24_40.avi\n",
            "🗑️ Deleted incomplete video (no features): /content/drive/MyDrive/VideoCaptioning/msvd_split/val/videos/ACOmKiJDkA4_146_153.avi\n",
            "🗑️ Deleted incomplete video (no features): /content/drive/MyDrive/VideoCaptioning/msvd_split/val/videos/xxHx6s_DbUo_173_177.avi\n",
            "🗑️ Deleted incomplete video (no features): /content/drive/MyDrive/VideoCaptioning/msvd_split/val/videos/PmrTDZy3f2M_35_39.avi\n",
            "🗑️ Deleted incomplete video (no features): /content/drive/MyDrive/VideoCaptioning/msvd_split/val/videos/cnsjm3fNEec_4_10.avi\n",
            "🗑️ Deleted incomplete video (no features): /content/drive/MyDrive/VideoCaptioning/msvd_split/val/videos/_O9kWD8nuRU_50_56.avi\n",
            "🗑️ Deleted incomplete video (no features): /content/drive/MyDrive/VideoCaptioning/msvd_split/val/videos/nZSFn51l3hc_480_485.avi\n",
            "🗑️ Deleted incomplete video (no features): /content/drive/MyDrive/VideoCaptioning/msvd_split/val/videos/wzfkC2TjdeQ_0_31.avi\n",
            "🗑️ Deleted incomplete video (no features): /content/drive/MyDrive/VideoCaptioning/msvd_split/val/videos/lfGlDg47How_93_98.avi\n",
            "🗑️ Deleted incomplete video (no features): /content/drive/MyDrive/VideoCaptioning/msvd_split/val/videos/xxHx6s_DbUo_216_222.avi\n",
            "🗑️ Deleted incomplete video (no features): /content/drive/MyDrive/VideoCaptioning/msvd_split/val/videos/SaOqf2d-y30_22_27.avi\n",
            "🗑️ Deleted incomplete video (no features): /content/drive/MyDrive/VideoCaptioning/msvd_split/val/videos/88DOMJ11q2M_84_87.avi\n",
            "🗑️ Deleted incomplete video (no features): /content/drive/MyDrive/VideoCaptioning/msvd_split/val/videos/ok4cM6WTA5E_142_150.avi\n",
            "🗑️ Deleted incomplete video (no features): /content/drive/MyDrive/VideoCaptioning/msvd_split/val/videos/JpjAgSvr42k_0_12.avi\n",
            "🗑️ Deleted incomplete video (no features): /content/drive/MyDrive/VideoCaptioning/msvd_split/val/videos/3zgEl-OLFKE_12_15.avi\n",
            "🗑️ Deleted incomplete video (no features): /content/drive/MyDrive/VideoCaptioning/msvd_split/val/videos/kEGmZDpZ_RE_295_330.avi\n",
            "🗑️ Deleted incomplete video (no features): /content/drive/MyDrive/VideoCaptioning/msvd_split/val/videos/hbE29pZh76I_3_8.avi\n",
            "🗑️ Deleted incomplete video (no features): /content/drive/MyDrive/VideoCaptioning/msvd_split/val/videos/ZN2_czSBSD0_240_250.avi\n",
            "🗑️ Deleted incomplete video (no features): /content/drive/MyDrive/VideoCaptioning/msvd_split/val/videos/kWLNZzuo3do_147_153.avi\n",
            "🗑️ Deleted incomplete video (no features): /content/drive/MyDrive/VideoCaptioning/msvd_split/val/videos/-Ms9tsWmhyU_80_95.avi\n",
            "🗑️ Deleted incomplete video (no features): /content/drive/MyDrive/VideoCaptioning/msvd_split/val/videos/EKL6elkbFy0_16_30.avi\n",
            "🗑️ Deleted incomplete video (no features): /content/drive/MyDrive/VideoCaptioning/msvd_split/val/videos/y8SDRc4IOjs_94_99.avi\n",
            "🗑️ Deleted incomplete video (no features): /content/drive/MyDrive/VideoCaptioning/msvd_split/val/videos/x8Ul09tk6zk_0_8.avi\n",
            "🗑️ Deleted incomplete video (no features): /content/drive/MyDrive/VideoCaptioning/msvd_split/val/videos/DBvSfds3FH4_84_88.avi\n",
            "🗑️ Deleted incomplete video (no features): /content/drive/MyDrive/VideoCaptioning/msvd_split/val/videos/O9yLRzpPp44_167_190.avi\n",
            "🗑️ Deleted incomplete video (no features): /content/drive/MyDrive/VideoCaptioning/msvd_split/val/videos/k4hhWYtaQ14_0_10.avi\n",
            "🗑️ Deleted incomplete video (no features): /content/drive/MyDrive/VideoCaptioning/msvd_split/val/videos/q5ZRMvjzhXQ_15_29.avi\n",
            "🗑️ Deleted incomplete video (no features): /content/drive/MyDrive/VideoCaptioning/msvd_split/val/videos/OUII8_aOfNM_26_55.avi\n",
            "🗑️ Deleted incomplete video (no features): /content/drive/MyDrive/VideoCaptioning/msvd_split/val/videos/-_aaMGK6GGw_57_61.avi\n",
            "🗑️ Deleted incomplete video (no features): /content/drive/MyDrive/VideoCaptioning/msvd_split/val/videos/1dfR0A_BXjw_590_600.avi\n",
            "🗑️ Deleted incomplete video (no features): /content/drive/MyDrive/VideoCaptioning/msvd_split/val/videos/7M-jsjLB20Y_11_30.avi\n",
            "🗑️ Deleted incomplete video (no features): /content/drive/MyDrive/VideoCaptioning/msvd_split/val/videos/27mxaePkYB4_8_14.avi\n",
            "🗑️ Deleted incomplete video (no features): /content/drive/MyDrive/VideoCaptioning/msvd_split/val/videos/ao-9B8IV9_E_87_95.avi\n",
            "🗑️ Deleted incomplete video (no features): /content/drive/MyDrive/VideoCaptioning/msvd_split/val/videos/tn1d5DmdMqY_15_28.avi\n",
            "🗑️ Deleted incomplete video (no features): /content/drive/MyDrive/VideoCaptioning/msvd_split/val/videos/2YhDTpzxd3c_22_27.avi\n",
            "🗑️ Deleted incomplete video (no features): /content/drive/MyDrive/VideoCaptioning/msvd_split/val/videos/p69d3UBdpR8_98_109.avi\n",
            "🗑️ Deleted incomplete video (no features): /content/drive/MyDrive/VideoCaptioning/msvd_split/val/videos/aM-RcQj0a7I_37_55.avi\n",
            "🗑️ Deleted incomplete video (no features): /content/drive/MyDrive/VideoCaptioning/msvd_split/val/videos/_o1UXSxTjfo_68_80.avi\n",
            "🗑️ Deleted incomplete video (no features): /content/drive/MyDrive/VideoCaptioning/msvd_split/val/videos/bQJQGoJF7_k_109_115.avi\n",
            "🗑️ Deleted incomplete video (no features): /content/drive/MyDrive/VideoCaptioning/msvd_split/val/videos/2Nn2CAeaI5k_72_77.avi\n",
            "🗑️ Deleted incomplete video (no features): /content/drive/MyDrive/VideoCaptioning/msvd_split/val/videos/sFExO_PW22s_10_18.avi\n",
            "🗑️ Deleted incomplete video (no features): /content/drive/MyDrive/VideoCaptioning/msvd_split/val/videos/bkazguPsusc_74_85.avi\n",
            "🗑️ Deleted incomplete video (no features): /content/drive/MyDrive/VideoCaptioning/msvd_split/val/videos/nLvX-erABqY_67_72.avi\n",
            "🗑️ Deleted incomplete video (no features): /content/drive/MyDrive/VideoCaptioning/msvd_split/val/videos/He7Ge7Sogrk_47_70.avi\n",
            "🗑️ Deleted incomplete video (no features): /content/drive/MyDrive/VideoCaptioning/msvd_split/val/videos/5fq9iIxxA1s_12_27.avi\n",
            "🗑️ Deleted incomplete video (no features): /content/drive/MyDrive/VideoCaptioning/msvd_split/val/videos/EPgQ9QwbsLE_16_23.avi\n",
            "🗑️ Deleted incomplete video (no features): /content/drive/MyDrive/VideoCaptioning/msvd_split/val/videos/IhwPQL9dFYc_130_136.avi\n",
            "🗑️ Deleted incomplete video (no features): /content/drive/MyDrive/VideoCaptioning/msvd_split/val/videos/JYNzY9jmsQQ_2_10.avi\n",
            "🗑️ Deleted incomplete video (no features): /content/drive/MyDrive/VideoCaptioning/msvd_split/val/videos/0lh_UWF9ZP4_21_26.avi\n",
            "🗑️ Deleted incomplete video (no features): /content/drive/MyDrive/VideoCaptioning/msvd_split/val/videos/bJJndejsUWc_88_98.avi\n",
            "🗑️ Deleted incomplete video (no features): /content/drive/MyDrive/VideoCaptioning/msvd_split/val/videos/hWhKdXcqYeU_3_12.avi\n",
            "🗑️ Deleted incomplete video (no features): /content/drive/MyDrive/VideoCaptioning/msvd_split/val/videos/R24RktgUi-s_24_28.avi\n",
            "🗑️ Deleted incomplete video (no features): /content/drive/MyDrive/VideoCaptioning/msvd_split/val/videos/kWLNZzuo3do_167_181.avi\n",
            "🗑️ Deleted incomplete video (no features): /content/drive/MyDrive/VideoCaptioning/msvd_split/val/videos/xxHx6s_DbUo_202_207.avi\n",
            "🗑️ Deleted incomplete video (no features): /content/drive/MyDrive/VideoCaptioning/msvd_split/val/videos/77iDIp40m9E_3_9.avi\n",
            "🗑️ Deleted incomplete video (no features): /content/drive/MyDrive/VideoCaptioning/msvd_split/val/videos/lm0z7eLsbbw_9_23.avi\n",
            "🗑️ Deleted incomplete video (no features): /content/drive/MyDrive/VideoCaptioning/msvd_split/val/videos/6GJ1DNOGDAM_223_233.avi\n",
            "🗑️ Deleted incomplete video (no features): /content/drive/MyDrive/VideoCaptioning/msvd_split/val/videos/0lh_UWF9ZP4_191_197.avi\n",
            "🗑️ Deleted incomplete video (no features): /content/drive/MyDrive/VideoCaptioning/msvd_split/val/videos/lfGlDg47How_110_115.avi\n",
            "🗑️ Deleted incomplete video (no features): /content/drive/MyDrive/VideoCaptioning/msvd_split/val/videos/m4D72WXFd8s_557_564.avi\n",
            "🗑️ Deleted incomplete video (no features): /content/drive/MyDrive/VideoCaptioning/msvd_split/val/videos/Pr5LQq42l4M_12_17.avi\n",
            "🗑️ Deleted incomplete video (no features): /content/drive/MyDrive/VideoCaptioning/msvd_split/val/videos/kWLNZzuo3do_217_222.avi\n",
            "🗑️ Deleted incomplete video (no features): /content/drive/MyDrive/VideoCaptioning/msvd_split/val/videos/8MVo7fje_oE_108_113.avi\n",
            "🗑️ Deleted incomplete video (no features): /content/drive/MyDrive/VideoCaptioning/msvd_split/val/videos/mCrRHP4LFmo_24_40.avi\n",
            "🗑️ Deleted incomplete video (no features): /content/drive/MyDrive/VideoCaptioning/msvd_split/val/videos/YwmUgVrUJ4I_0_15.avi\n",
            "🗑️ Deleted incomplete video (no features): /content/drive/MyDrive/VideoCaptioning/msvd_split/val/videos/QA_JTtM1hKA_5_15.avi\n",
            "🗑️ Deleted incomplete video (no features): /content/drive/MyDrive/VideoCaptioning/msvd_split/val/videos/VfqlfprZsaQ_75_85.avi\n",
            "🗑️ Deleted incomplete video (no features): /content/drive/MyDrive/VideoCaptioning/msvd_split/val/videos/kquB3rIgfGk_197_202.avi\n",
            "🗑️ Deleted incomplete video (no features): /content/drive/MyDrive/VideoCaptioning/msvd_split/val/videos/Je3V7U5Ctj4_634_639.avi\n",
            "🗑️ Deleted incomplete video (no features): /content/drive/MyDrive/VideoCaptioning/msvd_split/val/videos/0lh_UWF9ZP4_199_207.avi\n",
            "🗑️ Deleted incomplete video (no features): /content/drive/MyDrive/VideoCaptioning/msvd_split/val/videos/MdOAr_4FJvc_5_15.avi\n",
            "🗑️ Deleted incomplete video (no features): /content/drive/MyDrive/VideoCaptioning/msvd_split/val/videos/0lh_UWF9ZP4_94_103.avi\n",
            "🗑️ Deleted incomplete video (no features): /content/drive/MyDrive/VideoCaptioning/msvd_split/val/videos/sT5Bzt9w354_11_34.avi\n",
            "🗑️ Deleted incomplete video (no features): /content/drive/MyDrive/VideoCaptioning/msvd_split/val/videos/uH8ObB_dyOk_159_166.avi\n",
            "🗑️ Deleted incomplete video (no features): /content/drive/MyDrive/VideoCaptioning/msvd_split/val/videos/YZ0-6hdQ0mU_0_3.avi\n",
            "🗑️ Deleted incomplete video (no features): /content/drive/MyDrive/VideoCaptioning/msvd_split/val/videos/yNy9jTeolUk_8_12.avi\n",
            "🗑️ Deleted incomplete video (no features): /content/drive/MyDrive/VideoCaptioning/msvd_split/val/videos/45AGQSbodbU_5_15.avi\n",
            "🗑️ Deleted incomplete video (no features): /content/drive/MyDrive/VideoCaptioning/msvd_split/val/videos/hW8TKz2Aea4_5_12.avi\n",
            "🗑️ Deleted incomplete video (no features): /content/drive/MyDrive/VideoCaptioning/msvd_split/val/videos/mFCf8lLXrUc_36_57.avi\n",
            "🗑️ Deleted incomplete video (no features): /content/drive/MyDrive/VideoCaptioning/msvd_split/val/videos/pqTWUzehCUM_42_47.avi\n",
            "🗑️ Deleted incomplete video (no features): /content/drive/MyDrive/VideoCaptioning/msvd_split/val/videos/qeKX-N1nKiM_0_5.avi\n",
            "🗑️ Deleted incomplete video (no features): /content/drive/MyDrive/VideoCaptioning/msvd_split/val/videos/GzlnqrzdYHU_32_40.avi\n",
            "🗑️ Deleted incomplete video (no features): /content/drive/MyDrive/VideoCaptioning/msvd_split/val/videos/K1ZM0LSLVw8_481_487.avi\n",
            "🗑️ Deleted incomplete video (no features): /content/drive/MyDrive/VideoCaptioning/msvd_split/val/videos/JledeVyklPw_1_6.avi\n",
            "🗑️ Deleted incomplete video (no features): /content/drive/MyDrive/VideoCaptioning/msvd_split/val/videos/3FnUTQMJVXI_31_36.avi\n",
            "🗑️ Deleted incomplete video (no features): /content/drive/MyDrive/VideoCaptioning/msvd_split/val/videos/mmSQTI6gMNQ_120_128.avi\n",
            "🗑️ Deleted incomplete video (no features): /content/drive/MyDrive/VideoCaptioning/msvd_split/val/videos/bDoCQEwghZU_201_211.avi\n",
            "🗑️ Deleted incomplete video (no features): /content/drive/MyDrive/VideoCaptioning/msvd_split/val/videos/kWLNZzuo3do_56_62.avi\n",
            "🗑️ Deleted incomplete video (no features): /content/drive/MyDrive/VideoCaptioning/msvd_split/val/videos/9xVqwy_4pmQ_36_49.avi\n",
            "🗑️ Deleted incomplete video (no features): /content/drive/MyDrive/VideoCaptioning/msvd_split/val/videos/g2IYQq7IkXc_23_32.avi\n",
            "🗑️ Deleted incomplete video (no features): /content/drive/MyDrive/VideoCaptioning/msvd_split/val/videos/5l6acVf12S4_7_13.avi\n",
            "✅ Cleaned JSON for [val]\n",
            "🧮 Removed 0 invalid video entries\n",
            "🧾 Removed 0 invalid captions\n",
            "✅ [val] Verified and fixed. All valid videos now have features and JSON alignment.\n",
            "\n",
            "🗑️ Deleted incomplete video (no features): /content/drive/MyDrive/VideoCaptioning/msvd_split/test/videos/hEOGZoYSvT4_82_86.avi\n",
            "🗑️ Deleted incomplete video (no features): /content/drive/MyDrive/VideoCaptioning/msvd_split/test/videos/lrZxpneS6Gk_0_12.avi\n",
            "🗑️ Deleted incomplete video (no features): /content/drive/MyDrive/VideoCaptioning/msvd_split/test/videos/mFCf8lLXrUc_25_35.avi\n",
            "🗑️ Deleted incomplete video (no features): /content/drive/MyDrive/VideoCaptioning/msvd_split/test/videos/IHIa75B9AhI_2_26.avi\n",
            "🗑️ Deleted incomplete video (no features): /content/drive/MyDrive/VideoCaptioning/msvd_split/test/videos/MHIVmf42Ao4_31_36.avi\n",
            "🗑️ Deleted incomplete video (no features): /content/drive/MyDrive/VideoCaptioning/msvd_split/test/videos/4_WZN7uW0NY_140_145.avi\n",
            "🗑️ Deleted incomplete video (no features): /content/drive/MyDrive/VideoCaptioning/msvd_split/test/videos/5OuYhq6Zl0g_0_10.avi\n",
            "🗑️ Deleted incomplete video (no features): /content/drive/MyDrive/VideoCaptioning/msvd_split/test/videos/C2rDp6FnbP0_10_17.avi\n",
            "🗑️ Deleted incomplete video (no features): /content/drive/MyDrive/VideoCaptioning/msvd_split/test/videos/BefkDBj5gSw_233_240.avi\n",
            "🗑️ Deleted incomplete video (no features): /content/drive/MyDrive/VideoCaptioning/msvd_split/test/videos/QGgJlHi3tjw_1_15.avi\n",
            "🗑️ Deleted incomplete video (no features): /content/drive/MyDrive/VideoCaptioning/msvd_split/test/videos/qeKX-N1nKiM_52_59.avi\n",
            "🗑️ Deleted incomplete video (no features): /content/drive/MyDrive/VideoCaptioning/msvd_split/test/videos/WTf5EgVY5uU_76_83.avi\n",
            "🗑️ Deleted incomplete video (no features): /content/drive/MyDrive/VideoCaptioning/msvd_split/test/videos/9fkS7wqrzAY_13_25.avi\n",
            "🗑️ Deleted incomplete video (no features): /content/drive/MyDrive/VideoCaptioning/msvd_split/test/videos/DIToA1dDwGQ_32_42.avi\n",
            "🗑️ Deleted incomplete video (no features): /content/drive/MyDrive/VideoCaptioning/msvd_split/test/videos/NjCqtzZ3OtU_303_307.avi\n",
            "🗑️ Deleted incomplete video (no features): /content/drive/MyDrive/VideoCaptioning/msvd_split/test/videos/8MVo7fje_oE_130_136.avi\n",
            "🗑️ Deleted incomplete video (no features): /content/drive/MyDrive/VideoCaptioning/msvd_split/test/videos/71soiLO6I9U_15_24.avi\n",
            "🗑️ Deleted incomplete video (no features): /content/drive/MyDrive/VideoCaptioning/msvd_split/test/videos/ACOmKiJDkA4_23_30.avi\n",
            "🗑️ Deleted incomplete video (no features): /content/drive/MyDrive/VideoCaptioning/msvd_split/test/videos/kEGmZDpZ_RE_352_370.avi\n",
            "🗑️ Deleted incomplete video (no features): /content/drive/MyDrive/VideoCaptioning/msvd_split/test/videos/ScdUht-pM6s_53_63.avi\n",
            "🗑️ Deleted incomplete video (no features): /content/drive/MyDrive/VideoCaptioning/msvd_split/test/videos/Qtu-PXuvCx4_12_17.avi\n",
            "🗑️ Deleted incomplete video (no features): /content/drive/MyDrive/VideoCaptioning/msvd_split/test/videos/BtQEY2SL4g4_126_132.avi\n",
            "🗑️ Deleted incomplete video (no features): /content/drive/MyDrive/VideoCaptioning/msvd_split/test/videos/-FugkxLmGO4_5_16.avi\n",
            "🗑️ Deleted incomplete video (no features): /content/drive/MyDrive/VideoCaptioning/msvd_split/test/videos/s20OlIRK340_147_174.avi\n",
            "🗑️ Deleted incomplete video (no features): /content/drive/MyDrive/VideoCaptioning/msvd_split/test/videos/eyhzdC936uk_15_27.avi\n",
            "🗑️ Deleted incomplete video (no features): /content/drive/MyDrive/VideoCaptioning/msvd_split/test/videos/j2Dhf-xFUxU_13_20.avi\n",
            "🗑️ Deleted incomplete video (no features): /content/drive/MyDrive/VideoCaptioning/msvd_split/test/videos/VahnQw2gTQY_203_210.avi\n",
            "🗑️ Deleted incomplete video (no features): /content/drive/MyDrive/VideoCaptioning/msvd_split/test/videos/C1MNCR1o9lU_0_7.avi\n",
            "🗑️ Deleted incomplete video (no features): /content/drive/MyDrive/VideoCaptioning/msvd_split/test/videos/aHiUM8uWxxo_17_25.avi\n",
            "🗑️ Deleted incomplete video (no features): /content/drive/MyDrive/VideoCaptioning/msvd_split/test/videos/Ayh26v6Nies_17_22.avi\n",
            "🗑️ Deleted incomplete video (no features): /content/drive/MyDrive/VideoCaptioning/msvd_split/test/videos/C_DDjCRxTxQ_1_4.avi\n",
            "🗑️ Deleted incomplete video (no features): /content/drive/MyDrive/VideoCaptioning/msvd_split/test/videos/IhwPQL9dFYc_124_129.avi\n",
            "🗑️ Deleted incomplete video (no features): /content/drive/MyDrive/VideoCaptioning/msvd_split/test/videos/7d1d2WlEnKs_0_12.avi\n",
            "🗑️ Deleted incomplete video (no features): /content/drive/MyDrive/VideoCaptioning/msvd_split/test/videos/a-cek0mvXxE_15_25.avi\n",
            "🗑️ Deleted incomplete video (no features): /content/drive/MyDrive/VideoCaptioning/msvd_split/test/videos/-s4-6QTT7HE_235_241.avi\n",
            "🗑️ Deleted incomplete video (no features): /content/drive/MyDrive/VideoCaptioning/msvd_split/test/videos/rV5VmhY3-Sw_65_76.avi\n",
            "🗑️ Deleted incomplete video (no features): /content/drive/MyDrive/VideoCaptioning/msvd_split/test/videos/-_hbPLsZvvo_172_179.avi\n",
            "🗑️ Deleted incomplete video (no features): /content/drive/MyDrive/VideoCaptioning/msvd_split/test/videos/zSPBC8EO6dY_64_73.avi\n",
            "🗑️ Deleted incomplete video (no features): /content/drive/MyDrive/VideoCaptioning/msvd_split/test/videos/jxdubZzQrio_33_46.avi\n",
            "🗑️ Deleted incomplete video (no features): /content/drive/MyDrive/VideoCaptioning/msvd_split/test/videos/xxHx6s_DbUo_82_86.avi\n",
            "🗑️ Deleted incomplete video (no features): /content/drive/MyDrive/VideoCaptioning/msvd_split/test/videos/lsanQj2yacs_80_85.avi\n",
            "🗑️ Deleted incomplete video (no features): /content/drive/MyDrive/VideoCaptioning/msvd_split/test/videos/inLBPVG8oEU_18_24.avi\n",
            "🗑️ Deleted incomplete video (no features): /content/drive/MyDrive/VideoCaptioning/msvd_split/test/videos/bmOy6p87TWI_26_35.avi\n",
            "🗑️ Deleted incomplete video (no features): /content/drive/MyDrive/VideoCaptioning/msvd_split/test/videos/glii-kazad8_21_29.avi\n",
            "🗑️ Deleted incomplete video (no features): /content/drive/MyDrive/VideoCaptioning/msvd_split/test/videos/MHWxjWwAbwM_10_25.avi\n",
            "🗑️ Deleted incomplete video (no features): /content/drive/MyDrive/VideoCaptioning/msvd_split/test/videos/gp8XjWSoP2k_0_10.avi\n",
            "🗑️ Deleted incomplete video (no features): /content/drive/MyDrive/VideoCaptioning/msvd_split/test/videos/rw9h_574HxE_229_236.avi\n",
            "🗑️ Deleted incomplete video (no features): /content/drive/MyDrive/VideoCaptioning/msvd_split/test/videos/EA-J-Y6QjUo_40_61.avi\n",
            "🗑️ Deleted incomplete video (no features): /content/drive/MyDrive/VideoCaptioning/msvd_split/test/videos/gbUhorqLCzU_10_23.avi\n",
            "🗑️ Deleted incomplete video (no features): /content/drive/MyDrive/VideoCaptioning/msvd_split/test/videos/QT8iCDc7NGU_18_23.avi\n",
            "🗑️ Deleted incomplete video (no features): /content/drive/MyDrive/VideoCaptioning/msvd_split/test/videos/pNelR-nHz7g_68_90.avi\n",
            "🗑️ Deleted incomplete video (no features): /content/drive/MyDrive/VideoCaptioning/msvd_split/test/videos/9IrWyZ0KZuk_160_166.avi\n",
            "🗑️ Deleted incomplete video (no features): /content/drive/MyDrive/VideoCaptioning/msvd_split/test/videos/7HcYJKMxpcg_20_28.avi\n",
            "🗑️ Deleted incomplete video (no features): /content/drive/MyDrive/VideoCaptioning/msvd_split/test/videos/98shpdib9sg_55_62.avi\n",
            "🗑️ Deleted incomplete video (no features): /content/drive/MyDrive/VideoCaptioning/msvd_split/test/videos/3qqEKTPxLNs_1_15.avi\n",
            "🗑️ Deleted incomplete video (no features): /content/drive/MyDrive/VideoCaptioning/msvd_split/test/videos/MPuKVz3sjBA_1_12.avi\n",
            "🗑️ Deleted incomplete video (no features): /content/drive/MyDrive/VideoCaptioning/msvd_split/test/videos/zr9OeyfLPPY_4_9.avi\n",
            "🗑️ Deleted incomplete video (no features): /content/drive/MyDrive/VideoCaptioning/msvd_split/test/videos/NV6pq1W-I4g_7_16.avi\n",
            "🗑️ Deleted incomplete video (no features): /content/drive/MyDrive/VideoCaptioning/msvd_split/test/videos/xBW_uR3kGr4_42_55.avi\n",
            "🗑️ Deleted incomplete video (no features): /content/drive/MyDrive/VideoCaptioning/msvd_split/test/videos/ItFqogTmAvQ_281_286.avi\n",
            "🗑️ Deleted incomplete video (no features): /content/drive/MyDrive/VideoCaptioning/msvd_split/test/videos/2YhDTpzxd3c_45_49.avi\n",
            "🗑️ Deleted incomplete video (no features): /content/drive/MyDrive/VideoCaptioning/msvd_split/test/videos/NZWiKMZS_k8_39_48.avi\n",
            "🗑️ Deleted incomplete video (no features): /content/drive/MyDrive/VideoCaptioning/msvd_split/test/videos/xPR0xFgCAZY_17_27.avi\n",
            "🗑️ Deleted incomplete video (no features): /content/drive/MyDrive/VideoCaptioning/msvd_split/test/videos/G_hxdUG6QXE_23_28.avi\n",
            "🗑️ Deleted incomplete video (no features): /content/drive/MyDrive/VideoCaptioning/msvd_split/test/videos/vE1gvaM3iAs_39_46.avi\n",
            "🗑️ Deleted incomplete video (no features): /content/drive/MyDrive/VideoCaptioning/msvd_split/test/videos/RQYLGNbal2c_5_10.avi\n",
            "🗑️ Deleted incomplete video (no features): /content/drive/MyDrive/VideoCaptioning/msvd_split/test/videos/ACOmKiJDkA4_121_128.avi\n",
            "🗑️ Deleted incomplete video (no features): /content/drive/MyDrive/VideoCaptioning/msvd_split/test/videos/LLkehH86ABY_30_36.avi\n",
            "🗑️ Deleted incomplete video (no features): /content/drive/MyDrive/VideoCaptioning/msvd_split/test/videos/OO-5-eVEKPA_25_31.avi\n",
            "🗑️ Deleted incomplete video (no features): /content/drive/MyDrive/VideoCaptioning/msvd_split/test/videos/yAD_TS5L2d4_4_11.avi\n",
            "🗑️ Deleted incomplete video (no features): /content/drive/MyDrive/VideoCaptioning/msvd_split/test/videos/w28TljSqtW8_64_75.avi\n",
            "🗑️ Deleted incomplete video (no features): /content/drive/MyDrive/VideoCaptioning/msvd_split/test/videos/_O9kWD8nuRU_70_76.avi\n",
            "🗑️ Deleted incomplete video (no features): /content/drive/MyDrive/VideoCaptioning/msvd_split/test/videos/GWQTAe64m-0_160_166.avi\n",
            "🗑️ Deleted incomplete video (no features): /content/drive/MyDrive/VideoCaptioning/msvd_split/test/videos/UbmZAe5u5FI_44_55.avi\n",
            "🗑️ Deleted incomplete video (no features): /content/drive/MyDrive/VideoCaptioning/msvd_split/test/videos/PECk9A-07Pw_1_9.avi\n",
            "🗑️ Deleted incomplete video (no features): /content/drive/MyDrive/VideoCaptioning/msvd_split/test/videos/lmCrIZeob4w_23_26.avi\n",
            "🗑️ Deleted incomplete video (no features): /content/drive/MyDrive/VideoCaptioning/msvd_split/test/videos/6KS8R3RxrV8_0_23.avi\n",
            "🗑️ Deleted incomplete video (no features): /content/drive/MyDrive/VideoCaptioning/msvd_split/test/videos/u9E9HpuJQ7U_29_43.avi\n",
            "🗑️ Deleted incomplete video (no features): /content/drive/MyDrive/VideoCaptioning/msvd_split/test/videos/qvSxiVV7jhw_0_15.avi\n",
            "🗑️ Deleted incomplete video (no features): /content/drive/MyDrive/VideoCaptioning/msvd_split/test/videos/ETUJipdnfOM_0_5.avi\n",
            "🗑️ Deleted incomplete video (no features): /content/drive/MyDrive/VideoCaptioning/msvd_split/test/videos/J_evFB7RIKA_104_120.avi\n",
            "🗑️ Deleted incomplete video (no features): /content/drive/MyDrive/VideoCaptioning/msvd_split/test/videos/gMqKUPeTAkg_17_30.avi\n",
            "🗑️ Deleted incomplete video (no features): /content/drive/MyDrive/VideoCaptioning/msvd_split/test/videos/kKGehSw5ht8_39_45.avi\n",
            "🗑️ Deleted incomplete video (no features): /content/drive/MyDrive/VideoCaptioning/msvd_split/test/videos/aK8liAv-28s_72_82.avi\n",
            "🗑️ Deleted incomplete video (no features): /content/drive/MyDrive/VideoCaptioning/msvd_split/test/videos/rwHT2SuNOi8_195_201.avi\n",
            "🗑️ Deleted incomplete video (no features): /content/drive/MyDrive/VideoCaptioning/msvd_split/test/videos/-_hbPLsZvvo_18_25.avi\n",
            "🗑️ Deleted incomplete video (no features): /content/drive/MyDrive/VideoCaptioning/msvd_split/test/videos/8D_oQnBPfNo_43_50.avi\n",
            "🗑️ Deleted incomplete video (no features): /content/drive/MyDrive/VideoCaptioning/msvd_split/test/videos/toE0QYZzJKE_1_8.avi\n",
            "🗑️ Deleted incomplete video (no features): /content/drive/MyDrive/VideoCaptioning/msvd_split/test/videos/Xh6rdpJNaf0_0_15.avi\n",
            "🗑️ Deleted incomplete video (no features): /content/drive/MyDrive/VideoCaptioning/msvd_split/test/videos/BefkDBj5gSw_104_109.avi\n",
            "🗑️ Deleted incomplete video (no features): /content/drive/MyDrive/VideoCaptioning/msvd_split/test/videos/aN0WsBcja_E_0_15.avi\n",
            "🗑️ Deleted incomplete video (no features): /content/drive/MyDrive/VideoCaptioning/msvd_split/test/videos/4R-tumAGrtU_12_22.avi\n",
            "🗑️ Deleted incomplete video (no features): /content/drive/MyDrive/VideoCaptioning/msvd_split/test/videos/-dm-ds5rRaM_44_52.avi\n",
            "🗑️ Deleted incomplete video (no features): /content/drive/MyDrive/VideoCaptioning/msvd_split/test/videos/IhwPQL9dFYc_137_143.avi\n",
            "🗑️ Deleted incomplete video (no features): /content/drive/MyDrive/VideoCaptioning/msvd_split/test/videos/6vSKIUGGLvY_81_87.avi\n",
            "🗑️ Deleted incomplete video (no features): /content/drive/MyDrive/VideoCaptioning/msvd_split/test/videos/TnPOZVHB3x0_45_55.avi\n",
            "🗑️ Deleted incomplete video (no features): /content/drive/MyDrive/VideoCaptioning/msvd_split/test/videos/JhCvLmf9yr0_46_50.avi\n",
            "🗑️ Deleted incomplete video (no features): /content/drive/MyDrive/VideoCaptioning/msvd_split/test/videos/PHDmVhShE80_78_82.avi\n",
            "🗑️ Deleted incomplete video (no features): /content/drive/MyDrive/VideoCaptioning/msvd_split/test/videos/DlOhXqKcLXk_7_14.avi\n",
            "🗑️ Deleted incomplete video (no features): /content/drive/MyDrive/VideoCaptioning/msvd_split/test/videos/c2a0GcoJAjw_52_73.avi\n",
            "🗑️ Deleted incomplete video (no features): /content/drive/MyDrive/VideoCaptioning/msvd_split/test/videos/PeUHy0A1GF0_74_77.avi\n",
            "🗑️ Deleted incomplete video (no features): /content/drive/MyDrive/VideoCaptioning/msvd_split/test/videos/p6cg2jWI34M_34_42.avi\n",
            "🗑️ Deleted incomplete video (no features): /content/drive/MyDrive/VideoCaptioning/msvd_split/test/videos/uO7Eysrs8_k_106_114.avi\n",
            "🗑️ Deleted incomplete video (no features): /content/drive/MyDrive/VideoCaptioning/msvd_split/test/videos/jTaLGh_MKCM_5_20.avi\n",
            "🗑️ Deleted incomplete video (no features): /content/drive/MyDrive/VideoCaptioning/msvd_split/test/videos/dtwXtwJByYk_5_14.avi\n",
            "🗑️ Deleted incomplete video (no features): /content/drive/MyDrive/VideoCaptioning/msvd_split/test/videos/WpB4-eLyiBc_10_20.avi\n",
            "🗑️ Deleted incomplete video (no features): /content/drive/MyDrive/VideoCaptioning/msvd_split/test/videos/vuvpbeQak9Q_23_29.avi\n",
            "🗑️ Deleted incomplete video (no features): /content/drive/MyDrive/VideoCaptioning/msvd_split/test/videos/kJY5BRCNAs4_3_6.avi\n",
            "🗑️ Deleted incomplete video (no features): /content/drive/MyDrive/VideoCaptioning/msvd_split/test/videos/Cjf21Y19aUQ_82_86.avi\n",
            "🗑️ Deleted incomplete video (no features): /content/drive/MyDrive/VideoCaptioning/msvd_split/test/videos/GWQTAe64m-0_91_94.avi\n",
            "🗑️ Deleted incomplete video (no features): /content/drive/MyDrive/VideoCaptioning/msvd_split/test/videos/dQmaVQZz7EE_1_18.avi\n",
            "🗑️ Deleted incomplete video (no features): /content/drive/MyDrive/VideoCaptioning/msvd_split/test/videos/tzd3AYTZq0U_0_6.avi\n",
            "🗑️ Deleted incomplete video (no features): /content/drive/MyDrive/VideoCaptioning/msvd_split/test/videos/IhwPQL9dFYc_78_88.avi\n",
            "🗑️ Deleted incomplete video (no features): /content/drive/MyDrive/VideoCaptioning/msvd_split/test/videos/9OvXb1fot74_21_29.avi\n",
            "🗑️ Deleted incomplete video (no features): /content/drive/MyDrive/VideoCaptioning/msvd_split/test/videos/bSIjZ75a50s_286_304.avi\n",
            "🗑️ Deleted incomplete video (no features): /content/drive/MyDrive/VideoCaptioning/msvd_split/test/videos/6r5DmFa5ZR8_51_58.avi\n",
            "🗑️ Deleted incomplete video (no features): /content/drive/MyDrive/VideoCaptioning/msvd_split/test/videos/xxHx6s_DbUo_158_161.avi\n",
            "🗑️ Deleted incomplete video (no features): /content/drive/MyDrive/VideoCaptioning/msvd_split/test/videos/Gn4Iv5ARIXc_83_93.avi\n",
            "🗑️ Deleted incomplete video (no features): /content/drive/MyDrive/VideoCaptioning/msvd_split/test/videos/TZ860P4iTaM_15_28.avi\n",
            "🗑️ Deleted incomplete video (no features): /content/drive/MyDrive/VideoCaptioning/msvd_split/test/videos/6t0BpjwYKco_59_69.avi\n",
            "🗑️ Deleted incomplete video (no features): /content/drive/MyDrive/VideoCaptioning/msvd_split/test/videos/5XxshEdcfAM_85_100.avi\n",
            "🗑️ Deleted incomplete video (no features): /content/drive/MyDrive/VideoCaptioning/msvd_split/test/videos/AXL1oMdCFUM_45_59.avi\n",
            "🗑️ Deleted incomplete video (no features): /content/drive/MyDrive/VideoCaptioning/msvd_split/test/videos/lo4KcsBN--A_0_10.avi\n",
            "🗑️ Deleted incomplete video (no features): /content/drive/MyDrive/VideoCaptioning/msvd_split/test/videos/_O9kWD8nuRU_37_43.avi\n",
            "🗑️ Deleted incomplete video (no features): /content/drive/MyDrive/VideoCaptioning/msvd_split/test/videos/0k1Ak8aTMVI_4_12.avi\n",
            "🗑️ Deleted incomplete video (no features): /content/drive/MyDrive/VideoCaptioning/msvd_split/test/videos/_7nP9z6T9m8_11_17.avi\n",
            "🗑️ Deleted incomplete video (no features): /content/drive/MyDrive/VideoCaptioning/msvd_split/test/videos/D1tTBncIsm8_248_254.avi\n",
            "🗑️ Deleted incomplete video (no features): /content/drive/MyDrive/VideoCaptioning/msvd_split/test/videos/BAf3LXFUaGs_28_38.avi\n",
            "🗑️ Deleted incomplete video (no features): /content/drive/MyDrive/VideoCaptioning/msvd_split/test/videos/zMg9dChF97A_12_38.avi\n",
            "🗑️ Deleted incomplete video (no features): /content/drive/MyDrive/VideoCaptioning/msvd_split/test/videos/9W6aQNcU3PA_92_103.avi\n",
            "🗑️ Deleted incomplete video (no features): /content/drive/MyDrive/VideoCaptioning/msvd_split/test/videos/3chNlP5TeO8_0_10.avi\n",
            "🗑️ Deleted incomplete video (no features): /content/drive/MyDrive/VideoCaptioning/msvd_split/test/videos/f_CvW22Eauc_16_23.avi\n",
            "🗑️ Deleted incomplete video (no features): /content/drive/MyDrive/VideoCaptioning/msvd_split/test/videos/jLgmCY1fEE8_16_26.avi\n",
            "🗑️ Deleted incomplete video (no features): /content/drive/MyDrive/VideoCaptioning/msvd_split/test/videos/yC4eEuURH8c_19_28.avi\n",
            "🗑️ Deleted incomplete video (no features): /content/drive/MyDrive/VideoCaptioning/msvd_split/test/videos/T6lPRKRpu9w_32_39.avi\n",
            "🗑️ Deleted incomplete video (no features): /content/drive/MyDrive/VideoCaptioning/msvd_split/test/videos/hW8TKz2Aea4_40_50.avi\n",
            "🗑️ Deleted incomplete video (no features): /content/drive/MyDrive/VideoCaptioning/msvd_split/test/videos/xdhLQCYQ-nQ_50_63.avi\n",
            "🗑️ Deleted incomplete video (no features): /content/drive/MyDrive/VideoCaptioning/msvd_split/test/videos/5U3xz9Ovmhk_9_15.avi\n",
            "🗑️ Deleted incomplete video (no features): /content/drive/MyDrive/VideoCaptioning/msvd_split/test/videos/btuxO-C2IzE_64_72.avi\n",
            "🗑️ Deleted incomplete video (no features): /content/drive/MyDrive/VideoCaptioning/msvd_split/test/videos/lw7pTwpx0K0_38_48.avi\n",
            "🗑️ Deleted incomplete video (no features): /content/drive/MyDrive/VideoCaptioning/msvd_split/test/videos/QsvBYKaCXEc_5_15.avi\n",
            "🗑️ Deleted incomplete video (no features): /content/drive/MyDrive/VideoCaptioning/msvd_split/test/videos/AJJ-iQkbRNE_97_109.avi\n",
            "🗑️ Deleted incomplete video (no features): /content/drive/MyDrive/VideoCaptioning/msvd_split/test/videos/x1i0UOssll8_141_151.avi\n",
            "🗑️ Deleted incomplete video (no features): /content/drive/MyDrive/VideoCaptioning/msvd_split/test/videos/Z3rj9LbCOaM_0_12.avi\n",
            "🗑️ Deleted incomplete video (no features): /content/drive/MyDrive/VideoCaptioning/msvd_split/test/videos/Jfu-WkuCgD0_140_150.avi\n",
            "🗑️ Deleted incomplete video (no features): /content/drive/MyDrive/VideoCaptioning/msvd_split/test/videos/0hyZ__3YhZc_279_283.avi\n",
            "🗑️ Deleted incomplete video (no features): /content/drive/MyDrive/VideoCaptioning/msvd_split/test/videos/HV12kTtdTT4_5_14.avi\n",
            "🗑️ Deleted incomplete video (no features): /content/drive/MyDrive/VideoCaptioning/msvd_split/test/videos/dhxE9CNeVeY_0_12.avi\n",
            "🗑️ Deleted incomplete video (no features): /content/drive/MyDrive/VideoCaptioning/msvd_split/test/videos/R2DvpPTfl-E_20_25.avi\n",
            "🗑️ Deleted incomplete video (no features): /content/drive/MyDrive/VideoCaptioning/msvd_split/test/videos/Je3V7U5Ctj4_488_495.avi\n",
            "🗑️ Deleted incomplete video (no features): /content/drive/MyDrive/VideoCaptioning/msvd_split/test/videos/8PQiaurIiDM_143_151.avi\n",
            "🗑️ Deleted incomplete video (no features): /content/drive/MyDrive/VideoCaptioning/msvd_split/test/videos/mOZkcBcWR8o_6_12.avi\n",
            "🗑️ Deleted incomplete video (no features): /content/drive/MyDrive/VideoCaptioning/msvd_split/test/videos/30GeJHYoerk_121_126.avi\n",
            "🗑️ Deleted incomplete video (no features): /content/drive/MyDrive/VideoCaptioning/msvd_split/test/videos/bxjFqtfJlMs_18_27.avi\n",
            "🗑️ Deleted incomplete video (no features): /content/drive/MyDrive/VideoCaptioning/msvd_split/test/videos/BR4yQFZK9YM_101_110.avi\n",
            "🗑️ Deleted incomplete video (no features): /content/drive/MyDrive/VideoCaptioning/msvd_split/test/videos/MWvCcwTw7Ac_154_181.avi\n",
            "🗑️ Deleted incomplete video (no features): /content/drive/MyDrive/VideoCaptioning/msvd_split/test/videos/WTf5EgVY5uU_98_104.avi\n",
            "🗑️ Deleted incomplete video (no features): /content/drive/MyDrive/VideoCaptioning/msvd_split/test/videos/bmxIurBrW5s_51_70.avi\n",
            "🗑️ Deleted incomplete video (no features): /content/drive/MyDrive/VideoCaptioning/msvd_split/test/videos/r2oI9Y-3wAo_21_28.avi\n",
            "🗑️ Deleted incomplete video (no features): /content/drive/MyDrive/VideoCaptioning/msvd_split/test/videos/PD6eQY7yCfw_32_37.avi\n",
            "🗑️ Deleted incomplete video (no features): /content/drive/MyDrive/VideoCaptioning/msvd_split/test/videos/5E66Gk3V1Bc_23_30.avi\n",
            "🗑️ Deleted incomplete video (no features): /content/drive/MyDrive/VideoCaptioning/msvd_split/test/videos/-wa0umYJVGg_168_176.avi\n",
            "🗑️ Deleted incomplete video (no features): /content/drive/MyDrive/VideoCaptioning/msvd_split/test/videos/pW9DFPqoIsI_26_50.avi\n",
            "🗑️ Deleted incomplete video (no features): /content/drive/MyDrive/VideoCaptioning/msvd_split/test/videos/0lh_UWF9ZP4_138_145.avi\n",
            "🗑️ Deleted incomplete video (no features): /content/drive/MyDrive/VideoCaptioning/msvd_split/test/videos/vDhEpqfhVI0_0_8.avi\n",
            "🗑️ Deleted incomplete video (no features): /content/drive/MyDrive/VideoCaptioning/msvd_split/test/videos/DKgHYLDebx0_0_8.avi\n",
            "🗑️ Deleted incomplete video (no features): /content/drive/MyDrive/VideoCaptioning/msvd_split/test/videos/hksxtbcS780_7_14.avi\n",
            "🗑️ Deleted incomplete video (no features): /content/drive/MyDrive/VideoCaptioning/msvd_split/test/videos/rOic25PnIx8_1_3.avi\n",
            "🗑️ Deleted incomplete video (no features): /content/drive/MyDrive/VideoCaptioning/msvd_split/test/videos/WPG-BIWOrG4_608_613.avi\n",
            "🗑️ Deleted incomplete video (no features): /content/drive/MyDrive/VideoCaptioning/msvd_split/test/videos/m1c04pCYGxA_57_64.avi\n",
            "🗑️ Deleted incomplete video (no features): /content/drive/MyDrive/VideoCaptioning/msvd_split/test/videos/Ud3Qy8m6OxQ_52_62.avi\n",
            "🗑️ Deleted incomplete video (no features): /content/drive/MyDrive/VideoCaptioning/msvd_split/test/videos/kWLNZzuo3do_38_47.avi\n",
            "🗑️ Deleted incomplete video (no features): /content/drive/MyDrive/VideoCaptioning/msvd_split/test/videos/wgrrQwLdME8_66_74.avi\n",
            "🗑️ Deleted incomplete video (no features): /content/drive/MyDrive/VideoCaptioning/msvd_split/test/videos/k8l4ETsylVY_9_18.avi\n",
            "🗑️ Deleted incomplete video (no features): /content/drive/MyDrive/VideoCaptioning/msvd_split/test/videos/PCXHuseKwDc_17_20.avi\n",
            "🗑️ Deleted incomplete video (no features): /content/drive/MyDrive/VideoCaptioning/msvd_split/test/videos/8VUbN3hkdBo_36_50.avi\n",
            "🗑️ Deleted incomplete video (no features): /content/drive/MyDrive/VideoCaptioning/msvd_split/test/videos/0hyZ__3YhZc_410_417.avi\n",
            "🗑️ Deleted incomplete video (no features): /content/drive/MyDrive/VideoCaptioning/msvd_split/test/videos/i2GgBwlwV0c_24_31.avi\n",
            "🗑️ Deleted incomplete video (no features): /content/drive/MyDrive/VideoCaptioning/msvd_split/test/videos/c_XV7nPoRg8_2_12.avi\n",
            "🗑️ Deleted incomplete video (no features): /content/drive/MyDrive/VideoCaptioning/msvd_split/test/videos/HYbEf-JKZnA_13_26.avi\n",
            "🗑️ Deleted incomplete video (no features): /content/drive/MyDrive/VideoCaptioning/msvd_split/test/videos/OaBmAg6gz30_4_18.avi\n",
            "🗑️ Deleted incomplete video (no features): /content/drive/MyDrive/VideoCaptioning/msvd_split/test/videos/WTf5EgVY5uU_58_76.avi\n",
            "🗑️ Deleted incomplete video (no features): /content/drive/MyDrive/VideoCaptioning/msvd_split/test/videos/dMH0bHeiRNg_3_14.avi\n",
            "🗑️ Deleted incomplete video (no features): /content/drive/MyDrive/VideoCaptioning/msvd_split/test/videos/tqxRDVKtkSY_30_45.avi\n",
            "🗑️ Deleted incomplete video (no features): /content/drive/MyDrive/VideoCaptioning/msvd_split/test/videos/lexLAjh8fPA_27_31.avi\n",
            "🗑️ Deleted incomplete video (no features): /content/drive/MyDrive/VideoCaptioning/msvd_split/test/videos/JntMAcTlOF0_50_70.avi\n",
            "🗑️ Deleted incomplete video (no features): /content/drive/MyDrive/VideoCaptioning/msvd_split/test/videos/sJSmRik2c-c_1_7.avi\n",
            "🗑️ Deleted incomplete video (no features): /content/drive/MyDrive/VideoCaptioning/msvd_split/test/videos/k5OKBX2e7xA_19_32.avi\n",
            "🗑️ Deleted incomplete video (no features): /content/drive/MyDrive/VideoCaptioning/msvd_split/test/videos/vfktGc_qx-w_2_18.avi\n",
            "🗑️ Deleted incomplete video (no features): /content/drive/MyDrive/VideoCaptioning/msvd_split/test/videos/4ge5_V-xhP0_138_142.avi\n",
            "🗑️ Deleted incomplete video (no features): /content/drive/MyDrive/VideoCaptioning/msvd_split/test/videos/-rkErLY0rRc_63_67.avi\n",
            "🗑️ Deleted incomplete video (no features): /content/drive/MyDrive/VideoCaptioning/msvd_split/test/videos/Ms3QdGIzltU_1_16.avi\n",
            "🗑️ Deleted incomplete video (no features): /content/drive/MyDrive/VideoCaptioning/msvd_split/test/videos/CGllPWAwmUo_1_15.avi\n",
            "🗑️ Deleted incomplete video (no features): /content/drive/MyDrive/VideoCaptioning/msvd_split/test/videos/Ow_o78zjo14_42_57.avi\n",
            "🗑️ Deleted incomplete video (no features): /content/drive/MyDrive/VideoCaptioning/msvd_split/test/videos/ZsrPKtx0qyg_7_15.avi\n",
            "🗑️ Deleted incomplete video (no features): /content/drive/MyDrive/VideoCaptioning/msvd_split/test/videos/ArEWo8pERFc_17_21.avi\n",
            "🗑️ Deleted incomplete video (no features): /content/drive/MyDrive/VideoCaptioning/msvd_split/test/videos/onxE6PpEXes_8_25.avi\n",
            "🗑️ Deleted incomplete video (no features): /content/drive/MyDrive/VideoCaptioning/msvd_split/test/videos/swJ0zhVJ8DU_15_21.avi\n",
            "🗑️ Deleted incomplete video (no features): /content/drive/MyDrive/VideoCaptioning/msvd_split/test/videos/8HB7ywgJuTg_131_142.avi\n",
            "🗑️ Deleted incomplete video (no features): /content/drive/MyDrive/VideoCaptioning/msvd_split/test/videos/6sKdTbRkahM_6_12.avi\n",
            "🗑️ Deleted incomplete video (no features): /content/drive/MyDrive/VideoCaptioning/msvd_split/test/videos/0hyZ__3YhZc_632_637.avi\n",
            "🗑️ Deleted incomplete video (no features): /content/drive/MyDrive/VideoCaptioning/msvd_split/test/videos/VZ6H73nH7xs_27_33.avi\n",
            "🗑️ Deleted incomplete video (no features): /content/drive/MyDrive/VideoCaptioning/msvd_split/test/videos/aeA-HN7BMdo_16_33.avi\n",
            "🗑️ Deleted incomplete video (no features): /content/drive/MyDrive/VideoCaptioning/msvd_split/test/videos/LacBy2NT3YQ_12_17.avi\n",
            "🗑️ Deleted incomplete video (no features): /content/drive/MyDrive/VideoCaptioning/msvd_split/test/videos/-t-ZWaJeH-o_0_15.avi\n",
            "🗑️ Deleted incomplete video (no features): /content/drive/MyDrive/VideoCaptioning/msvd_split/test/videos/YmXCfQm0_CA_277_284.avi\n",
            "🗑️ Deleted incomplete video (no features): /content/drive/MyDrive/VideoCaptioning/msvd_split/test/videos/5JSbxHECb-I_97_110.avi\n",
            "🗑️ Deleted incomplete video (no features): /content/drive/MyDrive/VideoCaptioning/msvd_split/test/videos/0lh_UWF9ZP4_178_182.avi\n",
            "🗑️ Deleted incomplete video (no features): /content/drive/MyDrive/VideoCaptioning/msvd_split/test/videos/e-j59PqJjSM_163_173.avi\n",
            "🗑️ Deleted incomplete video (no features): /content/drive/MyDrive/VideoCaptioning/msvd_split/test/videos/haJn6k5zVnE_1_23.avi\n",
            "🗑️ Deleted incomplete video (no features): /content/drive/MyDrive/VideoCaptioning/msvd_split/test/videos/Dgf0VHMEtNs_57_66.avi\n",
            "🗑️ Deleted incomplete video (no features): /content/drive/MyDrive/VideoCaptioning/msvd_split/test/videos/ibSwITK4jjQ_14_24.avi\n",
            "🗑️ Deleted incomplete video (no features): /content/drive/MyDrive/VideoCaptioning/msvd_split/test/videos/9wxB1UQi0MM_18_38.avi\n",
            "🗑️ Deleted incomplete video (no features): /content/drive/MyDrive/VideoCaptioning/msvd_split/test/videos/ymC2bNi6-Is_9_19.avi\n",
            "🗑️ Deleted incomplete video (no features): /content/drive/MyDrive/VideoCaptioning/msvd_split/test/videos/qeKX-N1nKiM_68_72.avi\n",
            "🗑️ Deleted incomplete video (no features): /content/drive/MyDrive/VideoCaptioning/msvd_split/test/videos/rXZy-PHtnxg_8_42.avi\n",
            "🗑️ Deleted incomplete video (no features): /content/drive/MyDrive/VideoCaptioning/msvd_split/test/videos/ePujnD4qJO0_62_77.avi\n",
            "🗑️ Deleted incomplete video (no features): /content/drive/MyDrive/VideoCaptioning/msvd_split/test/videos/ht2oIYBSoI0_9_21.avi\n",
            "🗑️ Deleted incomplete video (no features): /content/drive/MyDrive/VideoCaptioning/msvd_split/test/videos/GtrTNldo0LI_33_46.avi\n",
            "🗑️ Deleted incomplete video (no features): /content/drive/MyDrive/VideoCaptioning/msvd_split/test/videos/-Cv5LsqKUXc_17_25.avi\n",
            "🗑️ Deleted incomplete video (no features): /content/drive/MyDrive/VideoCaptioning/msvd_split/test/videos/YmXCfQm0_CA_50_57.avi\n",
            "🗑️ Deleted incomplete video (no features): /content/drive/MyDrive/VideoCaptioning/msvd_split/test/videos/GnwKcpfr_ng_10_20.avi\n",
            "🗑️ Deleted incomplete video (no features): /content/drive/MyDrive/VideoCaptioning/msvd_split/test/videos/fGc6_D0JEIQ_31_46.avi\n",
            "🗑️ Deleted incomplete video (no features): /content/drive/MyDrive/VideoCaptioning/msvd_split/test/videos/ItFqogTmAvQ_361_365.avi\n",
            "🗑️ Deleted incomplete video (no features): /content/drive/MyDrive/VideoCaptioning/msvd_split/test/videos/sBjr8UJOpsQ_181_195.avi\n",
            "🗑️ Deleted incomplete video (no features): /content/drive/MyDrive/VideoCaptioning/msvd_split/test/videos/1qV4wfjTYIo_151_164.avi\n",
            "🗑️ Deleted incomplete video (no features): /content/drive/MyDrive/VideoCaptioning/msvd_split/test/videos/UxhKb-zZoWE_0_15.avi\n",
            "🗑️ Deleted incomplete video (no features): /content/drive/MyDrive/VideoCaptioning/msvd_split/test/videos/ZL7P_XmSnEY_205_209.avi\n",
            "🗑️ Deleted incomplete video (no features): /content/drive/MyDrive/VideoCaptioning/msvd_split/test/videos/s-dSFyz_5Ww_31_41.avi\n",
            "🗑️ Deleted incomplete video (no features): /content/drive/MyDrive/VideoCaptioning/msvd_split/test/videos/fVWUaH2mCt4_1_7.avi\n",
            "🗑️ Deleted incomplete video (no features): /content/drive/MyDrive/VideoCaptioning/msvd_split/test/videos/fEsrO_poIUg_161_168.avi\n",
            "🗑️ Deleted incomplete video (no features): /content/drive/MyDrive/VideoCaptioning/msvd_split/test/videos/AysIdzGF-7M_6_14.avi\n",
            "🗑️ Deleted incomplete video (no features): /content/drive/MyDrive/VideoCaptioning/msvd_split/test/videos/dmyz_f8Sx14_56_66.avi\n",
            "🗑️ Deleted incomplete video (no features): /content/drive/MyDrive/VideoCaptioning/msvd_split/test/videos/MoqC84sXu88_47_59.avi\n",
            "🗑️ Deleted incomplete video (no features): /content/drive/MyDrive/VideoCaptioning/msvd_split/test/videos/ZDoy9S82ETA_5_15.avi\n",
            "🗑️ Deleted incomplete video (no features): /content/drive/MyDrive/VideoCaptioning/msvd_split/test/videos/3I9tSDU-OSk_17_22.avi\n",
            "🗑️ Deleted incomplete video (no features): /content/drive/MyDrive/VideoCaptioning/msvd_split/test/videos/MF88IYF2MHY_25_59.avi\n",
            "🗑️ Deleted incomplete video (no features): /content/drive/MyDrive/VideoCaptioning/msvd_split/test/videos/lSnWhsmlGec_5_10.avi\n",
            "🗑️ Deleted incomplete video (no features): /content/drive/MyDrive/VideoCaptioning/msvd_split/test/videos/HM-ZDoRWiH4_0_5.avi\n",
            "🗑️ Deleted incomplete video (no features): /content/drive/MyDrive/VideoCaptioning/msvd_split/test/videos/2KrdBUFeFtY_22_27.avi\n",
            "🗑️ Deleted incomplete video (no features): /content/drive/MyDrive/VideoCaptioning/msvd_split/test/videos/XOAgUVVwKEA_8_20.avi\n",
            "🗑️ Deleted incomplete video (no features): /content/drive/MyDrive/VideoCaptioning/msvd_split/test/videos/DJWmm_Q9WvY_1_25.avi\n",
            "🗑️ Deleted incomplete video (no features): /content/drive/MyDrive/VideoCaptioning/msvd_split/test/videos/5OvgDatToBU_0_8.avi\n",
            "🗑️ Deleted incomplete video (no features): /content/drive/MyDrive/VideoCaptioning/msvd_split/test/videos/CTIKmoEigCI_3_30.avi\n",
            "🗑️ Deleted incomplete video (no features): /content/drive/MyDrive/VideoCaptioning/msvd_split/test/videos/PeUHy0A1GF0_122_127.avi\n",
            "🗑️ Deleted incomplete video (no features): /content/drive/MyDrive/VideoCaptioning/msvd_split/test/videos/H1Bok7Dg7g8_21_26.avi\n",
            "🗑️ Deleted incomplete video (no features): /content/drive/MyDrive/VideoCaptioning/msvd_split/test/videos/-mAoVOhKy0c_4_9.avi\n",
            "🗑️ Deleted incomplete video (no features): /content/drive/MyDrive/VideoCaptioning/msvd_split/test/videos/htry5uxX0-Y_45_52.avi\n",
            "🗑️ Deleted incomplete video (no features): /content/drive/MyDrive/VideoCaptioning/msvd_split/test/videos/zBrC1GmA0Qg_26_33.avi\n",
            "✅ Cleaned JSON for [test]\n",
            "🧮 Removed 0 invalid video entries\n",
            "🧾 Removed 0 invalid captions\n",
            "✅ [test] Verified and fixed. All valid videos now have features and JSON alignment.\n",
            "\n"
          ]
        }
      ]
    },
    {
      "cell_type": "code",
      "source": [
        "import os\n",
        "import json\n",
        "import numpy as np\n",
        "import torch\n",
        "from torch.utils.data import Dataset\n",
        "\n",
        "class VideoCaptionDataset(Dataset):\n",
        "    \"\"\"\n",
        "    Dataset class for loading video features and their associated captions.\n",
        "\n",
        "    Args:\n",
        "        feature_dir (str): Directory containing .npy feature files.\n",
        "        json_path (str): Path to JSON file with \"videos\" and \"sentences\".\n",
        "        vocab (dict): Vocabulary mapping words to indices.\n",
        "        max_caption_length (int): Max length of tokenized captions (including <SOS> and <EOS>).\n",
        "        verbose (bool): If True, prints sample-level debug info.\n",
        "    \"\"\"\n",
        "    def __init__(self, feature_dir, json_path, vocab, max_caption_length=15, verbose=False):\n",
        "        self.feature_dir = feature_dir\n",
        "        self.vocab = vocab\n",
        "        self.max_caption_length = max_caption_length\n",
        "        self.verbose = verbose\n",
        "\n",
        "        # Load JSON\n",
        "        with open(json_path, 'r') as f:\n",
        "            data = json.load(f)\n",
        "\n",
        "        # Map video_id to all its captions\n",
        "        self.video_captions = {}\n",
        "        for item in data['sentences']:\n",
        "            vid = item['video_id']\n",
        "            if vid in self.video_captions:\n",
        "                self.video_captions[vid].append(item['caption'])\n",
        "            else:\n",
        "                self.video_captions[vid] = [item['caption']]\n",
        "\n",
        "        # Keep video_ids that have both captions and feature files\n",
        "        all_video_ids = [v['video_id'] for v in data['videos']]\n",
        "        self.video_ids = [\n",
        "            vid for vid in all_video_ids\n",
        "            if vid in self.video_captions and os.path.exists(os.path.join(self.feature_dir, f\"{vid}.npy\"))\n",
        "        ]\n",
        "\n",
        "        if self.verbose:\n",
        "            print(\"✅ Initialized VideoCaptionDataset\")\n",
        "            print(f\"🧾 Total valid samples: {len(self.video_ids)}\")\n",
        "\n",
        "    def __len__(self):\n",
        "        return len(self.video_ids)\n",
        "\n",
        "    def __getitem__(self, idx):\n",
        "        video_id = self.video_ids[idx]\n",
        "        feature_path = os.path.join(self.feature_dir, f\"{video_id}.npy\")\n",
        "\n",
        "        try:\n",
        "            video_features = np.load(feature_path)\n",
        "        except Exception as e:\n",
        "            raise RuntimeError(f\"❌ Failed to load features for {video_id}: {e}\")\n",
        "\n",
        "        # Choose a random caption and tokenize\n",
        "        caption = np.random.choice(self.video_captions[video_id])\n",
        "        tokens = [self.vocab['<SOS>']] + [\n",
        "            self.vocab.get(word, self.vocab['<UNK>']) for word in caption.lower().split()\n",
        "        ] + [self.vocab['<EOS>']]\n",
        "\n",
        "        # Truncate and pad\n",
        "        tokens = tokens[:self.max_caption_length]\n",
        "        tokens += [self.vocab['<PAD>']] * (self.max_caption_length - len(tokens))\n",
        "\n",
        "        caption_tensor = torch.tensor(tokens, dtype=torch.long)\n",
        "        video_tensor = torch.tensor(video_features, dtype=torch.float32)\n",
        "\n",
        "        # Debug preview\n",
        "        if self.verbose and idx == 0:\n",
        "            reverse_vocab = {v: k for k, v in self.vocab.items()}\n",
        "            print(f\"\\n📦 Sample [{video_id}]\")\n",
        "            print(\"📝 Caption:\", caption)\n",
        "            print(\"🔢 Tokens :\", tokens)\n",
        "            print(\"🔠 Decoded:\", [reverse_vocab.get(t, '<UNK>') for t in tokens])\n",
        "            print(\"🎞️ Video Features Shape:\", video_tensor.shape)\n",
        "            print(\"🧠 Caption Tensor:\", caption_tensor)\n",
        "\n",
        "        return video_tensor, caption_tensor\n"
      ],
      "metadata": {
        "id": "32MO5vnShuPP"
      },
      "execution_count": null,
      "outputs": []
    },
    {
      "cell_type": "code",
      "source": [
        "# Example usage\n",
        "if __name__ == \"__main__\":\n",
        "    # Define directories based on your structure\n",
        "    feature_dir = '/content/drive/MyDrive/VideoCaptioning/msvd_split/train/features'  # Path to train features directory\n",
        "    json_path = '/content/drive/MyDrive/VideoCaptioning/msvd_split/train/train_captions.json'  # Path to train captions JSON\n",
        "    vocab_path = '/content/drive/MyDrive/VideoCaptioning/msvd_split/vocab.json'  # Path to vocabulary JSON\n",
        "\n",
        "    # Load vocabulary\n",
        "    with open(vocab_path, 'r') as f:\n",
        "        vocab = json.load(f)\n",
        "\n",
        "    # Initialize dataset\n",
        "    dataset = VideoCaptionDataset(feature_dir, json_path, vocab, verbose=True)\n",
        "    print(f\"Dataset size: {len(dataset)}\")\n",
        "\n",
        "    # Access a sample item to verify\n",
        "    video_features, caption_tensor = dataset[0]\n",
        "    print(\"Sample Video Features Shape:\", video_features.shape)\n",
        "    print(\"Sample Caption Tensor:\", caption_tensor)"
      ],
      "metadata": {
        "colab": {
          "base_uri": "https://localhost:8080/"
        },
        "id": "C2wsXk8Nh3s0",
        "outputId": "b6cff2fd-21fa-48e8-d2e9-c04e9da3d25a"
      },
      "execution_count": null,
      "outputs": [
        {
          "output_type": "stream",
          "name": "stdout",
          "text": [
            "✅ Initialized VideoCaptionDataset\n",
            "🧾 Total valid samples: 1378\n",
            "Dataset size: 1378\n",
            "\n",
            "📦 Sample [ibSwITK4jjQ_14_24]\n",
            "📝 Caption: many cars are running on the road\n",
            "🔢 Tokens : [1, 572, 673, 12, 47, 9, 6, 97, 2, 0, 0, 0, 0, 0, 0]\n",
            "🔠 Decoded: ['<SOS>', 'many', 'cars', 'are', 'running', 'on', 'the', 'road', '<EOS>', '<PAD>', '<PAD>', '<PAD>', '<PAD>', '<PAD>', '<PAD>']\n",
            "🎞️ Video Features Shape: torch.Size([40, 2048])\n",
            "🧠 Caption Tensor: tensor([  1, 572, 673,  12,  47,   9,   6,  97,   2,   0,   0,   0,   0,   0,\n",
            "          0])\n",
            "Sample Video Features Shape: torch.Size([40, 2048])\n",
            "Sample Caption Tensor: tensor([  1, 572, 673,  12,  47,   9,   6,  97,   2,   0,   0,   0,   0,   0,\n",
            "          0])\n"
          ]
        }
      ]
    },
    {
      "cell_type": "code",
      "source": [
        "if __name__ == \"__main__\":\n",
        "    feature_dir = '/content/drive/MyDrive/VideoCaptioning/msvd_split/train/features'\n",
        "    json_path = '/content/drive/MyDrive/VideoCaptioning/msvd_split/train/train_captions.json'\n",
        "    vocab_path = '/content/drive/MyDrive/VideoCaptioning/msvd_split/vocab.json'\n",
        "\n",
        "    with open(vocab_path, 'r') as f:\n",
        "        vocab = json.load(f)\n",
        "\n",
        "    dataset = VideoCaptionDataset(\n",
        "        feature_dir=feature_dir,\n",
        "        json_path=json_path,\n",
        "        vocab=vocab,\n",
        "        max_caption_length=15,\n",
        "        verbose=True\n",
        "    )\n",
        "\n",
        "    print(f\"Dataset Size: {len(dataset)}\")\n",
        "\n",
        "    # Test sample access\n",
        "    video_feat, cap_tensor = dataset[0]\n"
      ],
      "metadata": {
        "colab": {
          "base_uri": "https://localhost:8080/"
        },
        "id": "aTj9UfbViMq5",
        "outputId": "53249e72-96b1-43a3-cf39-6331f8f6a7f0"
      },
      "execution_count": null,
      "outputs": [
        {
          "output_type": "stream",
          "name": "stdout",
          "text": [
            "✅ Initialized VideoCaptionDataset\n",
            "🧾 Total valid samples: 1378\n",
            "Dataset Size: 1378\n",
            "\n",
            "📦 Sample [ibSwITK4jjQ_14_24]\n",
            "📝 Caption: a police officer pulls a gun on a driver\n",
            "🔢 Tokens : [1, 4, 593, 1037, 704, 4, 124, 9, 4, 1036, 2, 0, 0, 0, 0]\n",
            "🔠 Decoded: ['<SOS>', 'a', 'police', 'officer', 'pulls', 'a', 'gun', 'on', 'a', 'driver', '<EOS>', '<PAD>', '<PAD>', '<PAD>', '<PAD>']\n",
            "🎞️ Video Features Shape: torch.Size([40, 2048])\n",
            "🧠 Caption Tensor: tensor([   1,    4,  593, 1037,  704,    4,  124,    9,    4, 1036,    2,    0,\n",
            "           0,    0,    0])\n"
          ]
        }
      ]
    },
    {
      "cell_type": "code",
      "source": [
        "import torch\n",
        "from torch import nn\n",
        "import torch.nn.functional as F\n",
        "\n",
        "class BahdanauAttention(nn.Module):\n",
        "    def __init__(self, hidden_size, encoder_output_size):\n",
        "        super(BahdanauAttention, self).__init__()\n",
        "        self.W1 = nn.Linear(hidden_size, hidden_size)\n",
        "        self.W2 = nn.Linear(encoder_output_size, hidden_size)\n",
        "        self.V = nn.Linear(hidden_size, 1)\n",
        "\n",
        "    def forward(self, hidden, encoder_outputs):\n",
        "        hidden = hidden.unsqueeze(1)  # [B, 1, H]\n",
        "        score = self.V(torch.tanh(self.W1(hidden) + self.W2(encoder_outputs)))  # [B, T, 1]\n",
        "        attention_weights = F.softmax(score, dim=1)  # [B, T, 1]\n",
        "        context = torch.sum(attention_weights * encoder_outputs, dim=1)  # [B, H]\n",
        "        return context, attention_weights\n",
        "\n",
        "class S2VTModel(nn.Module):\n",
        "    def __init__(self, vocab_size, max_len=45, dim_hidden=1024, dim_word=512, dim_vid=2048,\n",
        "                 sos_id=1, eos_id=0, n_layers=1, rnn_cell='lstm', rnn_dropout_p=0.3):\n",
        "        super(S2VTModel, self).__init__()\n",
        "\n",
        "        self.rnn_cell_type = rnn_cell.lower()\n",
        "        self.rnn_cell = nn.LSTM if self.rnn_cell_type == 'lstm' else nn.GRU\n",
        "\n",
        "        self.rnn1 = self.rnn_cell(dim_vid, dim_hidden, n_layers, batch_first=True, dropout=rnn_dropout_p)\n",
        "        self.rnn2 = self.rnn_cell(dim_hidden + dim_word, dim_hidden, n_layers, batch_first=True, dropout=rnn_dropout_p)\n",
        "\n",
        "        self.attention = BahdanauAttention(dim_hidden, dim_hidden)\n",
        "\n",
        "        self.embedding = nn.Embedding(vocab_size, dim_word)\n",
        "        self.out = nn.Linear(dim_hidden, vocab_size)\n",
        "\n",
        "        self.dim_vid = dim_vid\n",
        "        self.dim_hidden = dim_hidden\n",
        "        self.dim_word = dim_word\n",
        "        self.max_length = max_len\n",
        "        self.vocab_size = vocab_size\n",
        "        self.sos_id = sos_id\n",
        "        self.eos_id = eos_id\n",
        "\n",
        "    def forward(self, vid_feats, target_variable=None, mode='train', beam_width=3):\n",
        "        batch_size, n_frames, _ = vid_feats.shape\n",
        "        device = vid_feats.device\n",
        "\n",
        "        encoder_outputs, state1 = self.rnn1(vid_feats)  # [B, T, H]\n",
        "\n",
        "        if mode == 'train':\n",
        "            seq_probs = []\n",
        "            for t in range(self.max_length - 1):\n",
        "                current_word = self.embedding(target_variable[:, t])\n",
        "                context, _ = self.attention(state1[0][-1] if self.rnn_cell_type == 'lstm' else state1[-1], encoder_outputs)\n",
        "                input2 = torch.cat((context, current_word), dim=1).unsqueeze(1)\n",
        "                output2, state2 = self.rnn2(input2, state1)\n",
        "                logits = self.out(output2.squeeze(1))\n",
        "                logits = F.log_softmax(logits, dim=1)\n",
        "                seq_probs.append(logits.unsqueeze(1))\n",
        "                state1 = state2\n",
        "            return torch.cat(seq_probs, dim=1), None\n",
        "\n",
        "        else:  # Beam Search Inference\n",
        "            beams = [(torch.tensor([self.sos_id], device=device), 0.0, state1)]\n",
        "            completed = []\n",
        "\n",
        "            for _ in range(self.max_length - 1):\n",
        "                new_beams = []\n",
        "                for seq, score, state in beams:\n",
        "                    last_word = seq[-1].unsqueeze(0)\n",
        "                    if last_word.item() == self.eos_id:\n",
        "                        completed.append((seq, score))\n",
        "                        continue\n",
        "\n",
        "                    emb = self.embedding(last_word).unsqueeze(0)  # [1, 1, D]\n",
        "                    context, _ = self.attention(state[0][-1] if self.rnn_cell_type == 'lstm' else state[-1], encoder_outputs)\n",
        "                    input2 = torch.cat((context, emb.squeeze(1)), dim=-1).unsqueeze(1)\n",
        "                    output2, new_state = self.rnn2(input2, state)\n",
        "                    logits = self.out(output2.squeeze(1))\n",
        "                    log_probs = F.log_softmax(logits, dim=1)\n",
        "                    topk_log_probs, topk_indices = torch.topk(log_probs, beam_width)\n",
        "\n",
        "                    for k in range(beam_width):\n",
        "                        new_seq = torch.cat([seq, topk_indices[0, k].unsqueeze(0)])\n",
        "                        new_score = score + topk_log_probs[0, k].item()\n",
        "                        new_beams.append((new_seq, new_score, new_state))\n",
        "\n",
        "                beams = sorted(new_beams, key=lambda x: x[1], reverse=True)[:beam_width]\n",
        "\n",
        "            best_seq = max(completed or beams, key=lambda x: x[1])[0]\n",
        "            return None, best_seq.unsqueeze(0)\n"
      ],
      "metadata": {
        "id": "GbQq1y71iNHW"
      },
      "execution_count": null,
      "outputs": []
    },
    {
      "cell_type": "code",
      "source": [
        "# Define the full model code as a string\n",
        "model_code = '''import torch\n",
        "from torch import nn\n",
        "import torch.nn.functional as F\n",
        "\n",
        "class BahdanauAttention(nn.Module):\n",
        "    def __init__(self, hidden_size, encoder_output_size):\n",
        "        super(BahdanauAttention, self).__init__()\n",
        "        self.W1 = nn.Linear(hidden_size, hidden_size)\n",
        "        self.W2 = nn.Linear(encoder_output_size, hidden_size)\n",
        "        self.V = nn.Linear(hidden_size, 1)\n",
        "\n",
        "    def forward(self, hidden, encoder_outputs):\n",
        "        hidden = hidden.unsqueeze(1)  # [B, 1, H]\n",
        "        score = self.V(torch.tanh(self.W1(hidden) + self.W2(encoder_outputs)))  # [B, T, 1]\n",
        "        attention_weights = F.softmax(score, dim=1)  # [B, T, 1]\n",
        "        context = torch.sum(attention_weights * encoder_outputs, dim=1)  # [B, H]\n",
        "        return context, attention_weights\n",
        "\n",
        "class S2VTModel(nn.Module):\n",
        "    def __init__(self, vocab_size, max_len=45, dim_hidden=1024, dim_word=512, dim_vid=2048,\n",
        "                 sos_id=1, eos_id=0, n_layers=1, rnn_cell='lstm', rnn_dropout_p=0.3):\n",
        "        super(S2VTModel, self).__init__()\n",
        "\n",
        "        self.rnn_cell_type = rnn_cell.lower()\n",
        "        self.rnn_cell = nn.LSTM if self.rnn_cell_type == 'lstm' else nn.GRU\n",
        "\n",
        "        self.rnn1 = self.rnn_cell(dim_vid, dim_hidden, n_layers, batch_first=True, dropout=rnn_dropout_p)\n",
        "        self.rnn2 = self.rnn_cell(dim_hidden + dim_word, dim_hidden, n_layers, batch_first=True, dropout=rnn_dropout_p)\n",
        "\n",
        "        self.attention = BahdanauAttention(dim_hidden, dim_hidden)\n",
        "\n",
        "        self.embedding = nn.Embedding(vocab_size, dim_word)\n",
        "        self.out = nn.Linear(dim_hidden, vocab_size)\n",
        "\n",
        "        self.dim_vid = dim_vid\n",
        "        self.dim_hidden = dim_hidden\n",
        "        self.dim_word = dim_word\n",
        "        self.max_length = max_len\n",
        "        self.vocab_size = vocab_size\n",
        "        self.sos_id = sos_id\n",
        "        self.eos_id = eos_id\n",
        "\n",
        "    def forward(self, vid_feats, target_variable=None, mode='train', beam_width=3):\n",
        "        batch_size, n_frames, _ = vid_feats.shape\n",
        "        device = vid_feats.device\n",
        "\n",
        "        encoder_outputs, state1 = self.rnn1(vid_feats)  # [B, T, H]\n",
        "\n",
        "        if mode == 'train':\n",
        "            seq_probs = []\n",
        "            for t in range(self.max_length - 1):\n",
        "                current_word = self.embedding(target_variable[:, t])\n",
        "                context, _ = self.attention(state1[0][-1] if self.rnn_cell_type == 'lstm' else state1[-1], encoder_outputs)\n",
        "                input2 = torch.cat((context, current_word), dim=1).unsqueeze(1)\n",
        "                output2, state2 = self.rnn2(input2, state1)\n",
        "                logits = self.out(output2.squeeze(1))\n",
        "                logits = F.log_softmax(logits, dim=1)\n",
        "                seq_probs.append(logits.unsqueeze(1))\n",
        "                state1 = state2\n",
        "            return torch.cat(seq_probs, dim=1), None\n",
        "\n",
        "        else:  # Beam Search Inference\n",
        "            beams = [(torch.tensor([self.sos_id], device=device), 0.0, state1)]\n",
        "            completed = []\n",
        "\n",
        "            for _ in range(self.max_length - 1):\n",
        "                new_beams = []\n",
        "                for seq, score, state in beams:\n",
        "                    last_word = seq[-1].unsqueeze(0)\n",
        "                    if last_word.item() == self.eos_id:\n",
        "                        completed.append((seq, score))\n",
        "                        continue\n",
        "\n",
        "                    emb = self.embedding(last_word).unsqueeze(0)  # [1, 1, D]\n",
        "                    context, _ = self.attention(state[0][-1] if self.rnn_cell_type == 'lstm' else state[-1], encoder_outputs)\n",
        "                    input2 = torch.cat((context, emb.squeeze(1)), dim=-1).unsqueeze(1)\n",
        "                    output2, new_state = self.rnn2(input2, state)\n",
        "                    logits = self.out(output2.squeeze(1))\n",
        "                    log_probs = F.log_softmax(logits, dim=1)\n",
        "                    topk_log_probs, topk_indices = torch.topk(log_probs, beam_width)\n",
        "\n",
        "                    for k in range(beam_width):\n",
        "                        new_seq = torch.cat([seq, topk_indices[0, k].unsqueeze(0)])\n",
        "                        new_score = score + topk_log_probs[0, k].item()\n",
        "                        new_beams.append((new_seq, new_score, new_state))\n",
        "\n",
        "                beams = sorted(new_beams, key=lambda x: x[1], reverse=True)[:beam_width]\n",
        "\n",
        "            best_seq = max(completed or beams, key=lambda x: x[1])[0]\n",
        "            return None, best_seq.unsqueeze(0)\n",
        "\n",
        "'''\n",
        "\n",
        "# Save to Google Drive\n",
        "with open('/content/drive/MyDrive/VideoCaptioning/S2VTModel_Attention.py', 'w') as f:\n",
        "    f.write(model_code)\n",
        "\n",
        "print(\"✅ Model saved as S2VTModel_Attention.py in your Drive.\")\n"
      ],
      "metadata": {
        "colab": {
          "base_uri": "https://localhost:8080/"
        },
        "id": "BmtDaRjbkgd3",
        "outputId": "83cef569-8ef0-40e6-a9b2-416b131d6891"
      },
      "execution_count": null,
      "outputs": [
        {
          "output_type": "stream",
          "name": "stdout",
          "text": [
            "✅ Model saved as S2VTModel_Attention.py in your Drive.\n"
          ]
        }
      ]
    },
    {
      "cell_type": "code",
      "source": [
        "import torch\n",
        "import torch.nn as nn\n",
        "import torch.optim as optim\n",
        "from torch.utils.data import DataLoader\n",
        "from tqdm import tqdm\n",
        "\n",
        "def train_model(model, train_dataset, val_dataset, vocab, device,\n",
        "                num_epochs=10, batch_size=8, learning_rate=1e-4, checkpoint_dir=None):\n",
        "\n",
        "    train_loader = DataLoader(train_dataset, batch_size=batch_size, shuffle=True)\n",
        "    val_loader = DataLoader(val_dataset, batch_size=batch_size, shuffle=False)\n",
        "\n",
        "    model = model.to(device)\n",
        "    criterion = nn.NLLLoss(ignore_index=vocab['<PAD>'])\n",
        "    optimizer = optim.Adam(model.parameters(), lr=learning_rate)\n",
        "    scheduler = optim.lr_scheduler.StepLR(optimizer, step_size=5, gamma=0.5)\n",
        "\n",
        "    for epoch in range(1, num_epochs + 1):\n",
        "        model.train()\n",
        "        total_train_loss = 0\n",
        "\n",
        "        print(f\"\\n🚀 Epoch [{epoch}/{num_epochs}]\")\n",
        "\n",
        "        for video_feats, captions in tqdm(train_loader, desc='Training'):\n",
        "            video_feats, captions = video_feats.to(device), captions.to(device)\n",
        "\n",
        "            # Prepare input and target\n",
        "            inputs = captions[:, :-1]\n",
        "            targets = captions[:, 1:]\n",
        "\n",
        "            optimizer.zero_grad()\n",
        "            outputs, _ = model(video_feats, target_variable=inputs, mode='train')  # [B, T, V]\n",
        "\n",
        "            outputs = outputs.view(-1, outputs.size(-1))       # [B*T, V]\n",
        "            targets = targets.reshape(-1)                      # [B*T]\n",
        "\n",
        "            loss = criterion(outputs, targets)\n",
        "            loss.backward()\n",
        "            optimizer.step()\n",
        "\n",
        "            total_train_loss += loss.item()\n",
        "\n",
        "        avg_train_loss = total_train_loss / len(train_loader)\n",
        "        print(f\"✅ Training Loss: {avg_train_loss:.4f}\")\n",
        "\n",
        "        # === Validation ===\n",
        "        model.eval()\n",
        "        total_val_loss = 0\n",
        "        with torch.no_grad():\n",
        "            for video_feats, captions in tqdm(val_loader, desc='Validation'):\n",
        "                video_feats, captions = video_feats.to(device), captions.to(device)\n",
        "                inputs = captions[:, :-1]\n",
        "                targets = captions[:, 1:]\n",
        "\n",
        "                outputs, _ = model(video_feats, target_variable=inputs, mode='train')\n",
        "                outputs = outputs.view(-1, outputs.size(-1))\n",
        "                targets = targets.reshape(-1)\n",
        "\n",
        "                loss = criterion(outputs, targets)\n",
        "                total_val_loss += loss.item()\n",
        "\n",
        "        avg_val_loss = total_val_loss / len(val_loader)\n",
        "        print(f\"🧪 Validation Loss: {avg_val_loss:.4f}\")\n",
        "\n",
        "        scheduler.step()\n",
        "\n",
        "        # Save checkpoint\n",
        "        if checkpoint_dir:\n",
        "            torch.save({\n",
        "                'epoch': epoch,\n",
        "                'model_state_dict': model.state_dict(),\n",
        "                'optimizer_state_dict': optimizer.state_dict(),\n",
        "                'train_loss': avg_train_loss,\n",
        "                'val_loss': avg_val_loss,\n",
        "            }, f\"{checkpoint_dir}/checkpoint_epoch_{epoch}.pt\")\n",
        "            print(f\"💾 Saved checkpoint to {checkpoint_dir}/checkpoint_epoch_{epoch}.pt\")\n"
      ],
      "metadata": {
        "id": "Yx00QdBZk3ds"
      },
      "execution_count": null,
      "outputs": []
    },
    {
      "cell_type": "code",
      "source": [
        "from torch.utils.data import DataLoader\n",
        "import json\n",
        "\n",
        "# === Paths ===\n",
        "feature_dir_train = '/content/drive/MyDrive/VideoCaptioning/msvd_split/train/features'\n",
        "feature_dir_val = '/content/drive/MyDrive/VideoCaptioning/msvd_split/val/features'\n",
        "json_train = '/content/drive/MyDrive/VideoCaptioning/msvd_split/train/train_captions.json'\n",
        "json_val = '/content/drive/MyDrive/VideoCaptioning/msvd_split/val/val_captions.json'\n",
        "vocab_path = '/content/drive/MyDrive/VideoCaptioning/msvd_split/vocab.json'\n",
        "\n",
        "# === Load vocab ===\n",
        "with open(vocab_path, 'r') as f:\n",
        "    vocab = json.load(f)\n",
        "\n",
        "# === Initialize datasets ===\n",
        "train_dataset = VideoCaptionDataset(\n",
        "    feature_dir=feature_dir_train,\n",
        "    json_path=json_train,\n",
        "    vocab=vocab,\n",
        "    max_caption_length=45\n",
        ")\n",
        "\n",
        "val_dataset = VideoCaptionDataset(\n",
        "    feature_dir=feature_dir_val,\n",
        "    json_path=json_val,\n",
        "    vocab=vocab,\n",
        "    max_caption_length=45\n",
        ")\n"
      ],
      "metadata": {
        "id": "_rGmYJpumQor"
      },
      "execution_count": null,
      "outputs": []
    },
    {
      "cell_type": "code",
      "source": [
        "from drive.MyDrive.VideoCaptioning.S2VTModel_Attention import S2VTModel\n",
        "\n",
        "device = torch.device(\"cuda\" if torch.cuda.is_available() else \"cpu\")\n",
        "\n",
        "model = S2VTModel(\n",
        "    vocab_size=len(vocab),\n",
        "    max_len=45,\n",
        "    dim_hidden=1024,\n",
        "    dim_word=512,\n",
        "    dim_vid=2048,\n",
        "    sos_id=vocab['<SOS>'],\n",
        "    eos_id=vocab['<EOS>'],\n",
        "    n_layers=1,\n",
        "    rnn_cell='lstm',\n",
        "    rnn_dropout_p=0.3\n",
        ")\n",
        "\n",
        "train_model(\n",
        "    model=model,\n",
        "    train_dataset=train_dataset,\n",
        "    val_dataset=val_dataset,\n",
        "    vocab=vocab,\n",
        "    device=device,\n",
        "    num_epochs=30,\n",
        "    batch_size=8,\n",
        "    learning_rate=1e-4,\n",
        "    checkpoint_dir=\"/content/drive/MyDrive/VideoCaptioning/msvd_split/checkpoints\"\n",
        ")\n"
      ],
      "metadata": {
        "colab": {
          "base_uri": "https://localhost:8080/"
        },
        "id": "J1sX8NmMltFH",
        "outputId": "4481fd5c-0ceb-49d8-de97-724c1ac1cea2"
      },
      "execution_count": null,
      "outputs": [
        {
          "output_type": "stream",
          "name": "stdout",
          "text": [
            "\n",
            "🚀 Epoch [1/30]\n"
          ]
        },
        {
          "output_type": "stream",
          "name": "stderr",
          "text": [
            "Training: 100%|██████████| 173/173 [00:44<00:00,  3.85it/s]\n"
          ]
        },
        {
          "output_type": "stream",
          "name": "stdout",
          "text": [
            "✅ Training Loss: 5.4073\n"
          ]
        },
        {
          "output_type": "stream",
          "name": "stderr",
          "text": [
            "Validation: 100%|██████████| 37/37 [00:02<00:00, 12.60it/s]\n"
          ]
        },
        {
          "output_type": "stream",
          "name": "stdout",
          "text": [
            "🧪 Validation Loss: 4.8102\n",
            "💾 Saved checkpoint to /content/drive/MyDrive/VideoCaptioning/msvd_split/checkpoints/checkpoint_epoch_1.pt\n",
            "\n",
            "🚀 Epoch [2/30]\n"
          ]
        },
        {
          "output_type": "stream",
          "name": "stderr",
          "text": [
            "Training: 100%|██████████| 173/173 [00:46<00:00,  3.73it/s]\n"
          ]
        },
        {
          "output_type": "stream",
          "name": "stdout",
          "text": [
            "✅ Training Loss: 4.4815\n"
          ]
        },
        {
          "output_type": "stream",
          "name": "stderr",
          "text": [
            "Validation: 100%|██████████| 37/37 [00:03<00:00, 12.02it/s]\n"
          ]
        },
        {
          "output_type": "stream",
          "name": "stdout",
          "text": [
            "🧪 Validation Loss: 4.5128\n",
            "💾 Saved checkpoint to /content/drive/MyDrive/VideoCaptioning/msvd_split/checkpoints/checkpoint_epoch_2.pt\n",
            "\n",
            "🚀 Epoch [3/30]\n"
          ]
        },
        {
          "output_type": "stream",
          "name": "stderr",
          "text": [
            "Training: 100%|██████████| 173/173 [00:46<00:00,  3.76it/s]\n"
          ]
        },
        {
          "output_type": "stream",
          "name": "stdout",
          "text": [
            "✅ Training Loss: 4.2509\n"
          ]
        },
        {
          "output_type": "stream",
          "name": "stderr",
          "text": [
            "Validation: 100%|██████████| 37/37 [00:04<00:00,  8.97it/s]\n"
          ]
        },
        {
          "output_type": "stream",
          "name": "stdout",
          "text": [
            "🧪 Validation Loss: 4.2317\n",
            "💾 Saved checkpoint to /content/drive/MyDrive/VideoCaptioning/msvd_split/checkpoints/checkpoint_epoch_3.pt\n",
            "\n",
            "🚀 Epoch [4/30]\n"
          ]
        },
        {
          "output_type": "stream",
          "name": "stderr",
          "text": [
            "Training: 100%|██████████| 173/173 [00:50<00:00,  3.43it/s]\n"
          ]
        },
        {
          "output_type": "stream",
          "name": "stdout",
          "text": [
            "✅ Training Loss: 4.1210\n"
          ]
        },
        {
          "output_type": "stream",
          "name": "stderr",
          "text": [
            "Validation: 100%|██████████| 37/37 [00:03<00:00, 12.29it/s]\n"
          ]
        },
        {
          "output_type": "stream",
          "name": "stdout",
          "text": [
            "🧪 Validation Loss: 4.0977\n",
            "💾 Saved checkpoint to /content/drive/MyDrive/VideoCaptioning/msvd_split/checkpoints/checkpoint_epoch_4.pt\n",
            "\n",
            "🚀 Epoch [5/30]\n"
          ]
        },
        {
          "output_type": "stream",
          "name": "stderr",
          "text": [
            "Training: 100%|██████████| 173/173 [00:47<00:00,  3.67it/s]\n"
          ]
        },
        {
          "output_type": "stream",
          "name": "stdout",
          "text": [
            "✅ Training Loss: 3.9481\n"
          ]
        },
        {
          "output_type": "stream",
          "name": "stderr",
          "text": [
            "Validation: 100%|██████████| 37/37 [00:02<00:00, 12.60it/s]\n"
          ]
        },
        {
          "output_type": "stream",
          "name": "stdout",
          "text": [
            "🧪 Validation Loss: 4.0461\n",
            "💾 Saved checkpoint to /content/drive/MyDrive/VideoCaptioning/msvd_split/checkpoints/checkpoint_epoch_5.pt\n",
            "\n",
            "🚀 Epoch [6/30]\n"
          ]
        },
        {
          "output_type": "stream",
          "name": "stderr",
          "text": [
            "Training: 100%|██████████| 173/173 [00:46<00:00,  3.75it/s]\n"
          ]
        },
        {
          "output_type": "stream",
          "name": "stdout",
          "text": [
            "✅ Training Loss: 3.8868\n"
          ]
        },
        {
          "output_type": "stream",
          "name": "stderr",
          "text": [
            "Validation: 100%|██████████| 37/37 [00:03<00:00, 12.27it/s]\n"
          ]
        },
        {
          "output_type": "stream",
          "name": "stdout",
          "text": [
            "🧪 Validation Loss: 4.0147\n",
            "💾 Saved checkpoint to /content/drive/MyDrive/VideoCaptioning/msvd_split/checkpoints/checkpoint_epoch_6.pt\n",
            "\n",
            "🚀 Epoch [7/30]\n"
          ]
        },
        {
          "output_type": "stream",
          "name": "stderr",
          "text": [
            "Training: 100%|██████████| 173/173 [00:45<00:00,  3.77it/s]\n"
          ]
        },
        {
          "output_type": "stream",
          "name": "stdout",
          "text": [
            "✅ Training Loss: 3.8414\n"
          ]
        },
        {
          "output_type": "stream",
          "name": "stderr",
          "text": [
            "Validation: 100%|██████████| 37/37 [00:03<00:00, 11.65it/s]\n"
          ]
        },
        {
          "output_type": "stream",
          "name": "stdout",
          "text": [
            "🧪 Validation Loss: 3.9206\n",
            "💾 Saved checkpoint to /content/drive/MyDrive/VideoCaptioning/msvd_split/checkpoints/checkpoint_epoch_7.pt\n",
            "\n",
            "🚀 Epoch [8/30]\n"
          ]
        },
        {
          "output_type": "stream",
          "name": "stderr",
          "text": [
            "Training: 100%|██████████| 173/173 [00:45<00:00,  3.77it/s]\n"
          ]
        },
        {
          "output_type": "stream",
          "name": "stdout",
          "text": [
            "✅ Training Loss: 3.7467\n"
          ]
        },
        {
          "output_type": "stream",
          "name": "stderr",
          "text": [
            "Validation: 100%|██████████| 37/37 [00:03<00:00, 12.09it/s]\n"
          ]
        },
        {
          "output_type": "stream",
          "name": "stdout",
          "text": [
            "🧪 Validation Loss: 3.8537\n",
            "💾 Saved checkpoint to /content/drive/MyDrive/VideoCaptioning/msvd_split/checkpoints/checkpoint_epoch_8.pt\n",
            "\n",
            "🚀 Epoch [9/30]\n"
          ]
        },
        {
          "output_type": "stream",
          "name": "stderr",
          "text": [
            "Training: 100%|██████████| 173/173 [00:45<00:00,  3.80it/s]\n"
          ]
        },
        {
          "output_type": "stream",
          "name": "stdout",
          "text": [
            "✅ Training Loss: 3.7147\n"
          ]
        },
        {
          "output_type": "stream",
          "name": "stderr",
          "text": [
            "Validation: 100%|██████████| 37/37 [00:03<00:00, 11.99it/s]\n"
          ]
        },
        {
          "output_type": "stream",
          "name": "stdout",
          "text": [
            "🧪 Validation Loss: 3.9116\n",
            "💾 Saved checkpoint to /content/drive/MyDrive/VideoCaptioning/msvd_split/checkpoints/checkpoint_epoch_9.pt\n",
            "\n",
            "🚀 Epoch [10/30]\n"
          ]
        },
        {
          "output_type": "stream",
          "name": "stderr",
          "text": [
            "Training: 100%|██████████| 173/173 [00:45<00:00,  3.81it/s]\n"
          ]
        },
        {
          "output_type": "stream",
          "name": "stdout",
          "text": [
            "✅ Training Loss: 3.7378\n"
          ]
        },
        {
          "output_type": "stream",
          "name": "stderr",
          "text": [
            "Validation: 100%|██████████| 37/37 [00:03<00:00, 11.09it/s]\n"
          ]
        },
        {
          "output_type": "stream",
          "name": "stdout",
          "text": [
            "🧪 Validation Loss: 3.7834\n",
            "💾 Saved checkpoint to /content/drive/MyDrive/VideoCaptioning/msvd_split/checkpoints/checkpoint_epoch_10.pt\n",
            "\n",
            "🚀 Epoch [11/30]\n"
          ]
        },
        {
          "output_type": "stream",
          "name": "stderr",
          "text": [
            "Training: 100%|██████████| 173/173 [00:45<00:00,  3.78it/s]\n"
          ]
        },
        {
          "output_type": "stream",
          "name": "stdout",
          "text": [
            "✅ Training Loss: 3.6438\n"
          ]
        },
        {
          "output_type": "stream",
          "name": "stderr",
          "text": [
            "Validation: 100%|██████████| 37/37 [00:02<00:00, 12.53it/s]\n"
          ]
        },
        {
          "output_type": "stream",
          "name": "stdout",
          "text": [
            "🧪 Validation Loss: 3.8592\n",
            "💾 Saved checkpoint to /content/drive/MyDrive/VideoCaptioning/msvd_split/checkpoints/checkpoint_epoch_11.pt\n",
            "\n",
            "🚀 Epoch [12/30]\n"
          ]
        },
        {
          "output_type": "stream",
          "name": "stderr",
          "text": [
            "Training: 100%|██████████| 173/173 [00:45<00:00,  3.77it/s]\n"
          ]
        },
        {
          "output_type": "stream",
          "name": "stdout",
          "text": [
            "✅ Training Loss: 3.6489\n"
          ]
        },
        {
          "output_type": "stream",
          "name": "stderr",
          "text": [
            "Validation: 100%|██████████| 37/37 [00:02<00:00, 12.77it/s]\n"
          ]
        },
        {
          "output_type": "stream",
          "name": "stdout",
          "text": [
            "🧪 Validation Loss: 3.6562\n",
            "💾 Saved checkpoint to /content/drive/MyDrive/VideoCaptioning/msvd_split/checkpoints/checkpoint_epoch_12.pt\n",
            "\n",
            "🚀 Epoch [13/30]\n"
          ]
        },
        {
          "output_type": "stream",
          "name": "stderr",
          "text": [
            "Training: 100%|██████████| 173/173 [00:45<00:00,  3.77it/s]\n"
          ]
        },
        {
          "output_type": "stream",
          "name": "stdout",
          "text": [
            "✅ Training Loss: 3.6114\n"
          ]
        },
        {
          "output_type": "stream",
          "name": "stderr",
          "text": [
            "Validation: 100%|██████████| 37/37 [00:02<00:00, 12.61it/s]\n"
          ]
        },
        {
          "output_type": "stream",
          "name": "stdout",
          "text": [
            "🧪 Validation Loss: 3.6155\n",
            "💾 Saved checkpoint to /content/drive/MyDrive/VideoCaptioning/msvd_split/checkpoints/checkpoint_epoch_13.pt\n",
            "\n",
            "🚀 Epoch [14/30]\n"
          ]
        },
        {
          "output_type": "stream",
          "name": "stderr",
          "text": [
            "Training: 100%|██████████| 173/173 [00:45<00:00,  3.77it/s]\n"
          ]
        },
        {
          "output_type": "stream",
          "name": "stdout",
          "text": [
            "✅ Training Loss: 3.5727\n"
          ]
        },
        {
          "output_type": "stream",
          "name": "stderr",
          "text": [
            "Validation: 100%|██████████| 37/37 [00:03<00:00, 12.11it/s]\n"
          ]
        },
        {
          "output_type": "stream",
          "name": "stdout",
          "text": [
            "🧪 Validation Loss: 3.8153\n",
            "💾 Saved checkpoint to /content/drive/MyDrive/VideoCaptioning/msvd_split/checkpoints/checkpoint_epoch_14.pt\n",
            "\n",
            "🚀 Epoch [15/30]\n"
          ]
        },
        {
          "output_type": "stream",
          "name": "stderr",
          "text": [
            "Training: 100%|██████████| 173/173 [00:45<00:00,  3.80it/s]\n"
          ]
        },
        {
          "output_type": "stream",
          "name": "stdout",
          "text": [
            "✅ Training Loss: 3.5606\n"
          ]
        },
        {
          "output_type": "stream",
          "name": "stderr",
          "text": [
            "Validation: 100%|██████████| 37/37 [00:03<00:00, 12.22it/s]\n"
          ]
        },
        {
          "output_type": "stream",
          "name": "stdout",
          "text": [
            "🧪 Validation Loss: 3.6665\n",
            "💾 Saved checkpoint to /content/drive/MyDrive/VideoCaptioning/msvd_split/checkpoints/checkpoint_epoch_15.pt\n",
            "\n",
            "🚀 Epoch [16/30]\n"
          ]
        },
        {
          "output_type": "stream",
          "name": "stderr",
          "text": [
            "Training: 100%|██████████| 173/173 [00:45<00:00,  3.80it/s]\n"
          ]
        },
        {
          "output_type": "stream",
          "name": "stdout",
          "text": [
            "✅ Training Loss: 3.5134\n"
          ]
        },
        {
          "output_type": "stream",
          "name": "stderr",
          "text": [
            "Validation: 100%|██████████| 37/37 [00:02<00:00, 12.38it/s]\n"
          ]
        },
        {
          "output_type": "stream",
          "name": "stdout",
          "text": [
            "🧪 Validation Loss: 3.7016\n",
            "💾 Saved checkpoint to /content/drive/MyDrive/VideoCaptioning/msvd_split/checkpoints/checkpoint_epoch_16.pt\n",
            "\n",
            "🚀 Epoch [17/30]\n"
          ]
        },
        {
          "output_type": "stream",
          "name": "stderr",
          "text": [
            "Training: 100%|██████████| 173/173 [00:44<00:00,  3.85it/s]\n"
          ]
        },
        {
          "output_type": "stream",
          "name": "stdout",
          "text": [
            "✅ Training Loss: 3.5334\n"
          ]
        },
        {
          "output_type": "stream",
          "name": "stderr",
          "text": [
            "Validation: 100%|██████████| 37/37 [00:02<00:00, 12.54it/s]\n"
          ]
        },
        {
          "output_type": "stream",
          "name": "stdout",
          "text": [
            "🧪 Validation Loss: 3.6828\n",
            "💾 Saved checkpoint to /content/drive/MyDrive/VideoCaptioning/msvd_split/checkpoints/checkpoint_epoch_17.pt\n",
            "\n",
            "🚀 Epoch [18/30]\n"
          ]
        },
        {
          "output_type": "stream",
          "name": "stderr",
          "text": [
            "Training: 100%|██████████| 173/173 [00:45<00:00,  3.81it/s]\n"
          ]
        },
        {
          "output_type": "stream",
          "name": "stdout",
          "text": [
            "✅ Training Loss: 3.4689\n"
          ]
        },
        {
          "output_type": "stream",
          "name": "stderr",
          "text": [
            "Validation: 100%|██████████| 37/37 [00:02<00:00, 12.43it/s]\n"
          ]
        },
        {
          "output_type": "stream",
          "name": "stdout",
          "text": [
            "🧪 Validation Loss: 3.6528\n",
            "💾 Saved checkpoint to /content/drive/MyDrive/VideoCaptioning/msvd_split/checkpoints/checkpoint_epoch_18.pt\n",
            "\n",
            "🚀 Epoch [19/30]\n"
          ]
        },
        {
          "output_type": "stream",
          "name": "stderr",
          "text": [
            "Training: 100%|██████████| 173/173 [00:45<00:00,  3.81it/s]\n"
          ]
        },
        {
          "output_type": "stream",
          "name": "stdout",
          "text": [
            "✅ Training Loss: 3.5090\n"
          ]
        },
        {
          "output_type": "stream",
          "name": "stderr",
          "text": [
            "Validation: 100%|██████████| 37/37 [00:02<00:00, 12.42it/s]\n"
          ]
        },
        {
          "output_type": "stream",
          "name": "stdout",
          "text": [
            "🧪 Validation Loss: 3.6823\n",
            "💾 Saved checkpoint to /content/drive/MyDrive/VideoCaptioning/msvd_split/checkpoints/checkpoint_epoch_19.pt\n",
            "\n",
            "🚀 Epoch [20/30]\n"
          ]
        },
        {
          "output_type": "stream",
          "name": "stderr",
          "text": [
            "Training: 100%|██████████| 173/173 [00:45<00:00,  3.83it/s]\n"
          ]
        },
        {
          "output_type": "stream",
          "name": "stdout",
          "text": [
            "✅ Training Loss: 3.4973\n"
          ]
        },
        {
          "output_type": "stream",
          "name": "stderr",
          "text": [
            "Validation: 100%|██████████| 37/37 [00:03<00:00, 12.01it/s]\n"
          ]
        },
        {
          "output_type": "stream",
          "name": "stdout",
          "text": [
            "🧪 Validation Loss: 3.5629\n",
            "💾 Saved checkpoint to /content/drive/MyDrive/VideoCaptioning/msvd_split/checkpoints/checkpoint_epoch_20.pt\n",
            "\n",
            "🚀 Epoch [21/30]\n"
          ]
        },
        {
          "output_type": "stream",
          "name": "stderr",
          "text": [
            "Training: 100%|██████████| 173/173 [00:45<00:00,  3.83it/s]\n"
          ]
        },
        {
          "output_type": "stream",
          "name": "stdout",
          "text": [
            "✅ Training Loss: 3.4581\n"
          ]
        },
        {
          "output_type": "stream",
          "name": "stderr",
          "text": [
            "Validation: 100%|██████████| 37/37 [00:02<00:00, 12.72it/s]\n"
          ]
        },
        {
          "output_type": "stream",
          "name": "stdout",
          "text": [
            "🧪 Validation Loss: 3.6567\n",
            "💾 Saved checkpoint to /content/drive/MyDrive/VideoCaptioning/msvd_split/checkpoints/checkpoint_epoch_21.pt\n",
            "\n",
            "🚀 Epoch [22/30]\n"
          ]
        },
        {
          "output_type": "stream",
          "name": "stderr",
          "text": [
            "Training: 100%|██████████| 173/173 [00:45<00:00,  3.80it/s]\n"
          ]
        },
        {
          "output_type": "stream",
          "name": "stdout",
          "text": [
            "✅ Training Loss: 3.4201\n"
          ]
        },
        {
          "output_type": "stream",
          "name": "stderr",
          "text": [
            "Validation: 100%|██████████| 37/37 [00:02<00:00, 12.65it/s]\n"
          ]
        },
        {
          "output_type": "stream",
          "name": "stdout",
          "text": [
            "🧪 Validation Loss: 3.7579\n",
            "💾 Saved checkpoint to /content/drive/MyDrive/VideoCaptioning/msvd_split/checkpoints/checkpoint_epoch_22.pt\n",
            "\n",
            "🚀 Epoch [23/30]\n"
          ]
        },
        {
          "output_type": "stream",
          "name": "stderr",
          "text": [
            "Training: 100%|██████████| 173/173 [00:45<00:00,  3.82it/s]\n"
          ]
        },
        {
          "output_type": "stream",
          "name": "stdout",
          "text": [
            "✅ Training Loss: 3.4468\n"
          ]
        },
        {
          "output_type": "stream",
          "name": "stderr",
          "text": [
            "Validation: 100%|██████████| 37/37 [00:02<00:00, 12.72it/s]\n"
          ]
        },
        {
          "output_type": "stream",
          "name": "stdout",
          "text": [
            "🧪 Validation Loss: 3.7223\n",
            "💾 Saved checkpoint to /content/drive/MyDrive/VideoCaptioning/msvd_split/checkpoints/checkpoint_epoch_23.pt\n",
            "\n",
            "🚀 Epoch [24/30]\n"
          ]
        },
        {
          "output_type": "stream",
          "name": "stderr",
          "text": [
            "Training: 100%|██████████| 173/173 [00:45<00:00,  3.84it/s]\n"
          ]
        },
        {
          "output_type": "stream",
          "name": "stdout",
          "text": [
            "✅ Training Loss: 3.4623\n"
          ]
        },
        {
          "output_type": "stream",
          "name": "stderr",
          "text": [
            "Validation: 100%|██████████| 37/37 [00:03<00:00, 11.72it/s]\n"
          ]
        },
        {
          "output_type": "stream",
          "name": "stdout",
          "text": [
            "🧪 Validation Loss: 3.5812\n",
            "💾 Saved checkpoint to /content/drive/MyDrive/VideoCaptioning/msvd_split/checkpoints/checkpoint_epoch_24.pt\n",
            "\n",
            "🚀 Epoch [25/30]\n"
          ]
        },
        {
          "output_type": "stream",
          "name": "stderr",
          "text": [
            "Training: 100%|██████████| 173/173 [00:45<00:00,  3.81it/s]\n"
          ]
        },
        {
          "output_type": "stream",
          "name": "stdout",
          "text": [
            "✅ Training Loss: 3.4673\n"
          ]
        },
        {
          "output_type": "stream",
          "name": "stderr",
          "text": [
            "Validation: 100%|██████████| 37/37 [00:02<00:00, 12.37it/s]\n"
          ]
        },
        {
          "output_type": "stream",
          "name": "stdout",
          "text": [
            "🧪 Validation Loss: 3.7081\n",
            "💾 Saved checkpoint to /content/drive/MyDrive/VideoCaptioning/msvd_split/checkpoints/checkpoint_epoch_25.pt\n",
            "\n",
            "🚀 Epoch [26/30]\n"
          ]
        },
        {
          "output_type": "stream",
          "name": "stderr",
          "text": [
            "Training: 100%|██████████| 173/173 [00:45<00:00,  3.81it/s]\n"
          ]
        },
        {
          "output_type": "stream",
          "name": "stdout",
          "text": [
            "✅ Training Loss: 3.4777\n"
          ]
        },
        {
          "output_type": "stream",
          "name": "stderr",
          "text": [
            "Validation: 100%|██████████| 37/37 [00:02<00:00, 12.60it/s]\n"
          ]
        },
        {
          "output_type": "stream",
          "name": "stdout",
          "text": [
            "🧪 Validation Loss: 3.5719\n",
            "💾 Saved checkpoint to /content/drive/MyDrive/VideoCaptioning/msvd_split/checkpoints/checkpoint_epoch_26.pt\n",
            "\n",
            "🚀 Epoch [27/30]\n"
          ]
        },
        {
          "output_type": "stream",
          "name": "stderr",
          "text": [
            "Training: 100%|██████████| 173/173 [00:45<00:00,  3.84it/s]\n"
          ]
        },
        {
          "output_type": "stream",
          "name": "stdout",
          "text": [
            "✅ Training Loss: 3.4967\n"
          ]
        },
        {
          "output_type": "stream",
          "name": "stderr",
          "text": [
            "Validation: 100%|██████████| 37/37 [00:02<00:00, 12.62it/s]\n"
          ]
        },
        {
          "output_type": "stream",
          "name": "stdout",
          "text": [
            "🧪 Validation Loss: 3.5403\n",
            "💾 Saved checkpoint to /content/drive/MyDrive/VideoCaptioning/msvd_split/checkpoints/checkpoint_epoch_27.pt\n",
            "\n",
            "🚀 Epoch [28/30]\n"
          ]
        },
        {
          "output_type": "stream",
          "name": "stderr",
          "text": [
            "Training: 100%|██████████| 173/173 [00:45<00:00,  3.79it/s]\n"
          ]
        },
        {
          "output_type": "stream",
          "name": "stdout",
          "text": [
            "✅ Training Loss: 3.4342\n"
          ]
        },
        {
          "output_type": "stream",
          "name": "stderr",
          "text": [
            "Validation: 100%|██████████| 37/37 [00:03<00:00, 12.13it/s]\n"
          ]
        },
        {
          "output_type": "stream",
          "name": "stdout",
          "text": [
            "🧪 Validation Loss: 3.7532\n",
            "💾 Saved checkpoint to /content/drive/MyDrive/VideoCaptioning/msvd_split/checkpoints/checkpoint_epoch_28.pt\n",
            "\n",
            "🚀 Epoch [29/30]\n"
          ]
        },
        {
          "output_type": "stream",
          "name": "stderr",
          "text": [
            "Training: 100%|██████████| 173/173 [00:44<00:00,  3.85it/s]\n"
          ]
        },
        {
          "output_type": "stream",
          "name": "stdout",
          "text": [
            "✅ Training Loss: 3.3683\n"
          ]
        },
        {
          "output_type": "stream",
          "name": "stderr",
          "text": [
            "Validation: 100%|██████████| 37/37 [00:03<00:00, 12.14it/s]\n"
          ]
        },
        {
          "output_type": "stream",
          "name": "stdout",
          "text": [
            "🧪 Validation Loss: 3.6823\n",
            "💾 Saved checkpoint to /content/drive/MyDrive/VideoCaptioning/msvd_split/checkpoints/checkpoint_epoch_29.pt\n",
            "\n",
            "🚀 Epoch [30/30]\n"
          ]
        },
        {
          "output_type": "stream",
          "name": "stderr",
          "text": [
            "Training: 100%|██████████| 173/173 [00:44<00:00,  3.85it/s]\n"
          ]
        },
        {
          "output_type": "stream",
          "name": "stdout",
          "text": [
            "✅ Training Loss: 3.4228\n"
          ]
        },
        {
          "output_type": "stream",
          "name": "stderr",
          "text": [
            "Validation: 100%|██████████| 37/37 [00:02<00:00, 12.62it/s]\n"
          ]
        },
        {
          "output_type": "stream",
          "name": "stdout",
          "text": [
            "🧪 Validation Loss: 3.5996\n",
            "💾 Saved checkpoint to /content/drive/MyDrive/VideoCaptioning/msvd_split/checkpoints/checkpoint_epoch_30.pt\n"
          ]
        }
      ]
    },
    {
      "cell_type": "code",
      "source": [
        "import os\n",
        "import json\n",
        "import numpy as np\n",
        "import torch\n",
        "from torch.utils.data import DataLoader\n",
        "from nltk.translate.bleu_score import corpus_bleu\n",
        "from drive.MyDrive.VideoCaptioning.S2VTModel_Attention import S2VTModel\n",
        "\n",
        "# === Paths ===\n",
        "vocab_path = '/content/drive/MyDrive/VideoCaptioning/msvd_split/vocab.json'\n",
        "test_json_path = '/content/drive/MyDrive/VideoCaptioning/msvd_split/test/test_captions.json'\n",
        "test_feature_dir = '/content/drive/MyDrive/VideoCaptioning/msvd_split/test/features'\n",
        "checkpoint_path = '/content/drive/MyDrive/VideoCaptioning/msvd_split/checkpoints/checkpoint_epoch_30.pt'\n",
        "\n",
        "# === Load vocab ===\n",
        "with open(vocab_path, 'r') as f:\n",
        "    vocab = json.load(f)\n",
        "vocab_rev = {v: k for k, v in vocab.items()}\n",
        "vocab_size = len(vocab)\n",
        "\n",
        "# === Load model (must match training config) ===\n",
        "model = S2VTModel(\n",
        "    vocab_size=vocab_size,\n",
        "    max_len=45,\n",
        "    dim_hidden=1024,\n",
        "    dim_word=512,\n",
        "    dim_vid=2048,\n",
        "    sos_id=vocab['<SOS>'],\n",
        "    eos_id=vocab['<EOS>'],\n",
        "    n_layers=1,\n",
        "    rnn_cell='lstm',\n",
        "    rnn_dropout_p=0.3\n",
        ")\n",
        "\n",
        "# === Load checkpoint ===\n",
        "device = torch.device(\"cuda\" if torch.cuda.is_available() else \"cpu\")\n",
        "checkpoint = torch.load(checkpoint_path, map_location=device)\n",
        "model.load_state_dict(checkpoint['model_state_dict'])\n",
        "model = model.to(device)\n",
        "model.eval()\n",
        "\n",
        "# === Load test data ===\n",
        "test_dataset = VideoCaptionDataset(test_feature_dir, test_json_path, vocab, max_caption_length=45)\n",
        "test_loader = DataLoader(test_dataset, batch_size=1, shuffle=False)\n",
        "\n",
        "# === Inference + BLEU computation ===\n",
        "print(\"Evaluating on test set...\")\n",
        "\n",
        "all_references = []\n",
        "all_hypotheses = []\n",
        "\n",
        "with torch.no_grad():\n",
        "    for idx, (video_feats, captions) in enumerate(test_loader):\n",
        "        video_feats, captions = video_feats.to(device), captions.to(device)\n",
        "\n",
        "        # Model inference\n",
        "        _, predicted_ids = model(video_feats, mode='inference')  # [1, T]\n",
        "\n",
        "        # Decode generated caption\n",
        "        pred_tokens = []\n",
        "        for tok in predicted_ids[0]:\n",
        "            word = vocab_rev.get(int(tok), '<UNK>')\n",
        "            if word == '<EOS>':\n",
        "                break\n",
        "            if word not in ['<SOS>', '<PAD>']:\n",
        "                pred_tokens.append(word)\n",
        "        all_hypotheses.append(pred_tokens)\n",
        "\n",
        "        # Decode ground truth caption\n",
        "        ref_tokens = []\n",
        "        for tok in captions[0]:\n",
        "            word = vocab_rev.get(int(tok), '<UNK>')\n",
        "            if word == '<EOS>':\n",
        "                break\n",
        "            if word not in ['<SOS>', '<PAD>']:\n",
        "                ref_tokens.append(word)\n",
        "        all_references.append([ref_tokens])  # list of references per hypothesis\n",
        "\n",
        "        if idx < 5:\n",
        "            print(f\"\\nExample {idx + 1}\")\n",
        "            print(f\"Predicted    : {' '.join(pred_tokens)}\")\n",
        "            print(f\"Ground Truth : {' '.join(ref_tokens)}\")\n",
        "\n",
        "# === Compute BLEU score ===\n",
        "bleu_score = corpus_bleu(all_references, all_hypotheses)\n",
        "print(f\"\\nFinal BLEU-4 Score: {bleu_score:.4f}\")"
      ],
      "metadata": {
        "colab": {
          "base_uri": "https://localhost:8080/"
        },
        "id": "Mpr4DSIosEK0",
        "outputId": "992a09ec-c6e7-4a46-e1cd-440ae37798d3"
      },
      "execution_count": null,
      "outputs": [
        {
          "output_type": "stream",
          "name": "stderr",
          "text": [
            "/usr/local/lib/python3.11/dist-packages/torch/nn/modules/rnn.py:123: UserWarning: dropout option adds dropout after all but last recurrent layer, so non-zero dropout expects num_layers greater than 1, but got dropout=0.3 and num_layers=1\n",
            "  warnings.warn(\n"
          ]
        },
        {
          "output_type": "stream",
          "name": "stdout",
          "text": [
            "Evaluating on test set...\n",
            "\n",
            "Example 1\n",
            "Predicted    : a woman is cutting a potato\n",
            "Ground Truth : a women is presenting a cookery show\n",
            "\n",
            "Example 2\n",
            "Predicted    : a dog is eating\n",
            "Ground Truth : very brilliant badgers\n",
            "\n",
            "Example 3\n",
            "Predicted    : a man is cutting a potato\n",
            "Ground Truth : a man is slicing mushroom with a knife\n",
            "\n",
            "Example 4\n",
            "Predicted    : a man is cutting a potato\n",
            "Ground Truth : two women touching lobsters\n",
            "\n",
            "Example 5\n",
            "Predicted    : a woman is dancing\n",
            "Ground Truth : two girls are kissing\n",
            "\n",
            "Final BLEU-4 Score: 0.2258\n"
          ]
        }
      ]
    },
    {
      "cell_type": "code",
      "source": [
        "import os\n",
        "import torch\n",
        "import torch.nn.functional as F\n",
        "import torchvision.transforms as transforms\n",
        "import subprocess\n",
        "import tempfile\n",
        "import glob\n",
        "from PIL import Image\n",
        "import numpy as np\n",
        "\n",
        "from moviepy.editor import VideoFileClip\n",
        "\n",
        "video_path = '/content/drive/MyDrive/VideoCaptioning/YouTubeClips/-8y1Q0rA3n8_108_115.avi'\n",
        "\n",
        "def extract_frames_ffmpeg(video_path, output_dir, frame_rate=1):\n",
        "    os.makedirs(output_dir, exist_ok=True)\n",
        "    cmd = [\n",
        "        'ffmpeg', '-i', video_path, '-vf', f\"fps={frame_rate},scale=224:224\",\n",
        "        os.path.join(output_dir, '%06d.jpg'), '-hide_banner', '-loglevel', 'error'\n",
        "    ]\n",
        "    subprocess.run(cmd)\n",
        "\n",
        "def load_and_sample_frames(frame_dir, n_frames=40):\n",
        "    transform = transforms.Compose([\n",
        "        transforms.ToTensor(),\n",
        "        transforms.Normalize(mean=[0.485, 0.456, 0.406], std=[0.229, 0.224, 0.225])\n",
        "    ])\n",
        "\n",
        "    frames = sorted(glob.glob(os.path.join(frame_dir, '*.jpg')))\n",
        "    total = len(frames)\n",
        "    if total == 0:\n",
        "        raise ValueError(\"No frames extracted\")\n",
        "\n",
        "    indices = np.linspace(0, total - 1, min(n_frames, total)).astype(int)\n",
        "    sampled = [frames[i] for i in indices]\n",
        "\n",
        "    images = [transform(Image.open(f).convert('RGB')) for f in sampled]\n",
        "    return torch.stack(images)  # [T, 3, H, W]\n",
        "\n",
        "def extract_video_tensor(video_path, n_frames=40):\n",
        "    with tempfile.TemporaryDirectory() as tmpdir:\n",
        "        extract_frames_ffmpeg(video_path, tmpdir)\n",
        "        tensor = load_and_sample_frames(tmpdir, n_frames)\n",
        "    return tensor\n",
        "\n",
        "def generate_caption_from_video(video_path, model, feature_extractor, vocab_rev, device, max_len=45):\n",
        "    model.eval()\n",
        "    model.to(device)\n",
        "\n",
        "    video_tensor = extract_video_tensor(video_path).to(device)  # [T, 3, 224, 224]\n",
        "    with torch.no_grad():\n",
        "        features = feature_extractor(video_tensor)  # e.g. ResNet: [T, 2048]\n",
        "        features = features.unsqueeze(0)  # Add batch dim: [1, T, 2048]\n",
        "        _, predicted_ids = model(features, mode='inference')\n",
        "\n",
        "    tokens = []\n",
        "    for idx in predicted_ids[0]:\n",
        "        word = vocab_rev.get(int(idx), '<UNK>')\n",
        "        if word == '<EOS>':\n",
        "            break\n",
        "        if word not in ['<SOS>', '<PAD>']:\n",
        "            tokens.append(word)\n",
        "\n",
        "    return ' '.join(tokens)\n"
      ],
      "metadata": {
        "colab": {
          "base_uri": "https://localhost:8080/"
        },
        "id": "Kn3ByhCr8_pB",
        "outputId": "58b23827-7f38-476e-ea2d-73203f36951f"
      },
      "execution_count": null,
      "outputs": [
        {
          "output_type": "stream",
          "name": "stderr",
          "text": [
            "WARNING:py.warnings:/usr/local/lib/python3.11/dist-packages/moviepy/video/io/sliders.py:61: SyntaxWarning: \"is\" with a literal. Did you mean \"==\"?\n",
            "  if event.key is 'enter':\n",
            "\n"
          ]
        }
      ]
    },
    {
      "cell_type": "code",
      "source": [
        "import pretrainedmodels\n",
        "from pretrainedmodels import utils\n",
        "from drive.MyDrive.VideoCaptioning.S2VTModel_Attention import S2VTModel\n",
        "import torch\n",
        "import json\n",
        "\n",
        "\n",
        "# Load ResNet152 and remove final classification layer\n",
        "resnet = pretrainedmodels.resnet152(pretrained='imagenet')\n",
        "resnet.last_linear = utils.Identity()  # Remove classification head\n",
        "feature_extractor = resnet.cuda().eval()\n",
        "load_image_fn = utils.LoadTransformImage(resnet)\n",
        "\n",
        "\n",
        "\n",
        "with open('/content/drive/MyDrive/VideoCaptioning/msvd_split/vocab.json', 'r') as f:\n",
        "    vocab = json.load(f)\n",
        "\n",
        "vocab_rev = {v: k for k, v in vocab.items()}  # This is what you must pass\n",
        "\n",
        "\n",
        "\n",
        "checkpoint = torch.load('/content/drive/MyDrive/VideoCaptioning/msvd_split/checkpoints/checkpoint_epoch_30.pt', map_location='cuda')\n",
        "model = S2VTModel(\n",
        "    vocab_size=len(vocab),\n",
        "    max_len=45,\n",
        "    dim_hidden=1024,\n",
        "    dim_word=512,\n",
        "    dim_vid=2048,\n",
        "    sos_id=vocab['<SOS>'],\n",
        "    eos_id=vocab['<EOS>'],\n",
        "    n_layers=1,\n",
        "    rnn_cell='lstm',\n",
        "    rnn_dropout_p=0.3\n",
        ")\n",
        "model.load_state_dict(checkpoint['model_state_dict'])\n",
        "\n",
        "video_path = '/content/drive/MyDrive/VideoCaptioning/msvd_split/test/videos/-_hbPLsZvvo_19_25.avi'\n",
        "\n",
        "caption = generate_caption_from_video(\n",
        "    video_path=video_path,\n",
        "    model=model,\n",
        "    feature_extractor=feature_extractor,\n",
        "    vocab_rev=vocab_rev,\n",
        "    device=torch.device('cuda')\n",
        ")\n",
        "\n",
        "print(\"🎬 Generated Caption:\", caption)"
      ],
      "metadata": {
        "colab": {
          "base_uri": "https://localhost:8080/"
        },
        "id": "jkvMExP-9vSQ",
        "outputId": "6ddaf30a-0526-41c3-ec83-e26c8c46c350"
      },
      "execution_count": null,
      "outputs": [
        {
          "output_type": "stream",
          "name": "stderr",
          "text": [
            "WARNING:py.warnings:/usr/local/lib/python3.11/dist-packages/torchvision/models/_utils.py:208: UserWarning: The parameter 'pretrained' is deprecated since 0.13 and may be removed in the future, please use 'weights' instead.\n",
            "  warnings.warn(\n",
            "\n",
            "WARNING:py.warnings:/usr/local/lib/python3.11/dist-packages/torchvision/models/_utils.py:223: UserWarning: Arguments other than a weight enum or `None` for 'weights' are deprecated since 0.13 and may be removed in the future. The current behavior is equivalent to passing `weights=None`.\n",
            "  warnings.warn(msg)\n",
            "\n",
            "WARNING:py.warnings:/usr/local/lib/python3.11/dist-packages/torch/nn/modules/rnn.py:123: UserWarning: dropout option adds dropout after all but last recurrent layer, so non-zero dropout expects num_layers greater than 1, but got dropout=0.3 and num_layers=1\n",
            "  warnings.warn(\n",
            "\n"
          ]
        },
        {
          "output_type": "stream",
          "name": "stdout",
          "text": [
            "🎬 Generated Caption: a woman is slicing a potato\n"
          ]
        }
      ]
    }
  ]
}